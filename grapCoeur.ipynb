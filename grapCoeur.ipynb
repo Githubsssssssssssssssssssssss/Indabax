{
 "cells": [
  {
   "cell_type": "markdown",
   "metadata": {},
   "source": [
    "Fonction"
   ]
  },
  {
   "cell_type": "code",
   "execution_count": null,
   "metadata": {},
   "outputs": [
    {
     "name": "stderr",
     "output_type": "stream",
     "text": [
      "[nltk_data] Downloading package stopwords to\n",
      "[nltk_data]     C:\\Users\\STEEVE\\AppData\\Roaming\\nltk_data...\n",
      "[nltk_data]   Package stopwords is already up-to-date!\n"
     ]
    },
    {
     "data": {
      "text/plain": [
       "<wordcloud.wordcloud.WordCloud at 0x21fdeebe3b0>"
      ]
     },
     "execution_count": 1,
     "metadata": {},
     "output_type": "execute_result"
    }
   ],
   "source": [
    "import plotly.express as px\n",
    "from wordcloud import WordCloud\n",
    "import nltk\n",
    "import string\n",
    "import numpy as np\n",
    "from PIL import Image\n",
    "import pandas as pd\n",
    "from wordcloud import STOPWORDS\n",
    "from nltk.corpus import stopwords\n",
    "\n",
    "\n",
    "stopwords_custom = set(STOPWORDS)\n",
    "stopwords_custom.update([\"autre\", \"raison\", \"non\", \"don\", \"de\", \"la\", \"le\", \"et\"])\n",
    "WordCloud(..., stopwords=stopwords_custom)\n",
    "\n",
    "def generate_wordcloud(column_data, colormap='Reds', mask_path=None):\n",
    "\n",
    "    # Étape 1 : Nettoyer les données en supprimant les NaN\n",
    "    cleaned_data = column_data.dropna().astype(str)\n",
    "    \n",
    "    # Étape 2 : Concaténer tout le texte en une seule chaîne\n",
    "    texte = \" \".join(cleaned_data)\n",
    "    \n",
    "    # Étape 3 : Nettoyer le texte (minuscules + suppression ponctuation)\n",
    "    texte_nettoye = texte.lower().translate(str.maketrans('', '', string.punctuation))\n",
    "    \n",
    "    # Étape 4 : Filtrer les stopwords\n",
    "    stop_words = set(stopwords.words('french'))\n",
    "    mots = texte_nettoye.split()\n",
    "    mots_filtres = [mot for mot in mots if mot not in stop_words]\n",
    "    texte_filtre = ' '.join(mots_filtres)\n",
    "    \n",
    "    # Étape 5 : Charger le masque si fourni, sinon utiliser None\n",
    "    mask = None\n",
    "    if mask_path:\n",
    "        mask = np.array(Image.open(mask_path))\n",
    "        mask = 255 - mask  # Inverser le masque (fond noir, forme blanche)\n",
    "    \n",
    "    # Étape 6 : Générer le word cloud\n",
    "    wordcloud = WordCloud(\n",
    "        width=800,\n",
    "        height=800,\n",
    "        background_color='white',\n",
    "        mask=mask,\n",
    "        colormap=colormap\n",
    "    ).generate(texte_filtre)\n",
    "    \n",
    "    # Étape 7 : Convertir en image et créer la figure Plotly\n",
    "    image_wc = wordcloud.to_array()\n",
    "    fig = px.imshow(image_wc)\n",
    "    fig.update_layout(\n",
    "\n",
    "        xaxis_visible=False,\n",
    "        yaxis_visible=False,\n",
    "        margin=dict(l=0, r=0, t=50, b=0)\n",
    "    )\n",
    "    \n",
    "    return fig\n"
   ]
  },
  {
   "cell_type": "code",
   "execution_count": 2,
   "metadata": {},
   "outputs": [],
   "source": [
    "# Charger le DataFrame\n",
    "df = pd.read_excel(\"last.xlsx\")"
   ]
  },
  {
   "cell_type": "markdown",
   "metadata": {},
   "source": [
    "Nuage de Mots pour les raisons de Temporarairement non eligible"
   ]
  },
  {
   "cell_type": "code",
   "execution_count": 3,
   "metadata": {},
   "outputs": [],
   "source": [
    "# Tester avec une autre palette, par exemple 'Blues', sans masque\n",
    "fig = generate_wordcloud(\n",
    "    column_data = df[df['ÉLIGIBILITÉ_AU_DON.'] == 'Temporairement Non-eligible']['Raison_indisponibilité_fusionnée'].dropna(),\n",
    "    colormap='Reds',\n",
    "    mask_path='heart.png'\n",
    ")\n",
    "\n"
   ]
  },
  {
   "cell_type": "markdown",
   "metadata": {},
   "source": [
    "Nuage de Mots pour les raisons de temporairement  non eligible ; AUTRES RAISONS \n"
   ]
  },
  {
   "cell_type": "code",
   "execution_count": 4,
   "metadata": {},
   "outputs": [
    {
     "ename": "ValueError",
     "evalue": "Mime type rendering requires nbformat>=4.2.0 but it is not installed",
     "output_type": "error",
     "traceback": [
      "\u001b[1;31m---------------------------------------------------------------------------\u001b[0m",
      "\u001b[1;31mValueError\u001b[0m                                Traceback (most recent call last)",
      "Cell \u001b[1;32mIn[4], line 9\u001b[0m\n\u001b[0;32m      2\u001b[0m fig \u001b[38;5;241m=\u001b[39m generate_wordcloud(\n\u001b[0;32m      3\u001b[0m     column_data \u001b[38;5;241m=\u001b[39m df[df[\u001b[38;5;124m'\u001b[39m\u001b[38;5;124mÉLIGIBILITÉ_AU_DON.\u001b[39m\u001b[38;5;124m'\u001b[39m] \u001b[38;5;241m==\u001b[39m \u001b[38;5;124m'\u001b[39m\u001b[38;5;124mTemporairement Non-eligible\u001b[39m\u001b[38;5;124m'\u001b[39m][\u001b[38;5;124m'\u001b[39m\u001b[38;5;124mAutre raisons,  preciser\u001b[39m\u001b[38;5;124m'\u001b[39m]\u001b[38;5;241m.\u001b[39mdropna(),\n\u001b[0;32m      4\u001b[0m     colormap\u001b[38;5;241m=\u001b[39m\u001b[38;5;124m'\u001b[39m\u001b[38;5;124mReds\u001b[39m\u001b[38;5;124m'\u001b[39m,\n\u001b[0;32m      5\u001b[0m     mask_path\u001b[38;5;241m=\u001b[39m\u001b[38;5;124m'\u001b[39m\u001b[38;5;124mheart.png\u001b[39m\u001b[38;5;124m'\u001b[39m\n\u001b[0;32m      6\u001b[0m )\n\u001b[0;32m      8\u001b[0m \u001b[38;5;66;03m# Afficher le graphique\u001b[39;00m\n\u001b[1;32m----> 9\u001b[0m \u001b[43mfig\u001b[49m\u001b[38;5;241;43m.\u001b[39;49m\u001b[43mshow\u001b[49m\u001b[43m(\u001b[49m\u001b[43m)\u001b[49m\n",
      "File \u001b[1;32mc:\\Users\\STEEVE\\OneDrive\\Documents\\nump\\ISSEA_ISE2\\S_2\\Challenge_Indabax\\.venv\\lib\\site-packages\\plotly\\basedatatypes.py:3414\u001b[0m, in \u001b[0;36mBaseFigure.show\u001b[1;34m(self, *args, **kwargs)\u001b[0m\n\u001b[0;32m   3381\u001b[0m \u001b[38;5;250m\u001b[39m\u001b[38;5;124;03m\"\"\"\u001b[39;00m\n\u001b[0;32m   3382\u001b[0m \u001b[38;5;124;03mShow a figure using either the default renderer(s) or the renderer(s)\u001b[39;00m\n\u001b[0;32m   3383\u001b[0m \u001b[38;5;124;03mspecified by the renderer argument\u001b[39;00m\n\u001b[1;32m   (...)\u001b[0m\n\u001b[0;32m   3410\u001b[0m \u001b[38;5;124;03mNone\u001b[39;00m\n\u001b[0;32m   3411\u001b[0m \u001b[38;5;124;03m\"\"\"\u001b[39;00m\n\u001b[0;32m   3412\u001b[0m \u001b[38;5;28;01mimport\u001b[39;00m\u001b[38;5;250m \u001b[39m\u001b[38;5;21;01mplotly\u001b[39;00m\u001b[38;5;21;01m.\u001b[39;00m\u001b[38;5;21;01mio\u001b[39;00m\u001b[38;5;250m \u001b[39m\u001b[38;5;28;01mas\u001b[39;00m\u001b[38;5;250m \u001b[39m\u001b[38;5;21;01mpio\u001b[39;00m\n\u001b[1;32m-> 3414\u001b[0m \u001b[38;5;28;01mreturn\u001b[39;00m pio\u001b[38;5;241m.\u001b[39mshow(\u001b[38;5;28mself\u001b[39m, \u001b[38;5;241m*\u001b[39margs, \u001b[38;5;241m*\u001b[39m\u001b[38;5;241m*\u001b[39mkwargs)\n",
      "File \u001b[1;32mc:\\Users\\STEEVE\\OneDrive\\Documents\\nump\\ISSEA_ISE2\\S_2\\Challenge_Indabax\\.venv\\lib\\site-packages\\plotly\\io\\_renderers.py:425\u001b[0m, in \u001b[0;36mshow\u001b[1;34m(fig, renderer, validate, **kwargs)\u001b[0m\n\u001b[0;32m    420\u001b[0m     \u001b[38;5;28;01mraise\u001b[39;00m \u001b[38;5;167;01mValueError\u001b[39;00m(\n\u001b[0;32m    421\u001b[0m         \u001b[38;5;124m\"\u001b[39m\u001b[38;5;124mMime type rendering requires ipython but it is not installed\u001b[39m\u001b[38;5;124m\"\u001b[39m\n\u001b[0;32m    422\u001b[0m     )\n\u001b[0;32m    424\u001b[0m \u001b[38;5;28;01mif\u001b[39;00m \u001b[38;5;129;01mnot\u001b[39;00m nbformat \u001b[38;5;129;01mor\u001b[39;00m Version(nbformat\u001b[38;5;241m.\u001b[39m__version__) \u001b[38;5;241m<\u001b[39m Version(\u001b[38;5;124m\"\u001b[39m\u001b[38;5;124m4.2.0\u001b[39m\u001b[38;5;124m\"\u001b[39m):\n\u001b[1;32m--> 425\u001b[0m     \u001b[38;5;28;01mraise\u001b[39;00m \u001b[38;5;167;01mValueError\u001b[39;00m(\n\u001b[0;32m    426\u001b[0m         \u001b[38;5;124m\"\u001b[39m\u001b[38;5;124mMime type rendering requires nbformat>=4.2.0 but it is not installed\u001b[39m\u001b[38;5;124m\"\u001b[39m\n\u001b[0;32m    427\u001b[0m     )\n\u001b[0;32m    429\u001b[0m display_jupyter_version_warnings()\n\u001b[0;32m    431\u001b[0m ipython_display\u001b[38;5;241m.\u001b[39mdisplay(bundle, raw\u001b[38;5;241m=\u001b[39m\u001b[38;5;28;01mTrue\u001b[39;00m)\n",
      "\u001b[1;31mValueError\u001b[0m: Mime type rendering requires nbformat>=4.2.0 but it is not installed"
     ]
    }
   ],
   "source": [
    "# Tester avec une autre palette, par exemple 'Blues', sans masque\n",
    "fig = generate_wordcloud(\n",
    "    column_data = df[df['ÉLIGIBILITÉ_AU_DON.'] == 'Temporairement Non-eligible']['Autre raisons,  preciser'].dropna(),\n",
    "    colormap='Reds',\n",
    "    mask_path='heart.png'\n",
    ")\n",
    "\n",
    "# Afficher le graphique\n",
    "fig.show()"
   ]
  },
  {
   "cell_type": "code",
   "execution_count": 60,
   "metadata": {},
   "outputs": [],
   "source": [
    "import numpy as np\n",
    "import pandas as pd\n",
    "from PIL import Image, ImageDraw\n",
    "from wordcloud import WordCloud, STOPWORDS\n",
    "import plotly.express as px\n",
    "from collections import Counter\n",
    "import re\n",
    "\n",
    "def generate_blood_drop_wordcloud(series):\n",
    "\n",
    "    # -------------------------------------------------------------\n",
    "    # Sous-fonction : Créer un masque en forme de goutte de sang\n",
    "    # -------------------------------------------------------------\n",
    "    def create_drop_mask(width=800, height=800):\n",
    "        img = Image.new('L', (width, height), 0)\n",
    "        draw = ImageDraw.Draw(img)\n",
    "\n",
    "        x0, y0 = width // 2, height // 3\n",
    "        drop_width = width * 0.6\n",
    "        drop_height = height * 0.7\n",
    "\n",
    "        # Partie arrondie\n",
    "        draw.ellipse([x0 - drop_width/2, y0, x0 + drop_width/2, y0 + drop_height], fill=255)\n",
    "\n",
    "        # Triangle supérieur\n",
    "        triangle_height = height * 0.2\n",
    "        draw.polygon([\n",
    "            (x0, y0 - triangle_height),\n",
    "            (x0 - drop_width/4, y0),\n",
    "            (x0 + drop_width/4, y0)\n",
    "        ], fill=255)\n",
    "\n",
    "        return np.array(img)\n",
    "\n",
    "    # -------------------------------------------------------------\n",
    "    # Sous-fonction : Nettoyage et comptage des mots\n",
    "    # -------------------------------------------------------------\n",
    "    def get_word_frequencies(series):\n",
    "        # Nettoyage basique\n",
    "        text = ' '.join(series.dropna().astype(str).str.lower())\n",
    "        text = re.sub(r\"[^a-zàâäéèêëîïôöùûüç\\s\\-]\", \" \", text)\n",
    "        words = text.split()\n",
    "        return Counter(words)\n",
    "\n",
    "    # -------------------------------------------------------------\n",
    "    # Étapes principales\n",
    "    # -------------------------------------------------------------\n",
    "    # Masque goutte\n",
    "    mask = create_drop_mask()\n",
    "\n",
    "    # Fréquences de mots\n",
    "    frequencies = get_word_frequencies(series)\n",
    "\n",
    "    # Stopwords personnalisés\n",
    "    stopwords_custom = set(STOPWORDS)\n",
    "    stopwords_custom.update([\"autre\", \"raison\", \"non\", \"don\", \"de\", \"la\", \"le\", \"et\", \"l\", \"les\", \"des\", \"un\", \"une\", \"du\", \"en\", \"pour\"])\n",
    "\n",
    "    # Génération du nuage\n",
    "    wordcloud = WordCloud(\n",
    "        width=800,\n",
    "        height=800,\n",
    "        background_color='white',\n",
    "        mask=255 - mask,\n",
    "        colormap='Reds',\n",
    "        stopwords=stopwords_custom\n",
    "    ).generate_from_frequencies(frequencies)\n",
    "\n",
    "    # Affichage avec Plotly\n",
    "    image_wc = wordcloud.to_array()\n",
    "    fig = px.imshow(image_wc)\n",
    "    fig.update_layout(\n",
    "    \n",
    "        xaxis_visible=False,\n",
    "        yaxis_visible=False,\n",
    "        margin=dict(l=0, r=0, t=50, b=0)\n",
    "    )\n",
    "    fig.show()\n",
    "\n",
    "    return wordcloud\n"
   ]
  },
  {
   "cell_type": "markdown",
   "metadata": {},
   "source": [
    "Definitivement non eligible "
   ]
  },
  {
   "cell_type": "code",
   "execution_count": 80,
   "metadata": {},
   "outputs": [
    {
     "data": {
      "application/vnd.plotly.v1+json": {
       "config": {
        "plotlyServerURL": "https://plot.ly"
       },
       "data": [
        {
         "hovertemplate": "x: %{x}<br>y: %{y}<br>color: [%{z[0]}, %{z[1]}, %{z[2]}]<extra></extra>",
         "name": "0",
         "source": "data:image/png;base64,iVBORw0KGgoAAAANSUhEUgAAAyAAAAMgCAIAAABUEpE/AAC4KklEQVR4Xuzdd3gbRf4G8O+sJKu5dzuxE6f3QjqB0HvvvcMBRzkOjuM4ysEd/Uc9jt57J9QQUiGQkN57dRL3bllW187vDzmyNCqW5JUt2+/n4bnb/c7KlsaR9Xp2dpZxzgkAAAAAlCOJBQAAAADoHAQsAAAAAIUhYAEAAAAoDAELAAAAQGEIWAAAAAAKQ8ACAAAAUBgCFgAAAIDCELAAAAAAFIaABQAAAKAwBCwAAAAAhSFgAQAAACgMAQsAAABAYQhYAAAAAApDwAIAAABQGAIWAAAAgMIQsAAAAAAUhoAFAAAAoDAELAAAAACFIWABAAAAKAwBCwAAAEBhCFgAAAAACkPAAgAAAFAYAhYAAACAwhCwAAAAABSGgAUAAACgMAQsAAAAAIUhYAEAAAAoDAELAAAAQGEIWAAAAAAKQ8ACAAAAUBgCFgAAAIDCELAAAAAAFIaABQAAAKAwBCwAAAAAhSFgAQAAACgMAQsAAABAYQhYAAAAAApDwAIAAABQGAIWAAAAgMIQsAAAAAAUhoAFAAAAoDAELAAAAACFIWABAAAAKAwBCwAAAEBhCFgAAAAACkPAAgAAAFAYAhYAAACAwhCwAAAAABSGgAUAAACgMAQsAAAAAIUhYAEAAAAoDAELAAAAQGEIWAAAAAAKQ8ACAAAAUBgCFgAAAIDCELAAAAAAFIaABQAAAKAwBCwAAAAAhSFgAQAAACgMAQsAAABAYQhYAAAAAApDwAIAAABQGAIWAAAAgMIQsAAAAAAUhoAFAAAAoDAELAAAAACFIWABAAAAKAwBCwAAAEBhCFgAAAAACkPAAgAAAFAYAhYAAACAwhCwAAAAABSGgAUAAACgMAQsAAAAAIUhYAEAAAAoDAELAAAAQGEIWAAAAAAKQ8ACAAAAUBgCFgAAAIDCELAAAAAAFIaABQAAAKAwBCwAAAAAhSFgAQAAACgMAQsAAABAYQhYAAAAAApDwAIAAABQGAIWAAAAgMIQsAAAAAAUhoAFAAAAoDAELAAAAACFIWABAAAAKAwBCwAAAEBhCFgAAAAACkPAAgAAAFAYAhYAAACAwhCwAAAAABSGgAUAAACgMAQsAAAAAIUhYAEAAAAoDAELAAAAQGEIWAAAAAAKQ8ACAAAAUBgCFgAAAIDCELAAAAAAFIaABQAAAKAwBCwAAAAAhSFgAQAAACgMAQsAAABAYQhYAAAAAApDwAIAAABQGAIWAAAAgMIQsAAAAAAUhoAFAAAAoDAELAAAAACFIWABAAAAKAwBCwAAAEBhCFgAAAAACkPAAgAAAFAYAhYAAACAwhCwAAAAABSGgAUAAACgMAQsAAAAAIUhYAEAAAAoDAELAAAAQGEIWAAAAAAKQ8ACAAAAUBgCFgAAAIDCELAAAAAAFIaABQAAAKAwBCwAAAAAhSFgAQAAACgMAQsAAABAYQhYAAAAAApDwAIAAABQGAIWAAAAgMIQsAAAAAAUhoAFAAAAoDAELAAAAACFIWABAAAAKAwBCwAAAEBhCFgAAAAACkPAAgAAAFAYAhYAAACAwhCwAAAAABSGgAUAAACgMAQsAAAAAIUhYAEAAAAoDAELAAAAQGEIWAAAAAAKQ8ACAAAAUBgCFgAAAIDCELAAAAAAFIaABQAAAKAwBCwAAAAAhSFgAQAAACgMAQsAAABAYQhYAAAAAApDwAIAAABQGAIWAAAAgMIQsAAAAAAUhoAFAAAAoDAELAAAAACFIWABAAAAKAwBCwAAAEBhCFgAAAAACkPAAgAAAFAYAhYAAACAwhCwAAAAABSGgAUAAACgMAQsAAAAAIUhYAEAAAAoDAELAAAAQGEIWAAAAAAKQ8ACAAAAUBgCFgAAAIDCELAAAAAAFIaABQAAAKAwBCwAAAAAhSFgAQAAACgMAQsAAABAYQhYAAAAAApDwAIAAABQGAIWAAAAgMIQsAAAAAAUhoAFAAAAoDAELAAAAACFIWABAAAAKAwBCwAAAEBhCFgAAAAACkPAAgAAAFAYAhYAAACAwhCwAAAAABSGgAUAAACgMAQsAAAAAIUhYAEAAAAoDAELAAAAQGEIWAAAAAAKQ8ACAAAAUBgCFgAAAIDCELAAAAAAFIaABQAAAKAwBCwAAAAAhSFgAQAAACgMAQsAAABAYQhYAAAAAApDwAIAAABQGAIWAAAAgMIQsAAAAAAUhoAFAAAAoDAELAAAAACFIWABAAAAKAwBCwAAAEBhCFgA0FtwLlYAALoJAhYAJLS9L71av3SZWPVR9dPcpaec+WN+8Y8FA36ZMWv38y/KDqd4EABA12Icf/MBQKKy19UtGD2Ru1zJQ4fM+nWBpNUKB+x69oUdjz4hFDMmT5r29Wdqo1GoAwB0GYxgAUDiqpm/kLtcRKTNzQlMV/VLlwWmKyJqXL1m89//KVYBALoQAhYAJK6GpX94NvJPP9W/hYjzLfc+4NlUG40jH7xvykfvFl9xmadS9tkX5p272g8GAOhaarEAAJAwWrbv8GzkHH2UfwtVz1tg2rKViJgkTf3ik8xpU4go7+STmFq1/533ifPyr2YPv/fvwqMAALoGRrAAIHFZDh4kIpVOZxwyWGja//a7no2Cs8/0pCuPQTff6NloXLHKWwQA6GIIWACQuFwtLUSkKyxkkt8vK2t5Re2iXzzbg/7clqg8jIMHadLTiMi8a7dvHQCgKyFgAUDi4jInIpVRL9TLP/+CyzIRpY4ZnT5xgtCqy88nImdTk1AHAOgyCFgAkLjUyUYicplb/aqcH/joU89m0WUX+zURERHTqIlIdjjEBgCAroKABQCJy1BcTETWsnK31eot1sxfaNlXSkSSVtv/wgu8dS9PIAtc1gEAoMsgYAFA4kqfOJ6IuNNZMftbT4U7nTsef8qz3e/8cz3TrXxxWbZXVhGROjlZaAIA6DJYpgEAElfBWWfsf/cDItpy7wOOhkZtbs7BDz9u3riJiJhKNeSOW8UHEFn2lbptNiLSF/UX2wAAugoCFgAkruxZR2ZOm9KwYpXLbN72r3/7Ng249mrjoEG+FY+635Z6NpKHDvFvAQDoOjhFCAAJbeLrr+gKC4RixpTJI/91n1D0qJk337ORNXOGfwsAQNfBzZ4BINE5Ghp3P/t8zcLFjoYGfWFh4Tlnldx4g6RNEo8jstfWLhhzGHe5VDrd8ZvXaTLSxSMAALoEAhYA9B7OxqaWHTuJSJ2SnDp6lNgMANBVELAAAAAAFIY5WAAAAAAKQ8ACAAAAUBgCFgAAAIDCELAAAAAAFIaFRgGgh5HtDmtZmdNkclssaqNRnZqi718kJWnE4wAAug8CFgD0DK179h785POaefNbduzkLpdvk5SkSRkxPO+kE/tfdIGhZKBvEwBAt8AyDQCQ6Fwm07b/PHbg3Q+4LItt/phKNeDaq0fc/w/c6RkAuhcCFgAkNEdd/fLzLjJt3iI2hJY2bsy0Lz9LysoUGwAAugoCFgAktOVnX1D32++ebaZWZ06bmjljWvLgwZr0NEmndVuszqYm8+69DcuWNa5ey91uz5HZs46cPvvz9q8CANC1MAcLABJX1Q9zvOkq76QTRj/+iGFAsf8h7Vr37t1y7wM1CxYRUd2S36p+mJN/+qniQQAAXQLLNABA4ir/8mvPRt7JJ07+8N0w6YqIjIMGTfnkg7yTT/Tsln3xlX87AEDXQcACgMTVtH6DZ2PUIw8xqePfV0ySRj/ysGe7ed16vzYAgC7U8S8sAIDuYq+pISJ9v0JjSYnYFoKhZKC+qD8R2evqxDYAgK6CgAUAicuz2oI6LU1sCEuTmkpEaqNRbAAA6CoIWACQuPRFRUTkqKsXG8KyV9cQkWHAALEBAKCrIGABQOLKP/VkIrLX1Jh37xHbQjBt2eo5OZh36sliGwBAV0HAAoDEVXz5JZr0NCLa+cT/iW3BcFne/u9HiUiTkV585WViMwBAV0HAAoDEpc3LG//i80yjqZj97YZb7wh/rtB6sGz1FdfWLFjEVKrxzz+jzc4WjwAA6CpYyR0Aul/VnLliiRFjkqTVqvT65vUbttz/L+JcStJkzpiRNmGcccAAVbJRpdW6bTaXqaV1376mNWu9K7kf9uarheecJX5BAIAuhIAFAN3vh6wCsdQJklabPmli5rRpI+7/h9gGANAlELAAoPspG7C8Tq+vFEsAAF0Cc7AAAAAAFIYRLADofs5mk1hSgiYtVSwBAHQJBCwAAAAAheEUIQAAAIDCELAAAAAAFIaABQAAAKAwBCwAAAAAhanFAgBA4nHU1VfM/qZx1RprRYXL1OJZsb1DRy39RSwBAHQJBCwASGhclnc//+Kup5+V7Q6xDQAgUSFgAUBC2/6fx/b89yWxCgCQ2BCwACBxmbZs9U1XhoEDMqZMSsrKYiqVz1EAAAkHAQsAEteB9z7wbKgMhgkvvVBw5un+7QAACQpXEQJA4qr/Y4VnY/Tj/0G6AoAeBAELABKXrbyciFQ6Xf8LLxDbAAASGAIWACQut9VKRIYBxVKSRmwDAEhgCFgAkLiSsrOJKMJVrwAAEgcCFgAkLmNJCRFZyytkh1NsAwBIYAhYAJC4Cs44lYjcVmvNvPliGwBAAkPAAoDE1f+iC/T9Colo64MP2+vqxGYAgESFgAUAiUudmjrxtZfVRqNl/4GlJ59Ru+gX8QgAgITEOOdiDQCga1V8/Y1YIiIiplKpjEZrWfmWe+/zTMMyDCjOPvKI5OHDNOlpKp1OfIC/wnPPFksAAF0CAQsAut8PWQViSQmn11eKJQCALoFThAAAAAAKQ8ACAAAAUBhOEQJA95PtdrGkBEmrFUsAAF0CAQsAAABAYThFCAAAAKAwBCwAAAAAhSFgAQAAACgMAQsAAABAYQhYAAAAAApDwAIAAABQGAIWAAAAgMIQsAAAAAAUhoAFAAAAoDAELAAAAACFIWABAAAAKAwBCwAAAEBhCFgAAAAACkPAAgAAAFAYAhYAAACAwhCwAAAAABSGgAUAAACgMAQsAAAAAIUhYAEAAAAoDAELAAAAQGEIWAAAAAAKQ8ACAAAAUBgCFgAAAIDCELAAAAAAFIaABQAAAKAwBCwAAAAAhSFgAUBv5LDLS36Ql88X6wAAXUItFgAAej6+e5P87TuUki5NP0FsAwCIP4xgAUAvxHduFEsAAF0IAQsAeiG+c4NYAgDoQghYANDrmBp5dZlYBADoQghYANDbyFtXiyUAgK7FOOdiDQB6PWur6/4riYgNHq3687+JiFpN8spFfONy3lBNNiulpLOiwdJhR7Kx04WHhsIP7OLrlvLdm3hzA9ksZExhWfls5GHS5KMpLVM8WtDS5HroOiJiY6aqrrnHU+N1lfyP+XzXRt5UT3YrpaSzzFw2bDwbN53l9vN7uKmR79zAK0p5RSmv2E+tJr/WYNRPfkpqjVj11dIkr1nCt63htZVkbqYkLUvNYINGsQmHsyFjxYO9XE7XPRd7NlWX/5VNPMK/uZ38/XvyL98REcsvUt39vNhMne4TAOhWuIoQoE/znErjOze6P36BWpraGxpreWOte+NyNmSs6oo7KTm1vSmQudn95Wt80wq/oqmRmxr5vm3ygi+l48+Xjj2HGPM7IChTo+f/5Z8/k+d/Qb5/ATbW8sZavmeLpFIJYULeuFye/aZvpZPkX7+Xf/6M7Nb2ktXFra28uoz+mMeGjFVd9hdKzWhvjauY+gQAuhcCFkDfZm7m29e5332KnA4iotQMZkzl1lZqqvO0892b3K89rLrlP6Qz+D7OizfUyK89zOuq2vYZo/RspjNwc3NbYnPY5Tkf8aqDqktuJUnV/shguKmRiOTv3pV//b69qlKR2+3dY6Mmtzd5KjmFbMLM9v3qMl65n4hIrWFjprbXfbEQEyQ4l798zW8BrbRMZkghh5031pAsExHfvcn1/N9Vtz7KMnPbD4ub2PoEALoXAhZAX+d++3Fyu9lhR0onXcSyCzxFXlclf/cO37KaiHhFqfzjh9J5f/J7mIfLKb/7VFu6Umuk486TDj/JO9zFq8vk+V/wdb8TEV+7RM7Ilk69zOfBwbQ08nW/y79+TyqVNOVYNvko1m8QJWnJauZ1VXzLan5gJ8vrLzyIDR+vGj7euysvms1/3E9EpDeqrrjTW4+E/Mt3belKkqRZZ0izTqO0rLY2m1VesUD+6WNyOqi5QX7nSdUdT5Iq/r9FY+oTAOhe8f/VAAAJzu2Wph4rXXSLb41l56uu+Yf77Sf41tVEJP8xj806neUU+h5DRPLCr3n5PiIixlRX/52NPMy3leX1V13+VzkjR140m4jkRbPZmKmseKjvMSK32/3p/0inV113Hxs0sr2uT2ZFQ1jRkPZKHPC6Svmnjz3bqkv/Is6g0umlo85gef3dbzxCnty5YqF0+El+x8RDt/YJAMQmxCA5APQdao10+pVikYgYk865ru2kHud81S9CO7mc8tK5nk1p6nFCuvKSTrmkbXyFc0/S6oDLqTr/Jr8k0VX4kh/J7SIiNnKSmK4OYSMmeie580MvP+66r08AIDYIWAB9HRsylowpYpWIiFhmLisZ4dn2DGX54tvXea/XYzNP9m/0IanYjBM9m3zzSrKY/ZtFLLef34SqLiPL8ppfPJvSlKN9WwRsxATPBq864HdlQNx0W58AQKwQsAD6OlY0WCz5YINGeTZ4dRm5nL5NfO/Wtq3kNNavxLdJwIZPaNvinO/b5tsUiI2aHNH1hkrjlfvJduiywbDn3Vh6tneb11b4tMRLd/UJAMQMc7AA+ryMHLHio33elezmjbW+07B41YG2Y/KLvMWgWHYBqdSes2+8opSNniIe4YMVDhBLXaJtMhkREbkfvdmnJazWFrESB93VJwAQM4xgAfR1TG8US74MPq02S/s2UfvJPkPwM4ztJIm836XDRBL++cSPpaMnFpT/qF68dFefAECsMIIF0OeFP/ekTmrfdtjbt4nIbmvb0PgcEwJL0ratjymktEAdrZUVL94nxhjrN8ivKYwOw6UiuqtPACBWCFgAfZ5nidFQfENVkq59m4i0+rYNp3/wCoZ7v06IBUu7n/fVca66/bG4L3AlpFUA6F1wihCgr+Phh5R8L/rT+2cj46H755g7uvefLJO1tW27a4Z8YmBIbt82NbVvxwf3vQ8PAPQ6CFgAfV5dpVjx0X6VnErN/KfDe68c5NUHfeuBeG2FZ4Y7JfB8bZZf7N3mZbt9WqLhewceLrdvB6oN1+0A0NMhYAH0dfzALrHkg+/d4tlg+UXCWTM2uG0FB2pt4WV7fJsEfMf6ti3G2MC2hbXiyDurTA4bcfyx4iGkbTtLKG/0v3F15FQqUms8mzzMdH6Hve1uiQDQSyFgAfR1fP9OaqwVq0RExOsq+f6dnm02erJ/I7GhYymjbUWocGuay25+6N7JbPhE750K48g7OczSEsVUJ0klTTzSs8k3LOPVZf7NkWLpbfcu9HZdIL7hjw6mvgFAD4eABdDnybJ79lvE2y7ya8e5PPvttkEgSWKTjxbaSVJJR5/l2ZRXLeZbVvk3t5F/+sQbVqRj2o6Pq/bFujjn29b4tYXFjj2nbZTO7ZLffYqa68UjfJkayBpsVfpDQ3R80woe9PRrc4N7zkdiEQB6FwQsACC+ZZX7zcd8T1rx+ir3O0/w7Ws9u9LhJ7OsfG+rlzTzlLYb83Hufu9p+efPyNzsbeU1Fe6PXvDef1A6/CQ2ZIy3NX7YgGHeaxXd37zNd2zwa+Y81P1tWFaedPa1nm1eU+56+k55/pe86gC53URtD+R7tsiLZrtfe9j1nxt5TZBl3Ntvs+Nyyq/9m+/e1B5enQ6+7nfXi/eSqYFUWHkBoDeL83XIAJDwpDOvln94n29f696+lpLTWEo6t1l8TxqyfiXSqZf6PMIHY6or7nS/8Qgv20Nulzzvc3n+Fywjh7R63moiU2P7gSMnSWdd4/PIeErSSseeLc/5mIjI1Oh+/d+kN7KMHJJlbjWTuZl0BvW/3xUe5CEdfhKZm+V5nxPnZDHLcz+huZ8QEak1Ea4pyoaMZWOn8U0riIg31LhfeYiMKSw1k5wO3lTn+SIsO1864QL3Jy+KDwaA3gIBC6CvYyUjVFfe5f78FbKYydzMfYagiIgNHau64s72WU2BklNVf35Y/uZtedVi4pw45w01fgeoNdKs06VTLiWp64bMpWPPpYZa+dDcL7K2cu86ER2RTryQ9SuRv3uX11W1VwPTVUZ2+0IV/lSX3O6Wn28/Z9ra4jvhnRUNlq64kyjs+q4A0MMhYAH0eRYzGztdXTJSXr6Ab17JG6rJbqPkNFY0RJp0JBs7XTw+kFYvXXQLO/I0vmYJ37mBN9WR3UbGFJaVx4ZPlCYfFf52h3HBmHTBTWzSLHnFQirdzk2N5HKR3sCMKZRXzAYOE4/3x0ZPUY2cxDev4NvW8v07eUsT2Syk1pAxleUUsqIhbPh4NmhUyEXwtTrVtf/gOzbIq3+h/Tt5SyPJMqWks4IB0oSZbOJMklTEOWmSMNUdoLdiPHBmKwD0etZW1/1XejZV19zDxkz1bwYAgE7puhF7AAAAgD4CAQsAAABAYQhYAAAAAApDwAIAAABQGAIWAAAAgMIQsAAAAAAUhoAFAAAAoDAELAAAAACFYaFRAAAAAIVhBAsAAABAYQhYAAAAAApDwAIAAABQGAIWAAAAgMIQsAAAAAAUhoAFAAAAoDAELAAAAACFIWABAAAAKAwBCwAAAEBhCFgAAAAACkPAAgAAAFAYAhYAAACAwhCwAAAAABSGgAUAAACgMAQsAAAAAIUhYAEAAAAoDAELAAAAQGEIWAAAAAAKQ8ACAAAAUBgCFgAAAIDCELAAAAAAFIaABQAAAKAwBCwAAAAAhSFgAQAAACgMAQsAAABAYQhYAAAAAApDwAIAAABQGAIWAAAAgMIQsAAAAAAUphYLAACQqCo2b310/OFclr2VWX++4eKXnvE5BAASAkawAAB6jNl/f8A3XWUU9T/zkQd82gEgUSBgAQD0DDsXL9ny03zvrkqjufaTtw0Z6e1HAEDCQMACAOgBOOdf332/b+Wy1/87eOZ03woAJA7MwQLobVZ/8qWpukatTZp18/ViW2Lruc+8C/z60hsH1qz37p72r3unX31ZezMAJBjGORdrANBjuRyOv2UUOSxWfVrqM01lYnMC67nPvAvU79v/n7HTHK0Wz+7J//zbmY8+6H8IACQWjGAB9Cp7ly53WKxitSfouc883jjnH1z7Z2+6Ov3hf5764D/8DwGAhIOABdCrbJu/WCz1ED33mcfb9vmLd/7yGxGpNJrL3/zftCsvEY8AgMSDgAXQq2yfv0gs9RA995nH28gTj32Zm8QqACQ2XEUI0HtYGpsOrN0gVnuCnvvMAQCCQsAC6D12LPzFdxXKHqTnPnMAgKBwihCgl3A5HBu/myNWFVK3t3Tr3PkH1m4oW7+xubLa2tTkdrp0qSm61JTcoYP7jx87/LijR55wDJNi+Zstrs+ciGwt5m0/L9j4/U8Vm7e2VNeaa+skjTqtIL/fuDEjTzhm0kXnJfJanXv/WLlh9vd7l62o3b3X0tgkqVUpebnp/QqHHzNr9KknlkyfIj4AABIDlmkA6KnMtXVlGzaVbdhcvmHTwfWbqrfvdDud4kFhPddSqU02ilUfrQ2NS994d+VHn1ds2iK2BUjvV3jmIw9EsjhTFzxzD5fdvvDZ/8197Gm7uVVsO0Sj1x99242nPfiPJKNBbAtwV3p/a3PbdKhxZ5120zef+LcH99MjT33/wCPe3Yd3rc8ZMsinPbhdv/7+9d/u2796ndjgY/DM6ef83yODZkwVGwCgu2EEC6BHWvTcS1/eea9YVdSaz79+/+qbndZIl05oKq94/5qbty9YfNUHbzDGxOZDuuCZe9Ts2vPSqefV7t4rNvhzWq3zn3p+/dff3fTtpwWjRojN3YFz/t19/573xLMd/gG8Z+nyZ2aecPYTD5/w9zvENgDoVrGM5wNAt3Pa7WJJaQOnTnY7HGKVSKPXp/fvlztsSHJOtthGtPKjz+c8/IRY9dEFz5yIyjdufvbIkwLTlSEjPXfo4OTsLCEC1u7e+/TMEw4mxkT7j2647efHnxHSlS4lOWdwSeaAIo1e71vnnM++50HhLjoA0O0wggXQI/UbO3r6VZcKxR2LljQebFsDXaXRTLn0Av92kUoT7jdA1sDiwy44Z/WnXxJRcnbWmNNOGn3qicWTJmYPGuhNJ82VVWs++3ruY0+ba+u8D5z31PNH3nxdal6ut+KrC555a0Pj/04+11Rd461klQw4+d67xp99ujcUWptNm77/af7/vVC+cXNbpan5pdPOv3/T8uTsLO8Du96CZ15c9tb73l1dasqxf/nzpIvP846uyW73/lVrf3nx1dWffOkNYQue/u+AKYdNuvBc7wMBoHthDhZA7/Hq2Zds/PZHz7YiN5w5uG7Dt/c+dORN14094xRJpRKbD2k8WPbMESc2HGj/dmc9/tBJ/7jT55AOKPvM37ro6jWff+3dPeyCc65855WgU6zcTufXd9+/+IVXvJUJ55zxp68/8jnET7znYFVt3/n4xCOcNptnt2DUiD//+GXWwGL/o9qs/WL2O5dd752+pktNeXjX+pTcHP+jAKB74BQhAIRUNHH8rXNnjz/79DDpiogyivpf9uZLvpVdv/7uu9uVti9Y7Juuhsyaec1HbwZNV0Sk0mgueP7JqZdf5K2sn/39+tnf+xzSpT79853edGXISL/lp69DpSsiOuyCc0554O/eXZupZfF/X/VpB4DuhIAFAAoYecIxucOGeHfLN7Sdd+t6viFDUqkufukZlUbj0x7E+c89oUtN8e4ufPZ/Po1dp2Lz1p2Ll3h3T/vXvZnF/X3agzjx73f4rjGx5OU3XF0yxQ0AOoSABQDKGHLEDO92a32DT0vXaThQtvnHn727Y04/uXDMKJ/24JKzs4644Wrv7p7f/+iW2e5LXn7Tu51kNMy8/iqfxuDUWu3E887y7loam0pXrvFpB4Bug4AFAMpIKyzwbrscjsjXd1DQ9vmLfFeE9w0f4U08/2zf3Y3fx3Hh01B8V1sddvSRoU5rCgZMOcx3d/eSpb67ANBdELAAQBlCIJDd3XDrm33LV/nuDj92lu9uGAOnTfZ9/nuXLvdp7ApN5RVN5RXe3ciXaBfmy1ds3ua7CwDdBQELAHoP3xNkutSU9H6FPo3hMMbyRwzz7u5bvqqLr7AWomHO4OCXGQbSp6X57rbW1/vuAkB3CbeWDACAl8NiLVu/sWz9xsqtO1pqas119ZaGRofF4rDanFarw2J1Hbr8rRs1V1R6tyPPKB65Q4ccWLPes21rMduaTfp0v+wSV/WlB3x337702rcvvda3EqHWhkaxBADdAQELADqw6fufVnzw6eYf5zos3TCtKiqWpmbvtjYl2aelY8LxrQ2NXRmwLI1NYikmThuuIgRICAhYABBS2YZNn/75zr3LVogNCclubpVdLu+uLoK7QfvS+QcspRJPhKw+0RAAegEELAAIbtu8Ra+fd5nd3OpbZJJUMGpE4dhROYMHJedkG7MydcnGJKNBm5y87O0Plr7xru/BXUy4vWC0k6h8Lz+kgK8Wby7/2z7mDBmk1mp9KxHKHTpYLAFAd0DAAoAganfvfe2cS3zPCabm5510712TLjwnNT/P58B2m36YK5a6VpLRoE5K8iYVIRp2SDjedwHPTorktJ3w7a7+4I3ILyQEgASEgAUAQXx6y52+6WrIrJk3f/eZPi3V55BEZMhI997j2WZq8W/sgHC8ggHLbjaLpQDGzAzf3e5aqRUAlIJlGgBA1FRWvn3+Yu+uMSvzT1992GG6iiRGxFuGz71lavfsjeosYc2uPd5tbbJR19HrjVwk86uEccGG/X4XFQJAj4OABQCirfMW+UaTaVdekpyd5dMeXGtd96/ANGjGVO+23dzaeLDcpzEcLsvVO3Z6dwdOnRx0DhaT2n9nCnO2wqjesUssBfB95uS/oBcA9EQIWAAgairzyyWDD5/muxvKwXUbxVKXGzRzuu/u9gXt43Dh7f1jpe8p0RL/uOOlTW6/0tDeEtGInex2V27dLlYD5A4b4juItWPRksgDHAAkIAQsgN5D43Pdmcvh9GmJju9qUkRkzMr03Q2q8WBZ1bYdYjViSj3zkSccm2TQe3fXf/WtT2M467/+znd39Ckn+O56+a6MVbd3n09LSLuXLI1wNtiok4/3bjceLNv680KfRgDoYRCwAHoP33nZTqvV2mxqb4uGMN0qknyw4JkXo5rwJFDqmRsy0qdcdpF3d8tP8w+u2+DTHpy5tm7pm+95d/tPGDfYfyTMK9fnxn8NB8qE5deD+uOdD8VSCMf99Rbf3e/u/7fvsl4A0LMgYAH0HpkDi313Iz9BJsgaOMB3V7hNXqA9v/+x5OU3xWo0lHrmRHTM7Td5Z0pxzj+75S6XvYNVEr786z98Q+Qxt9/k0+hn4LTJvru/vvS6726gfctXrfzwM7EaQr9xY3wHsQ6u3fDV3+7zaQeAngQBC6D3GHLEDN/dOf9+0hnT/QGHHX2k7+7St94319b5Vnzt+vX318651O2M/bweKffMiahwzKgT/36Hd3fvHyvfuviaUGtiyS7Xl3feu/Kjz72VIUcePv2qS30O8TP29JN9dxc9//I2n8stBQfWrH/ljAujGti76H/P+A4fLn7hlfeu/FOHSza4nc4tP81/66Krt85dILYBQDdhUb35ASCRyW73Q8Mm1u0t9VYGTp103jOPDTp8mu/lb3Zza1N5RUt1zZBZM71FwfPHnLbzl9+8u/3GjbnqvVf7TxjncwjV7Nqz8Nn/LX3zPc+ZrNT8PFNVtbf1uZZKbcQ3q1HwmROR2+l8atqxvicHM4v7n3TvXRPOPTMlN8dTsbWYN/8wd95Tz5etb5+br0tJvm/j8iz/4TTBf084y3eATaXRHHfnrUfeeG1WSduwn+x271u+auUHny59631PzyTnZPsm1Id3rc/xOdUoWP/1d6+fd7lvRZ+WOu3KS0aeeFz+iGHJ2VnEmN1sbq1vqNm1p3r7zj1Ll+9astTRaiGiG2d/PP7s030fCwDdBQELoFdZ/t7H718tnuHSpSSnFuQzxhwWa2tDg+fDODUv94mq3cKRXnuXrXj2qFOEOUAFo0bkjxyu1ia1NjRWb9/pOwOpYNSI2+d/++CQCU5r27V4UQUsUu6ZezSVlT8z6+T6ffuFujEzw5idZW1qNtfVC5fp6VJT/vzDF0OOPNy3GKhyy7Ynpx4deN/r5OwsQ2aGo9Virqv3PSmZVTLgxq8/emziEd5K+IBFREvfePeTP98ZwwQsBCyAxIFThAC9yvSrLp15w9VC0dZirtm5u3rHrsaDZZ6M0qFBh0+78IUnhbWgKrduX/fVt6s+/mLr3AW+6ap40oQ7Fv+YVlgw7Oj2GBEtpZ65R3r/fncvWxB4t5nWhsaanbtbamqFdJVWWPDXxXM6TFdEVDB65FXvv67R6YS6ua6+ZufupvIK33SVWdz/tp+/6T9hnHfkLBIzb7j61p++imTtMQBIWAhYAL3NZa//97xnHotq9CioWX++4cZvPgl150EPdVLS8Xfd9rel8z0BYvQpJ4pHREOpZ+6Rmp931+/zzn36UeEuNAK1VnvSP+58aMfaosPGi20hTDzvrL/++lPRxA6On3zx+f9YvcRz9+WBUyeJzWGNOP6Yf+/ZeOoD90TYGwMmT7z45WdHHH+M2AAA3QSnCAF6J2tT84oPP9u5eEnZ+o2t9Q12c6s22WjISDdmZeaPGNZ/wrgBUw4belTHA04uu33Vx19s+Wn+gTXrzLV19laLRq9Ly8/LGzFs2NFHTr7k/PR+heJjOkepZ+7lsFjXffXtlp/mHVy7obGs3GV3GDMzUvPz8kcMG3P6yWNOOyl8Agtj2/zFm3+cu3fp8qbySktjk+x2GzLSc4cNGXrUEVMvvyh/xDDxAdGzm1t3LPp169wFB9asa6mpbamtczucSUaDIT0te/CgvOFDS6ZPGXHcUWmFBeIjAaBbIWABAAAAKAynCAEA4oVXlVsvOcp6yVG8Jfj9nt0bV1qvPdXx3INiQ/R4S3Pb96roePnTQLyl2XrtKdZLjnI8o+TiWwq+QICeBQELAKDbyBtXk7XVvWap2NDlXN98SFYLy87T3HiP2NYJifMCAboYAhYAQLeRxk0mvVE1s30B924hl+1zzZvNklOT/vYYS/a7UZKAN9Q533meN9WLDSEkyAsE6HpqsQAAAF1FNW6q/u05YrXLOd95nhmMSfc9KxUPFtv8udf94Zo3W3X8WSw9olUkEuQFAnQ9BCwAgL5O+8ALYikEedNqsQQAweAUIQBA3Piv1NpFJJVYUYrLKW9ZKxYBIBiMYAEAKEGWXQu/dy/+Ua7Yz1RqNmi4+vSLpaLgt8RxPPege+Wv3l2pf4n2/95tb/Yn79nmXrpA3rZBri4nh53pjazfANWMY9XHn0mqYL/DNRr32mWuHz/jpbu42y0VFquOOU193Jnkc1dHL/ngXtcPn8lb1/GmBpakZQMGq2edrDrqZGLtB/OqMue3H/LS3XJZKbmcRGT/+9XeViJSn3mp5pIbfStRvUCx6waP0Jx1mTT6MPs/b5D37dS9/h1LSSMislmt15xMRNqn3pWKSvy+wMF9nqekf2cu6fT+TR2/QIB4CPbmBACAqHDZ8cK/3CuXEBEzGCk5Rd6x0bF5jebC68QjiYhINXUWS03nLc1yeSkvKxWbfci7t9ofuLltR6tjGdm8uYHv2CTv2CRvWJn09yf8jiYiItfiH1xfvUdJWpaeRS3N8r6d8r6d8uY1SXc8LKQK18LvnW8/S7JMKhXLyOYtzXzbBse2DdIfi7R/e5w0Gs9hvKWZV1eS3igNHiHv2ERE0qDhpG3PMSxXXGw28hcYpOu2b7BvXpN0w91yTOtN+IrwBQLEAwIWAEBnueZ/6165hCQp6fq/qY46hSSJHHbX9586P39LPJSIiFQzj/dcWOda/IPz9f8Tm31IQ0apZp0kDRyqmnoUy8olInI5XT996fz4Vfe6P+Rt66WRE4SHuL5+X3P5LeqTziG1hmTZvWSu482n3SuXuBZ8pz7hbO9h8pa1zreeJbVKc+2d6qNP8QyGyZtWO15+TN64yvnxK5qrbvccKQ0drX3wBaL2MSTNTfcKY0iCyF9gqK5zvPF/1Ll1sCN/gQDxgDFSAIDOcs35nIjUJ52nOua0tjNxSVr1eVepphwpHBmDpJv/qT7lgrZ0RURqjfqMS6TBI4hI3rnF90gP1eHHqU+7kNQaIiJJUh19qvrk84jI9cNnvoc5P3mNuKy56Ab1cWd4TzVKYydrrriFiFwLvuOWVt/j4yRk102O4m5IQSXIC4Q+CwELAKBTeG0Vr64gosDVnlTT43X3ZZbfn4i4NUhECIwmnifGayp4bZWnwutr5D3biUg14zjfI4lIGjGeiMjl5Lu3Ck2Ki1/XJcgLhL4MpwgBADqFV5V7NqT+A/0aiFhBkVCJhd3mXrbQvXkNL9/PW5q41UpOh2eyedCTaCxPnBElFQ7wbPCqcpaTT0Ty/t2eiu2W87yHCbipUSwpLX5dlyAvEPoyBCwAgE7hdgsREWOk1QlNTG8QKtGSd2xyPPcAb24kJknFg6Qho5kxhbRa94aVvPKgeDQRETGNVixpdcQYcc7t1raK5+wYk1hBf5/j/PlMY48T5bouIGgmxguEvgwBCwCgU5jnc5pzctgpyS/ccIfddzdqdpvj2Qe4qVEaNSHptgd9F0/nzz3gDhGwuMMurr5ls3rGuph3CQNPfGGke/q9blywQLGusx0Kjl6J8QKhL8M/OwCATvGekgtcVsA75yk27u0bPaexkv58n3BrGt7U4LvrK3BkSy7f79nwzNwiorYFumRZLm07ldYtous61aEFVAPiFA94eIK8QOjLELAAADqF5RZ6Jja5f58vNHmWd4qdzXMGTWLpmb5lXlUm79nmW/HlXv6LWFk6n4hYXiHLzvNUWG6BVDKciFzffex7ZAc0SW0bpibfcsyi6zpNEumNRCSX7hRaXEvFh8f4AgGUg4AFANBZ6lPOJyLX3C/dv/5EXCYicjldP3/t/n2ecGRU2oZhuOya9423KG9eY3/ibpIDZh0d4l79m+vr98hzio3L7l/muObNJiL1aRf5Hqa54hZSqdzLFzteekQu2+cpcrNJ3rPd+cXbrq/e8z24jUrFCouJyPX9x+R7AaNnxn1MQnZdQGYiItWYw4jI9fV78q62CwB5a4vz/f/Jm4PcwCeWFwigHMaDXYQCAABRkGXHM/e51y4jImYwUkoab6wnp0Nzw9+c771Idlv7/V6I3GuWylvWcksrWcxy5UFeVkpanWrkBDIYmSGZDEb1WZcxQ7LnYMdLj3hGd1hOPkvL5LWVvLlRGjpaNeVI58ev+t6jhrc02/50JsvMVp9ygfOjV0ijYRk5ZDZxi5mIVFOPSrrjIWE2knv5YserT5DdRkSkUhNj3qikOuKEpFvu9z3Yw/37fMdLjxBR29d3OXlLk+bC69WnX9x+TDQvMGTXXXGr8/0Xici363hZqe3Bm8lqISKWnEo6PW+oJU5JN9/reP0pcjmFW+XE8AIBlIJJ7gAAnSZJSXc+4lrwrfuXOXLFATI1S8PGaM66TBozyT3/W3mf3ykted1y18LvfCtkt7nXL/fuqY8/iw7lj6Sb7nUNG+te/INcVc5NTVJeP/Up56tPvUiu2E8fv+p9iJc0bKz69ItZ/4GuHz6V9+4kt0sqGdZ2L8KAud6q6cfoho52/fy1vGGlXFNBbjfLyWe5BaqJM1TTjhYO9lAdcUKSTu/66Qt53y5eX830Rql4MOvXtgyER1QvMFTXsYIiT8DyxfoP1D3ymnP2B/KWtdzUyIhU46aqz7pMGjGOffdR4D15YniBAErBCBb0Qu7W1jVDRhLR2MXz9SOGi809QfMvv+7+081ps2YNeTPIhyhAr8erym1/vZT8R7AAehDxDxoASATNv/7mbjE3zuvUDB4AAOguCFjQ8ziqqvb/8wFndY3YkMCifc5pRx2pSknOOudssQEAAHoCBCzoeZoWLKp+5z1XY0+6zUW0zznt6KMm7dw66IVnxQYAAOgJELCg5zH9GrBATsLric8ZAABihoAFPQx3Ok1L/xCria0nPmcAAOgMXEUIymtdt75+9jemP1bYS/fLNpsqJUU/dEjmWWfkXnE50wSsDMJ5/Tff1X3xlWXzZldjk8po1OTlGkaNTD/pxIyTTpD0bUva2Pbuq3zxpdbNW6w7dnJnkFUNC269uei+ez3b3qsIx/222FlbW/nSq+Z1690tJk12TurMGYV/vV03aJD3gRumzEjq33/Y++/sve0vzUt+1w0qKfm/J4wTJ5Q//Vz1W+8Q59kXX1j84H0ktf81EuELjOo5e+y+/qaGH+d4d/XDh439ZYFPux/udtd++HHtx59ad+1mGk3yxPEFt96SesThW048tXXT5sO2rFdnZlLYayqt23dsOuYEIpq0e5vKaPRtsmzbXvXq66alfzhraiS93jBqZPaF5+dcdIFvP7SJ7CcIANCnBHzaAXSOee26raed5dmWDIak/DxHTW3LylUtK1c1L/5l2Afv+h1NtPeOu+o+/5KIVCnJSYUFrsZG685d1p27Gn6cM2HNSu/Hs6uhwbb/gColJXnihJaVq4jIOH6cZDB4v452gN9KPB6NP887+OgTxFhSQQHJsqOysu7Lrxvnzhv147f6YUO9h1l37Nz/z/ubf1tKjFm2bN113Y0Ft95c/sxzmuwsZ1191Wtv6IcPy7mkbRXsyF9gDM8549ST1VmZroYGTycIrX5kefef/tw45yciUqWmqNPTTH+saF7ye8nTT1r37BUPjlLNhx/v/8d93O1marUmL8/V0NCyfEXL8hUN334/7P23WdKh+6UQUcQ/QQCAvoUDKG3PbXdUvv6mvbzcsys7HBX/e3lFftGK/CLTsj98j2zdvHlFftHK4sFNvyzhsuwpOmrraj75rOLFl32P9HKZzZ4vZdm2XWw7xHvMioLi3X++3VFT66m3rFy1duzEFflFO6/9k/fg9ZOnr8gv2nrOBbLd7mxoWDvusBX5RSuLBjUtWsw5r/jvSyvyi3ZcfpX3eB7NC/SI5DkLaj78eEV+0cajjhMbDql6+90V+UUr+w2s+egT2eXinLut1rJnnltRUOz5Xs76es+RYb67Zdt2T5PLbPYWm39buqJwwMriwdUffCQ7nJ5i0y9L1o6ftCK/qPT+B71H8ph+ggAAfUHAaD9Apw3673P5N1yXVFjo2WUaTcEtNxsnjCci82q/W4Y5a2qJKCk3J+2oI4kxT1GTnZVz8YUFt97se2RsjOPGDn7xOU1Otmc3ecrkwjtuJyLT77/7HUeUf8O1LClJnZGRfsIJRJQ8eVLaMUcTUfrJJxKRbd9+34Mjf4HxU/X6m0SUd+3VOZdezFQqIpJ0un533pFx8knioVE6+OjjJMtF9/499/JLvWc80446svhfDxBRzXsfuk0t3oPj/RMEAOihELCgi+gGlRCRq8XkWzSOGysZDPay8n133m0vK/dtUkTOpRcLc4aM48YSkdvUItvtvnVdSYlnI6kgj4gMI0d4dtUZGUQkt5oPHRhS0BcYJ/aDZfbS/USUde7ZQlPmmacLlag4Kipa128gosyzzxSaUmZMIyLudJrXrfMW4/0TBADooTAHC5QnWyz133xn+u13667drvoGd6tZttnbZnn7X1Shzsoa9NzT++68u/aTz2o/+yL18OlZ55ydeebpquRD9ynrHG9O8vJ+Ze5ykVbbXk9N8WxISVoiUqWmenaZxIiIu92HDiSK5gXGiX1fqWfDdyaZh25w+/z9GFi2bPNsrJ841b+lnauuzrsd758gAEAPhYAFCjOvWr3ruj85a+tIkgwjRyZPOkyVnibpdc2LfrXtDTL5OvPM01NmTK9+863aTz83/b7M9PuyA//6d+41V/a743bf+eCxkSL+mGdqjd+uSuW76yvaFxgPbksrERFjgV0kXAwYHg+Ig27PCJwkeYf0AgnfNK4/QQCAHgoBC5QkW627rr3BWVefeviMwS+/qMnL9TbtqrgxVP7Q5GT3v/eefnffZVryW81HnzbO/bnyxZdNvy0d9d3sIMs6RIMdmhWklNheoOIkvYGIiHPZZpN0Ot8m2Wbz3Q1Pbm0VKpIxmYgYY+OWLAyyIkMI8fsJtuEyWUzcZiGHhZx2kmWS3cQ5SYyYitQaUidRko5pDaQzksovK0PHWup5Uw057aRSkyGVZRWSpMRPDaBvi/QXKEAkWpavcNbVE9GgF5/zDR9E5Kzt4DZ8TK1OO/aYoW+9Nvqn71WpKa3rNzR89514UHfrzAtUkG5g2/oOtt17/FvIfrBMqDB124elOyBO2QIWdPCcVOVud+uWrUJTh+LyE3S7eN1BXrqJV+2lpiqymMhpJ7eTuEzESZbJ7SS7hVqbqLGKV+3lpZvI0ix+EQjD0sxr9pPDSlwml4NMdbzmgHgMAEQPAQuU5G61EBFJkibHL3zY9u5rXbfBtxKGcdzYlClTiMi2P8gveunQxClnfb1/S1eI7QUq/py1A4q1Rf2JqO6r2UKTZ2UsX5JWq0pJJiLLps1CU93X4sO1xUWe6wAq//ey0BS58D/BKFhN/OA2aq4l2W8OXDiMkS7S88JARLylQSy1NhGXxSIARAkBC5RkGDmciEiWq99931s0/bZ0x2VXcjnIr+yaDz+ueP6/li1b6VArd7oafpxj+mM5ERnHjPE7moiImFqtGzKYiCpfetXd0n5xX9Cl0hUX7Qv0iMdzzrvhOiKqfvPtus++8PQedzqr3363/utvhCOJKPWII4io/LkXzGvaVpFwNTcfePBh029L/Y4jIqLihx9kanXDdz/sueUv1h07PUVXY2Pr+g1lTz1T/uzzvgfH8BOMlN3CK/eSO8ou0hpJCjl/DoJwBevhoEUAiAZOtIOSdIMHZ517Tv3Xsw88+FD1G29qcnLsBw86a+uSJ0/KveKyg/95TDjeUVZe8cKLZU8+LWm1mrxc7pZd9fWeWUSZZ52RfsJxwvEe/f56+55b/tK8+Je1YyYkFeRzh9NZX9//H3cX3HyjeKjSon2BXpE858af57csXeoytbhNLbY9e4jIfrBs5+VXq1JTVCkpqtSUwttu8V7emHft1abffm+av3DvHXftf/AhdWams6pattuLH/7XgQcf8n5Nj/7/uNv02+/Omtqtp5+tzshQGQ2OyirO+aD/PrfvzruFnJcyfdrgl/67969/q/96dv3XnklUzHtM1rnn+B4c20+wY5zzqr3hxlEYI8a8qa69bGjrH4iU/+UdRETESIWPBoDOwrsIOsFh46ZazyZLyyWNlogGvfBMytTJtR99YistddY36AYOyLv+uoKbbrDu2nXwP36PJqKciy+UrdaWlavspfsdFZXESJ2ZmTrz8Kzzz8066wzvwpWCrHPPkQzG6jfeat20yVFeoUpONowaqR8qLlgQJ1G9QK9InnPzwkU1H3zkW5EtlqaFi7y7uVde0b5+hEo19O03at77oPbTz22797jq65OnTCq87Vbd4JLAgKUfNnT03O/Ln3uxZelSZ109cZ529FEFt/05ZdrUyhdfCrwnT+aZpydPPqz6rXebf/nVvv8Ad7mSivpri4vTjz8284zTfI+M7SfYsZYGcjnEokpNqdnMkEZJurZhKs5JdpPsIoeN2y1kt5AxTXwUhMVSMrm50a+UkoFRQIDOw82eoRMaK3lDpWeT9RuGuS+JwLavdOPhs4jIe7PnnoiXbSe7xa+k0bHCocGGW6DTvFcRqtWUnMUy8mNPxgBwCEawIHbc0n7LFADFyG4xXRGx3GKkq3hJyWIpWWIRADoHk9whVrJMdvGyfwAFBKQrStJhfBQAehYELIiVraVrbgsDfY7T7zaRRES6KJanBwBIBAhYECOcH4R4CVj1iqnb7xoJANAjIGBBrKwmsQKgBB4QsCK/aQ8AQILAJHeIictJjijueQddRlcycGpl59ZP73ZBTj3jojYA6GHwdyHEBMNXAAAAoWEEC6Inu3lrgt1P1+Wg1mZuayGHjVyeOwEzkiRSJ5FGy7RG0ieT1iA+KkKck62VHBZut5LDSrKL3G6SZWJETCKVmtRJlKRjWiMZUkgVn6UEuEytJm41kcNKTgfJbiJOksrz3ZkumfTJCl9n53KQxcTtFnLYyO0gWW6bGiWpiEmk0lCSlmm0lGQgfbKS61K6neR2icVerLv6ubs4HWRp5jYzOe3k8vxLJmISqTWUpGO6ZDKkeZYsjouufx9BH4aFRiECTjs5rNxuJYeF7NYgS2xHJS2XZfcXi6G0NPCa0vbd9DyW1a99l4icdt5QQcJS1EGpNSyzH6VEvPYml6m1mbc2kcUUOO06JEMqS88jfYpYD4uX7yRb+z0KWfHo9s8YLvPGamquJbmj2JGkY+n5UbzAUMwNvLmWbNGswaE1MGMaJWeRJklsCsrz4epyktvJD22Qy0FuV7Dzg5FixaNIoxOrPoR+JiLWfyRp9b6VSPA964h8nidjbNDE9t0IdUE/e7mdvHSTWAwlOYPllYjFzrOYeFMVWf36Pzh9CsvIj/ZNRAE/325+H0GfhxEsCM1i4o1V5LBGES/iTch2LfW87mDgDemCczkjXZ/a5eSmWjLVxTKUYjFxi4mSM1hOcezjDXZL2weD3cqr95AzskTrsPGaUjI3sLySGL+1w8pr9gdZhqpDdgu3W6ihkozpLH+Q2BqAV+zs07cT7qp+ThQuB689QJaI5xVYW7i1hYzpLKeoU0PC3fU+AiAizMGCcBxWspkTKF0R+X0qN1bymv2RpisiYowiuxMwr9xFjVWxpCsvcyOv2hvzYAz3fPTaWnnFjkg/FbwsJl6+I5afmrWFl++M5VPfV/xO7vQafa2frS28bHsU6cqrtSnIHZOi0T3vI4BDELCgR/GOYDXXeG+DGCldpFNYWFquWArEpA4ubbO28LqDYjFCdiu5HLxyT8j4yMK+cx02XhvlhYROG6/cE+7jhLFI1kpgqdliCXz1tX62mHjl7nB/qzAWblzZ5eQVu6I7i+qr699HAD5wihBC0+jImC4WPWyt5PY/xaNPiTS+RD/lpZ3bScTJ0sLryv3qGh0ZUpjWQJKaVGriMrld3GEjeytZzcRlImKGNL+HhJGSSQ0Vfp8KkooMKUxrJK2BknQkqds+FWQ32S3cYiJTXZBPTVMdpeVSUrhZQcHZW3nVPr/JIio1JWcyYxol6UilJmLEZXLYyWrizTVBTreZGyk5k4yRvmRevd/TS370ySw5g3TJpE5q/+HKbnLayWHjDgtZWshh9Tk+JdKRFUNauA9dh42c/ouAaPUUyVqjLKJ/gd2oq/vZS6VhgyaQ201uF8kucrvI7eKebYc1onlRMXBYg4/japIoOZN5JrOr1EREbhe5HLy1mcyN4o9edvPK3az/iKhfMnXD+wjAFwIWhGZMYyF+s/DK3WTx+2XEMgu64uobzslh4zX726cY61NYZmHQW6m0/V3suW6opT6K35JMYmk5vKGSmETJGSw5g/Qpwf/OllSkT2H6FMrI5zWlFHBxJW+sYnkDhWLHZLfffR7TcllmgZhfmURaPWn1LC2X1x0kU51fKxFvrg714xPZWsXbSkoSyyuhoJFUUpHWQFoDo0zKInI7qbWZtzSQzRz5sArLKRZLPnh9OTX5fcqylGxKy/Gt9Ehd3s9+mERqyfeG2W3/oC3NPB4Bi8u8aq+YJhmj9HyWkS++m1RqUqmZ1kCZ+dRUyxsr/MacZDev2sv6jxAf1aEufh8B+EPAgh6GV+7xDp6x7P7U4ek8JlFyOktOF+vhpeUwSUUpWeKv41AkFcsfxCt2k7XFr24RI1e0WHZRB9mCMZZTzGW3eCml1UxOW/ir6jx4q/8DPd806Kd+IJWGUrNZaja5HJ2aj9wH9Kl+5g1VAfeUZCyvJOSgeBtG6blMZ+AVu/3CmcPKGytZZmF7JUpd8D4CEIQ9Aw2QgA5Nw2J5AztOVzGT1JSWG2m6asOCDMzIbrL7nNyJVnpuB58Kh7Cc4iBzdyIcmXD4fxAyiZKjv0ZdnRT1AENf03f62e2k5hqhxrL7dZSuDtElBxn3baoOcgovQl3zPgLwF/AvCaBHSM2O5cMp3jTaIBcqOmK9DEqlYRkFYjEUSRXYITzC2cHCdDrVoRlmoKw+08+8qUY8OZikjzDitDGmi28lznlTtV8lQl32PgLwh4AFPZCkEpcbTRhMHzARzR0w+T0yLD26ITQWJNtFdr9I4WPe7VkKH5TWV/qZU0uDUGKZhRT+qtsAQU4IttTH0GNd9z4C8IeABT1Q5FOjul7AxW68w5WjQ0nOECvhJQVcnhnht1b7LwvOObXU+1VAEX2kn60BlxhLKnE4KhJagzjzSXbHsp5Wl72PAPwhYEHPw6L9jdmVPJed+wq1Bk94WoP4edyhIN86osEzFnBPEl5X3vnp+SDoI/3MA+8Eb0wTR+8iFHBtCo82YHXh+whAgIAFPQ2TYr9tcw8Sw2phgaN6EWa75AxxYi+XeeUeXr1PXJQIOqOP9LNNnHTItEFWUYkEC1x+xf9Wkh3ryvcRgD8ELOhpknQx/jXco7DA8xQREXomYI3HoCQVS88Ti0RkbuQHtvKqPeLaExCbPtLPvmuiesSw1q5H4LvAYY9qGlaXvo8A/AWMhQIkuO5aBIhzcto8i4xzl5PcLpLdxGWSZeIycU5cbttVRLTnNTopPZ+sLcEvR29t5q3NpNGylCxKyfJdqRKi1uv7mcviBCzqRMBSJ5Ek+b+nOLkc4tysMLr4fQTgAwELehpVwAB+XLmdZG7krc1ka43qT+fOCjxPEVeMsfwhvKaUWpvEJg+nnTdUUEMFGVJZSnbss2r6uF7fz0GXqpI68UEjqcQ/WlzOKAJWF7+PAHx04t89QLcIf39WBTntvLGSzI1BbqbWBbrsZXpJEssfRC0NvL48yCCEl8XELSZSa1hqDqXl4AMsar27nwPng7Owt3PukKQi8u+lwG8RRte/jwAOQcACCKapijdUdk+08uiuD4aUTGZMp+Ya3lQT7up0l5M3VFBTNaXlsvQ8ce42dKi39nPgW6aTd+AOfHhUA8nd9T4CQMACCMB59X4yiysltlNpKElHSTqmUpOkJpWaJImYiiSJJImsZl57QHxIzyJJlJHP0nKppY431wbcUc6H7KbGSt5Sx3KKI72nHnj1lX4OiFzR6eTDAboNAhaAH15fHjxdJelZahYZ0kkTdtqsvbdcby9JlJbL0nLJYuItddTaHGRwwsPl5JV7KD0vYZfXVxpX8lO/l/Vz4BhbVANOgQKvGsGgFPQQCFgAPmyt1CTepJYkiWUXU0qmWO8jDKnMkEpuF5kbeHNdyBWbmqo5Y0Fub9L7BH7kK6J39HPgXDHOifPYp2HxgBlXgd8CICEhYAG0442VYolJrHBYNEubhhh+6OlU6vaBlqbq4Cs2NVaRPpUC78bYy8QpYHn09H4OuoqK2xX7qhOBt/KM+UsBdC2MtQIc4nYG3umMZeZHk66ivMSpJzKkssKhrHBYkEUgiXhDhVjqfcJc+qegHtrPjJFGvB0nOQOWHo2QM3BZUYalraCnQMACOCRw+UfGKDVHLIbnDn1FWG+iT2b9RwTeKo5s5nCTtRNR9COOoU7exUNP7OfAROiItccCH6jRYg4W9BT4lwpwSOAHp9YY7YQPHviR0FsxxnJLgiz5GO3d4rpS4BTs6M/3dfWPuKf1M9OJ5y65rVWoRCjIAwPvTgiQqAJ+3QD0VTzw7F4Msz1swSbN9FaMsbRssehyiJXEERiXw6xBFUrQeVFx1bP62ZgqVizNAWf6ItPaKBSYIeCLAyQqBCyISZAPqph+gSaWgAudoj0ZYTMHv1VILxYwssIT+V9CwD1buN0iVDrgclDgsEoX6EH9rNGJ0xZlmVqb/SqRsFvE06BMIgQs6Dmi/PwA8AgMWK5EnRESMaYSP32jnVDFG6vEUq8XMOzHYhj26yos8K7DluiGo7ipTix1jZ7Vz6nieBtvqAi5vlcIvD5gIn9yRpDfPACJCgELYsECLuThgTPEe5zATyx7NGMVpvrAixB7PR74kgP+bSSQwBk89laKfBDLaaemarHYJXpYP6dkie+maLuutYms4ktmGXlCBSCRIWBBTAI/qFqbxPH8Hidgci65XdTaJBaDspp43QGx2CPYWsncEOMUGXuruOo9Y6RP8asklCR94BAIrz0Q0eCK28mr9kR0ZFB9qp8ZC1xunjdUiK8iFJuZV5eKxdTswPOkAIkMAQtiojOK85M451V7u2iJoDhRJ1HAKSRed7CD2cScU1M1r+jER2/3ctp5dSkv3cRrD5LFFEUCMDfyit3iqzakBSaYBMIYpWaJRbuFV+4OPAfnx2Li5TuDrBoQuT7Vz0SUnElG8baJvGY/ry/v4LU31/DK3eIxak1gYgNIcAGTTgAiwSRKzaZm/7vKOKz84DaWnkeGNL+kIrvJ7SK3k1xOcjlInyLOgU0YLC2P1+73K7mcvGw7yyyklEwxU7oc1NrMm6vJ6ZPAtAZy2jv4tE5AsptMtdxUS0wifTJpjSxJR0l6UmtIktqn/7uc5LRxq5laG4OkDSaxrES9hcshLC2XN9eKecXawvdvprQcZkgjrb7tBy27yeUgawtvbfJbI02tIaYKsqhHJLq+nzkn2e3zn+zd5p6NwBdia+U1+0lSkaRikuTZ8P9PiiTesdyBvGy738C2568RcwMlZzJjGml05Jn4KLvJ6SBLMzc3BHu9jOUNiuQ7AiQUBCyIEUvP4y31YpJwu3h9OdWXExFJKuJc/EuUiOUOSNiARSmZ1Fwt/op3u3jtAao7SEn6tjuByK62sCjQ6FjBEF57INITiwmIy2QxkcXkF0AkiTgF/igFLKuwB5zEUSexzELu+SfqS3ZTY1XbZQpMIuJiCDuE5Q7kFhM1BeSAqHRVP/P6cvEPoQ65HNRS79kM3gVErGhkkAVFBZKKFQ7l5TvFd4rLSU3V3DMly3OPwhBdTeRJVyVB5iQAJDycIoRYqTUsd6BY9CW7O/yoSDiMsfzBgRfzExFxTnYLWZrJ0ky2VvEzg4iSdKxwKKnUvXCpHlnu8EfJsvtTWq5YTUzpeWRMF4u+uBzqI5/lDiB9CovTXwi9rJ+JSJ3E+gW/208bHjLIEhFJKpY/uIMfFkCiQsCCTjCmsbySIKtj92gaLSscGuR+auEZ01m/4W1XTvWsgKXq9JkXjZYVDOlJn/pELL+E0qO8JE1SsfxBlJJFRLEMwfbJfiYiUiex/sMpLcpbThGRPoX1H9HD3k0APoL9pQ4QueQMpjXwhgoyN4U+nyAIWM8z0Wj1rP8I3lBJLXUdL6Cq0bHMAkrOaK+ok0ij7THXVBrS2IAxvLmWzI1BhuXC0xpYShalZred6OlJGMvqR4ZU3ljV8crsjFFyJssqbDtBTEQaLUkq8fx4eH20n4mIiEksu4hSsnljJVmaww1ZeeiMLD0/cI48QM/CeIf/1gEi4ZnxbW8lu5Xcrrbzg0wiSUVqDak1pNGxJD3pjFEPDnUj2UXmZm5rIbul7UUREZNIpSGNlukMpE/tVbNDXA6ymrnDSi4HOR3kdhKXicskc2LUNsFZpaEkPdPqSZ/Sk36UYThsZG3hthZy2El2kdtNxIlJnqtKmT6FjOltc7GV0jf72cPtpNZmbjWT5+V7Tom29baW6ZLJkNarXi/0YQhYAAAAAArrXbNnAAAAABKAouPeAJBgPrv97sUvviZWiRhjLzkbpM7PvO6x0DMAEFcIWAC9VktN7e9vvi9WiYjo2L/c3JczRE/pmdrdex8YOkEoFk+a8M/VS4QiACQanCIE6LUWPPs/p9UqVonyhg05+7F/idW+BD0DAPGGgAXQO5nr6n99+Q2xSsQk6ap3X9XoQ6/92NuhZwCgCyBgAfROcx9/xtbicwe9Q0578J5BM6aK1b4EPQMAXQABC6AXaiwr//XlN8Uq0djTTjrtwX+I1b4EPQMAXQOT3AFi11ReYWls8myn9ys0ZKT7tnaj7x981GkT70acM7jkmg/fZD10NXCFoGcgEgn71oYeBAELIHavnnNp6aq1nu3L33jxiOuv8m/vHqWr1v7x7kdC0ZCRfvO3nxrS+/TtR9AzEKHEfGtDz4JThAAxsjQ27V+zXqx2N875Z7ffLdyhQaPX3/L954WjR/oW+xr0DEQoMd/a0OMgYAHEaMeiX3mHt4Lucsve/mDf8lW+FUmtvvHLDwbPnO5b7IPQMxChxHxrQ4+DgAUQo20LfhFL3c1UVf3V3ff7VlQazXUfvTnm1BN9i30QegYil4BvbeiJMAcLIEbb5i8SS93t09vu9s7MJSKNXn/jlx8gQxB6BqKRgG9t6IkQsABiUV96oHbPPrHa3bb8NM+7rUtNueX7z4fOmunT3nehZyBCifnWhp4IAQsgFon5N+4L5iqxBESEnoGIJeZbG3oizMECiAVmaQD0Snhrg1IQsACixjnfsehXsQoAPRze2qAgBCyAqB1ct9FcVy9WAaCHw1sbFIQ5WBCSua7+wNoNZes3Hli3sW7P3tbGJmtTs6WpmTGm1iYZMjJScrKySgbmjxhWMnXSkCMP77K7Scgu1+6ly7fNX1y2fmP1zt3munq7uVWlURszMw2ZGRn9CgYdPm3IkYeXTJus0enEB3eatdm06pMvxGp3czkcu5Ys3fXr0oPrN9bu3ttSU2s3t3LOtUZDSl5uzqCBRYdNGHrk4cOOOVKdlCQ+OG7qSw/sWbq8dNWa6h27Gg+Wm6prHBaL02ZXa7VaoyHJaEjNy80uGZg9aGD+iGGDZkzNHTpY/BKdljg9s2/F6i1z55euWF21Y5e5rt7RatHodYb09Nyhg4smjht14nHDj52l0mh8HyKp4/grOnF6xgtvbehNmLCuMUD1jl0bvv1x/Tc/7Fu+KvJ/HpJaPeLYWbNuum78WacxKcaR0b/nDzFV13h3S6ZPueePhT7tZDe3Lnj2xSWvvdNcUelbD8qQkX7MbTcde/tNxqxMsS1inPO6PfvKNmwq27ilbMOmsg2b6ksPiAfF6unafcnZWWI1SnX79i945sVVn3zR2tAotgUwZKRPvezCE//2l8wBRWKbclpqan9/873Vn31dvnGz2BZWcnbW0FkzJ5xzxtjTT+78vWsSpGe4LC//4NN5Tz1fuXW72OYvNT/vqJuvO/6u27VGg6fSWt9wV/ZAv4OIiidN+OfqJUIxKl3fM3hrQx+EgAVtXHb7qk+/Wvziqwc6d4+IoonjL3/9vwMmTxQbIiD8Fk4y6J83VUgqlWd343dzPrrpjubK6C4H0xoNl77y/LQrLhYbwtr43ZzNP80v27CpfNMWu7lVbFZIJ38L21rM39z70JLX3pZdLrEtLEmtPv7OW0//171JBr3Y1jnmuvrv//XY0rfed9ntYls0VBrN35bMLZk+RWyITOL0TPXO3W9fdt3+1evEhtDS+xVe/saLY045gYhkt/uWpCxhVfHOBKzu6hm8taEPQsACIqL5z7w476nnW2pqxYaYqJOSrvng9UkXnis2dET4LUxED21dlT9yOBHNeeSp7x98NOZ/rsfd8efzn3ks8qG1l06/YNOPP4tVpXXmt3DpyjWvX3BFw4EysSFiBaNG3DT747xhQ8SGWK348LNPb73L2mwSG6KXVpD/+IGtsZ0gS5ye2TJ3wesXXBHDpzhj7Mz/3H/KfXcT0V3ZA1vrG3xbYw5Y3dgzeGtDHxTpP0ro3WymFqXSFRG5HI53rrxx56+/iw3RO7BuIxHNffyZ7x54JOZfwUS08PmX5zzylFjtsdZ9/d0zR53SmU9KIqrcuv3J6cdGNbgSiuxyfXD9re9ccYMi6YqIDr/m8tjSVeL0zKYff37lrItjSFdExDn/9v7/fHv/f4goJTdHbI5J4vSMB97a0OvF8isMep9jbrtx3v+94LRaxQYfydlZhox0z0x2S2NTU3mFwxLyeJfd/uo5lz6yZ2MnZ74fXLchOSvz2/v+LTYQEZEuJTklNyclN8dptZnr6pvKK8L8pv7x308OPeqIYUcdITb0NBu/m/PGRVeHOcXj6Zbk7Cy302muqzdV1bgcDvEgIiKyNDY9f/wZf1+2oGDUCLEtYi6H4/Xzr9j4/U9iQ6wYYzOvu1KsRiBxeqZ805Y3L7461BcnIrVWmzO4xJCRbje3mqprzHX1gU/7p0f/L3fIoLT8vKptO4SmaCVOz3jhrQ29Hk4RQptPbrnr15ff8K2otdoRx84aftzRxRPHFU0cL0Ql2eU6sHbDms+//u31d2wtZt8mr9MeuOeMf98nVkMLPI+QNbDYabUJxYFTDptyyQXjzjw1Z3CJb72ltm7Hwl8WPPdS6co1vnWvglEj/rVlpVgNZv3s78PcLmPznHk7FovnaCZdcM7AqZOEYnhH33KDRh/djJaD6zc+NeN4p80mNhBllww46pY/jTrhmMKxoxlj3rrTZtv92x/rZ3+/9K33g35q5gwu+eea3/RpqWJDZN658k8rPvhUrPrIHTp4xHFHDztqZlphgTErMzk7i7vdlqZmU1V1xZbtFZu37lqytGr7Tu/xw4896q8Lv/f5AhFJnJ5x2e2PTZpVsWWb2EBERIedf/asm64dOmum7wWDTqt124JfNnz744oPPvV9JpJaLalUwoS2aE8RJkLP4K0NfRACFrSp21v64LCJstut0mgmnHPG5IvOHXXS8d6rmcJoqa1765Jrty/8RWwg0qWmPHFwuy41RWwIIfC3sCA1L/ecJ/89/cpLfD8MAv3+xruf3HKX2+kUG4hunzt71EnHidUozf7Hv35+8jmhePkbLx5x/VVCUVl2c+sjEw4P/HhQa7XnP/PokX+6RrjIX1C3b/8H198adB3Fw6+5/Mq3XxarEVj0wiuf33GPWCUiIsbYhHPPPOPhfxaOHim2BWgqr9j80/zVn36185ffrv3wjckXny8eEVZC9cwPDz3+w8OPi1WilNyc6z99Z/gxs8QGH1Xbd3580x3hT69HFbASpGfw1oY+CHOwoE32oIHH/uXmsx598PGD22747N2J554ZSboiopSc7Nt/nj3y+GPEBiKbqWXnL7+J1VhlFPX/+x8LZ1x1afhfwUR0xA1XX/fxW2KViIgWv/iqWOo5vv/Xo4GflMaszL8u+uHoW/4U/pOSiLJLBtz201cTzz1TbCBa9s6He5atEKsdqdm1Z/a9D4lVIiLKHFB076pfb/zyg0jSFRGl9ys84vqr7ljw3RPlOyYEe4bhJU7PtNTUzn/mv2KVKCU35+7f54VPV0SUP2LYHQu+G3vaSWJDrBKnZ8LAWxt6JQQsaHf+M4+d8s+/peblig0dkVSqaz9+K+hIVfi/xSNnzMy4c/GP2SUDxIYQDjv/7BlXXSpWiXYsXhJmJkoiq965e9F/xY8QJknXf/LO4MOnCfVQ1ElJ13zwRvaggWIDUajZMGF8dff9QeftFU0cf88fC4snTRAbIpCalxvtspYJ1TOL/vtq4MR2xti1H70Z4TKqklr9py/eLz5svNgQvYTqmVDw1obeCgELlJGSk33kDVeLVaLdvy0TSzE569EHhWkZHTr53rvEEpHDYi3ftEWs9gRzH3s68PPj+L/eMvKEIGOHYSQZ9Je+8rxYJdr5y29R9cyBNes3fPujWCVKKyz468Lv0wryxYa4SZyecTudS998T6wSTbnk/KBDvKFo9PpLX31BrEYvcXomDLy1obdCwALFTL3sQrFE1Fje8brMHSqaMO7IP10jVjuSN3xo0JUq9y5fJZYSXktt3cqPxZt4JBn0J/3jTqEYiVEnHht0KaNl73wolkJb/L/XxBIREV351kudvHQ0KgnVM9sX/hp0ppFnRauoDJxyWFSZLFBC9UwoeGtDL4aABYrpN25M4LQtSwT34ujQkTdeE/lCgr4GzZgqlogaO7cUULdY9cmXgRN7D7/mipgXM5x+5SViiSjypRbs5ta1X8wWq0STLzpv9MnHi9V4SqieWf/ND2KJaMgRM2Jb0SDoM4lcQvVMKHhrQy8Wy79sgKAklSp7kDjU77TZgk7TiZykVh92/tliNTL9x48VS0SWpmaxlPDWffWtWCKacM7pYilig2dOF0tEtbv3RrgQ5faFv9hbLWKV6Kg/Xy+W4iyhemZnwBX+RDTxvLPEUmTGnn5ybOHDI6F6Jii8taF3i/3dCxAo6LmhMOuRRmLIzOkx/82dHOxesJbGJrGU2Ozm1r1/iGv8JBn0Q46YIRQjVzRxfNArtg6sWSeWgtn6s9+dej3yRwwbOmumWI2nhOoZc1199c7dYpVoxLEdXDkYiiEjvXDMKLEamYTqmVDw1obeDQELlKRLSRZLRJ1ca61o4jixFDF9eppYIrKZTGIpse1dvjLwXE/xYRPUWq1QjJw+LTU5J1usElVu3S6Wggn88CaioBfzx1VC9Uz5xs1iiUij18cckoio//gxYikyCdUzoeCtDb0bAhYkun5jR4uliKmC3c9OlmWxlNjKNgT55M4ZMkgsRSnoMtwNB8vFUgC30xn0M3XA5IliKc4SqmeqduwSS0QFI4d15jRf/ohhYikyCdUzoeCtDb1b7O98gK6RP3K4WOpjgqaZoOsSRSXoh2Uk9/yu27c/6O1Tuj5gJVTP1JceEEtEWQMjXd4pqMyi/mIpMgnVM6HgrQ29W5A/AgB8yS5Xza49VTt21ZceaK6saqmptZlabC0tTqvNYbU6rTan1eqw2lw2m8NqE26apoig87r6lMaDQSYRf//go98/+KhY7TSHJcjUdUFTeYVYItKnpWbEmgZillA90xJsgYb0fgViKRopuTliKTIJ1TOh4K0NvRsCFgTBOS9dsXrTjz/vWLzkwNoNnbwMsJOCzuvqU5orq8VS3LjsQYamBKaqIEnCmJkhluIvoXrGXFcvloiMmUHmYkcu5giSUD0TCt7a0LshYIEfm6nll5ff+P2Nd+v2lopt3USb3Nd/C1ubu3DqbgRXJNhaWsQSkT4tyKTjeEuongl6taw22SiWopFk0IulyCRUz4SCtzb0bghY0IbL8pJX3/r2/v8k2qXOam10d6brfVw2m1jqVk5bkBPBQe9EGW8J1TNB56WporyvoqDDmzGHklA9Ewre2tC7IWABEZGlsenNS64JurhReGqtVms0JBmNWqMhyWio3rEr8E630Emy2y2WuhUP9nykYFd1xVti9UzQgZygxYhJKpVYikxi9QxAn9QNvxMh0bQ2ND5/3BkH128UG3wUjh45YMphhWNG5QwuSS8sSM3L1aWl6lKShQ+AJ6cfu2/Fat8KdJ5apxNLRP3GjTHGOkEnjP4TgiyQLQg68NAtSxAlVM8EHayyt3bP3xsJ1TMAfRMCVl/HOX/r0mtDpauCUSOOuvn6w84/KzU/T2yDrpKkD/JhefqD98R8D5ZO0uiDTAzq0kk/hyRUzwR9Mo5gNxSKnCPW60uCPpnu6hmAvgkBq6/7492Pgp4ZVGk0Fzz3+FE3X9+ZZRJBEal5ubV79gnFoNesdY2UYMt5W7vjNnAJ1TOGYNdRxryEgUfMJ9wTqmcA+iYErD6Ny/Kc/zwpVonUSUm3/fTV8GOPEhs60sm74kBQ6f37iSWilto6sdRVgq7t1FJbZ2lsinlZgdgkVM+k5uWKJaKm8kqxFA1zrK8loXoGoG/C4ESftvOX3+r27RerRKc//M8Y0hURtTY0iiXotLxhQ8QSUc2uPWKpq2QPKhFLRER0YO16sRRnCdUzmQOKxVKI++dErrmySixFJqF6BqBvQsDq07bNXyyWiAwZ6cffeatYjUwrzkHEQfGkCWKJaM/S5WKpq+jTUrMGBgkT+1evE0txllA9EyrTdGZYt2b3XrEUmYTqGYC+CQGrTyvbuFksEY0/6zR1sOuhOmRpau6Wmc693qAZUxljQrF2zz5TsHuzdI2BUyaJJaItP80XS3GWUD3Tf1yQWxc7rdaqbTvEasTKNmwSS5FJqJ4B6JsQsPq0oBNECkaNEEuR2bl4SWf+WO9BAj+64io1LzfogMSaz2eLpa4y8oRjxBLRzl9/r+7cGbFoJVTPpBUWZA4oEqtEm+fME0uRkd3u/avWitXIJFTP9CBd/NaG3g0Bq09zBlvuOehc3UhsCXY1Yq+UZDSIpU5fkB/exHPPFEtEv/zvte5KtGNOPTHo5aW/vf6OWIqzhOqZ4cfMEktEm378WSxFZt/yVZZOXJuZUD3TU3T9Wxt6sSC/IqHv0KeliqUQqatDpqrq5e9/IlZ7qaDXysX1Eq3Dr70i8K4p1Tt3r/n8a6HYNdL7FY48/mixSvTLS29UbN4qVuMpoXpm/JmniiWiXUuWVm7dLlYjsOLDz8RSNBKqZ3qKrn9rQy+GgNWnJWdniSWihgNlYikCP/7nKWesiyL2OMlZmWKJaP/qGM/mRCI1L3fqpReIVaJP/nxnY1m5WO0Ss26+XiwRuez2d6+60e10ig1xk1A9M/rk4w3paUKRy/IPDz8hFDvUUlO7/P2PxWo0Eqpneoquf2tDL4aA1adlDRwgloh2LPpVLHVk1Sdf/vryG2K19yoYPVIsEe1asiyuCzme8fB9aq1WKLY2NL5+wZXdcn/u8WedVjRxvFglOrB2w+sXXNmVaTtxekaj18+4+jKxSrT2i9lBr9gN48u/3eewdLYPE6dneopueWtDb4WA1aeNODbIlJG9f6zc+8dKsRraxu9/ev/aP4vVXq1wzKjAUwlOq/Wnx54WigrKHFB0yn1/E6tE+5avenL6sZ1Z4mjf8lUf3XTH72++JzaExRi74NnHgk4K3vDtj88ff2ZzRZBLKCJhM7WURjO5O6F65ri/3hqYaTjnb1x4ZeRXAPzw0OMrPvhUrEYvoXqmR+iWtzb0VghYfdrwY4+S1EFW83/78utNVdViNYDTZvv6ngdfOevi2KZt9VyMsaDTmRc9/3JcZ3mf8s+/DZoxVawSVe/c/Z9xMz6/457I16V0WKxbf1749T0P/mvEpCdnHPfba2/HcK+bYUcfedSfbxCrRES0Z9mK+4dM+Oru+yP/07++9MAf73388lkX/y130E+P/p/YHFbi9Exmcf9jbv2TWCWyNDU/feRJG7+bIzb4szQ2fXLLXT88/LjYEKvE6Zkeobve2tArBflwhb7DkJE+/cpLlr39gVCv21v6yMQjzn/msUkXnB04T5aIGg+Wrfjws4XPv9xSU+tbL5k2ed+K1b6V3urYv9y87uvvhCLn/KMb/7J5zrzj77x18OHTAsOr7Haba+uaKqoa9h+wm1unXXGxcEB4kkp10+yPn5h2TMP+g0KT02Zb9MIrS155q2T6lOHHzho0fWpyTnZyVqY22WhvtdjNZluL2VRVXb1jV9WOXVXbdhxYs97lcAhfJAbnP/PowfUbg65g6bRa5z/934XPv1wybfKI444eOHVSSk52cnaWPi3VYbXaza3WpubaPftqdu2p3LZj77IVnZkYlFA9c/rD963/5ofAWwG21Na9fNbF4848dcZVl4497STfgS7Z7d63fNXmOfOWvPZ2a32Dt55WkO+02TpzOi+heqZH6Ja3NvRK4r8S6GtOf/AfKz/8LPD3pqmq+u3Lrvv8L38fdPi0/OFD9elpstvdWt/QUlO7b/mqoDfYOea2G0/559/+XjBUbOiNhs6aOeTIw3f/tkxsINrw7Y8bvv0xyaDPHlTiuU7T7XBYm02WxiZzfQOXZc9hecOHxvBbODUv9y/zvn3++DMbDwa5FsHlcOxasnTXkqViQ9yotdqbv/nkuWNPL9+0RWwjIiLZ5dqzdHnQBKasxOkZrdFw3cdvP3PUKUFHdjd+N2fjd3MktTotPy+tMN/zwdxSUxd4sEqjufGrD+f93wvrZ38vNEUlcXqmR+iutzb0PghYfV3mgKJLXn72g+uD3xvHXFe/8bs5G8VyEDOuvuzC559kklQwakRsF6X3OFe988rjU44KNbrgsFjjtGBB3rAhd/8+73+nnR+nrx+t5Oysu3796eWzLg76mdSVEqdnBk6ddPV7r7516XWy2y22ERGR7HI1lpWHGbRjjF3+xouDZkwtmjiukwGLEqlneoTuemtDL4M5WEAzr7vy1Pv/LlajceLdf7ny7Zc9K08ODzZxvlfKGVxyw+fvaXQ6sSH+Mov737ty8ZF/ukZs6CaGjPQ7F/1wyj//JqlUYlvXSpyemXThuTd89m5s/zzUSUlXvPXSjKsuJaLiwyaIzTFJnJ5JfN341obeBAELiIjO/M/91338ti4lWWzoSHJ21k2zPz73qf94ryYbcdzRfkf0aiOPP+YfKxfnjxgmNsSfRq+/7LUX7l46v2TaZLEtShlF/U974J6gayZFTlKrz3r0wfvW/T7qxGPFtigxxnIGl4jViCVOz0w876x/rFhUOGaU2BBWzpBBf1384+HXXO7ZLZ44zr89donTM4mvG9/a0GvgFCG0mXLJ+YNnTp//9AvL3v7AHsGtIVLz8464/qoT7/6LLjXFtz7s6COZJHmnI/R6/caO/uea335/493FL74aOK85jPR+hWIpeoMPn3bP8kW7liz99ZW3Nv3wk93cKh4RWt7woSOOO3r8maeOPOGYoPe9iUG/saNv//mbsg2bfn3lrfWzvxeugQiPSVL/cWPGn3XajKsvyxpYLDZHKUF6pt+4MfevX7r0zffmP/Nih8siZPTvd8ztNx17+02+89/TCgtS83IVvElzgvRM4uvetzb0Agz3pQKBpal52/xFu39bVrpyjam6prWh0W5uVWu1WqMhrbAga2Bx8WHjh86aOXTWzG4/H5RQuCzvWbZiz9Ll+5avqtm919LYZG1qclhtaq02yaBPyclOK8jPKhmQP2JY4ZhRJVMnGYOtGd0ZTptt929/7Fm2vGzD5vp9+5sqKu1ms9Nm1+i02uRkbbIxOTsrd+jgvOFD80cMGzRjakb/fuKXUBSX5dJVa/ctX7V/zbq6vaWNB8ssTc1Oq43LcpJBn2QwaJON6f0KswcNzB40sHji+MFHzAhcBl0RidAznPO9y1ZsmbugdOXq6p27zXX1TqtNo9Pq09Nzhw4uPmz86JNPGH7MkYGXp8VVIvRM4uv2tzb0UAhYAAAAAArr5WO8AAAAAF0PAQsAAABAYQhYAAAAAApDwAIAAIW5bfaP03M9/+3/arbY3Dkrbr/z88KB30+a3rBuvdgGkDAQsAAAoMcw7di55/0PXRZLy569219+TWwGSBgIWAAA0CN18aoWAFFBwAIAgB4jdfiwIVddoTYY0kePGnXnX8RmgISB+A8AAD3J1BeemfrCM2IVIMFgBAsAAABAYQhYAAAAAApDwAIAAABQGOZgAQBAHDGVioicJtO+Tz4/+P2PLXv32erq1Hq9oV9hzuHTh15zVfroUeJj/H1eONBlsYhVoslPPT7sT9eJVR/lc3/+9eIrPNunLFmYMW6sf7to+0uvrL3vX0TE1Opzt2/SZmeJRwBEDAELAADiSG001vyxfNn1N1vKy71Fh8PhaG5u2rpt15vvjPrLreP/dT+TlD+jUnj8cdrsLHtdPRGVfv5VhwGr9POvPBueB/o3AkQHAQsAAOLIUla29v6HXK2tRKTW6w39+zGVyly6322zeQ7Y+sL/NCkpo//2V7+H+Tji3TetNTX2+gZ7fb29vmHfJ59xWRYPCoap1QPPP3fHq28QUemXX0/494NhYpxp566GDRs92yWXXOjfCBA1BCwAAIij1ffcJzscyQOKJz7ycL+TTpCSkohIdjj2ffbFmnvu85z72/R/zwy5+spQg0aFJx7vu1v65Vfc7vCthFFy8YWegGWtqqr5fWnerCPFIw4p/aJt+CopPb3/ySf5NwJELWSWBwAA6DzZ4UguGXjigrlFZ5zmSVdEJCUlDb7isumvvNh2jN2h+C0LPTInjE8bMdyz7T0DGJQ3YBWfc5akbXueADFDwAIAgPia8vSTupxssUpUfNYZyQMHeLZrV632b1RMycVt5/sOfPeD22b3b2xTt3K1uXS/Z3vQoeMBOgMBCwAA4ih5QHHBcceI1UOyp07xbFjLK/xbFDPwovM9U6+cJlPFvPliMxERlX7xpWcjZVBJ9rS2pwTQGQhYAAAQR2GmPRGRLqtt3pXDZPJvUYyhoCBv1hGe7dLP24KUL+5y7Z/9rWe75KIL/BsBYoSABQAAcZQ2YphY8uFZJYuIuNvt36Kkkosv8myUz1vgaG72b6TKRb94lnIgxgbi/CAoBAELAADiKCk9XSx1uaIzT1MbjUQkOxwHvvlOaN13aFgrd/q05AHF/o0AMULAAgCAOFLpdGKpy6kNhuIzT/dsC9cSuiyW8h9/8myXXNo20AXQeQhYAADQ+3nXDq1Z9ofvmvJl389xWa1EpNLpis8+01sH6CQELAAA6P3yjjzC0K8fERHnpV+2r7lV+mXbgFb/007RpKR46wCdhIAFAAB9AGMlF53v2fQuauo0map+WeLZ9i6XBaAIBCwAAOgTvBGqceOmlt17iKh87jzZ6SQiXV5uwbFH+xwL0FkIWAAA0CekDhuaddhEz/bB738kooM/zPHsDjz/PO+CEQCKQMACAIC+wjuIVfbTXNnuqFy4uK1+aAo8gFIQsAAAoK8YcP65kkZDRPVr1h38cY6rtZWI0kePyhgzWjwUoHPUYgEAACAxWKuqa1esdJpMTpPJYWpxNpucJhN3ujyt+z79vHn7dk1KiiY1VZOaqklJ0WakF550gv/X8KPNzCg84biyOXO5273l/571FDF8BfGAgAVdQV7wpfzrt6pbH2d5/cW2Ps/91qO86oD6vtfEBoA+r2bpsqXX3ShWD6lfu65+7TrfitpguLCi1LcSqOSSi8rmzCWipm3biYipVCUXtF1dCKAgBCyAvsftkjctIbdTrB/CikeyHNwwJEro1R6i30knaDMz7A2Nnt38Y47S5eX6HwKgAAQsAJG8bC5Ly2Kjp4gNvQWvLg2TA0itYen4vIkaetWXSqe9tKlGrAYz8ZGHJj7ykFg9ZMB55ww47xyx2jlSUtJ5e3eIVQClYZI7gIivWsgba8Vqr+F28Zr9YtEHGzCaNN1/87geBr0KAP4QsAD88KY6XlclVuOKMbEST7y6lNxtc4QDsez+LD1PrEJH0KsAIMApQuhCTrv83TvytjVkt7LMXDbtBGnyMcQY2Syup25jg0apLr/L93C+dbX7kxekUy+XZpwkz/tMXveb+vYn5Z8/kbetIaeDFZZIJ17Eiof6PkRevZivXMhrK0itYcVDpWPOYf0Ht7fO/UTeslJ913PyyoV8+TzeWEM6o3TYLOmEC4lI/u1HvmEpr60gIvnnT+SfP/E8SjrqLOn49jmwYb6FvOBLedUi9V+flud9FuRletit8rzP5a2ryGZh+cXSCReQJqn9iwe7GsD9xn94XYX63lfa9p0Oeekcvmk5b6onxlhqBhs0Spp1BqVmeh8SktPOq0vFopfOyIpGiEXoEHoVAAIgYEHXkWe/QZIkTTmWVGq+Yan83TukUkuHzSKdQRo/U17zC2+qY+nZ7cev+41UKmn84W375mb3u0+SMUU64nSytMirF7vfeVx1w4OscGDb8T+8J69YwIZPlMbNILtNXveb+81HVFffwwb6fLy1NMkLv+IblrExU5kxlVftJ53B08IGDGWZOby2Ul74JZtwhDSibcVnyunnfXTH38LS4n73CXK7grxMIuLc/eGzvHQ7GzmJFQ+jxlr3x88zQ3T3l3V/9RrftkY6bBab3I/sVl51QN68QjouosugePkukt1i1UOllgZPJAmLWUcNvQoAgRCwoAtptKrrHyC1moho8jGuZ+7ga3+lw2YREZt+Aq1ezFctYiccWpCm1cR3bmAjJpJv/sjKU114i2eTjZnqfvVf8qKvPONefP9OecUCaeap0smXeA6Qpp/geu4uec6Hqj8/4v0C5HbxXRtUtz3uO27kwYqHERHt30lELK+IjZ4qHBDptyCmuvHfQV8m376Ol26XDpslnXND26GjJrnffdIb8iLB92xmQ8ZIZ13rU+IRnWe0tvD6CrHowRgbNJ50RrEOHUKvAkAwmIMFXUeafmJb7CAiYwrLKeQNbXPJWV4RGzhCXvOLdyKLvP53kt3SxCPbjiciImn8TO826zeIFQ7ke7d6Bg/4pj+IiE05xnsAGVNZ/yG8cj+1trQXiaQjzwhMV5GI8FuEeZl890YiYlOOPXQsscFjKCXDuxsJ1n8w37tFXjaXbJZDpQjSFRE/uJ2Ii1UiImL9h7PU9rFDiBx6FQCCwggWdKEs/3m+6iTfy9qlaSe4P3uRb17Jxh9ORHzdb2RMZcPGtx9PROlZfrsZOVRRShYzJad5Zqa7n7/b7wAiIuKtJmb0GQbLKWzfjkak3yL0y+TN9UTEMvwu12fpWZ6JXxFSnfsn9/fvyD99JC/4go04TJpyDCsZJR4UgNdX8JYGsUpERCynmOUOEKsQAfQqAISCgAVdKCncZeps1CRKzZRXLlSNP5yX7+PVZdLMUzqYvMJ9Rg44JyLp9CsDH8JS0v32vcNL0YrwW4R5mZ4nHNmAUzthfk9KuurSv/LaCr5uibx+qXvTcjZqsuqi20gKPSDtdvKy4Av/sKx+rHikWIVIoFcBILRYP2kAFCeppCnHygu/5DXlfMPvRMT8zw8SETXVUV5R+25jLWmSPJO0WFYe37uFlYxiue1z0mMROvx0/luwtCxOxBtrmSHZW/QMa7XxhD+X33qVQRflYjmF7MSLpeMukOd/Ji/9iW/8g01oP38q4GU7yeUQq0Qss4ANHC1WITLoVQAII/SfvABdTppyDKnVfMNSefMqVljCfLMUERHJ6373jlrxsj28cj8bNMozcsPGzyQi+Zdv/Ia1iMhh89vtkGdOvW/oOaTz34INGUtEfNVCb4Xv20qmtlt2EBHLyCEivr99XIRvW0utJu8uyW6/+KVSsTHTiIibgp+oIiJuqud1ZWKViGXksYFjwyVKCA29CgDhYQQLEokxlY2eJq9dQuZmdtQZYisRVR9wv/MEGzKGbK3yqsWk1kjHnudpYQOGSUecJv/+o7uhhg0bT1o9tTTyfdtZwQDp7Ov8v0o4LDOPZefLqxeRSk0Z2WSzsqIhbNAoUuJbsJGT2IBh8ppfuaWFDRhOpkZ5/e8stx8/lLHY8IlkTJXnf0aNtZSeTTXl8paVLKeQezOWudn1wj1s2HiWU0iGZGppktcvJU0SGxXixj5uF9+/WSwSsez+rHhU1CcrwQO9CgAdQcCCxCJNP8G9YSmp1NK4GWIbkXTBLXz5PPn3H8npYP0GSSde5F0Ei4ikky5m/QfLK+bLy+aS28mS06n/YDbxiPbHR0KSpMvulOd+LK9bQnYbJaepMnLaGzv5LRhTXX6XPO8zeetqvmsjyx+guvh2vm8b/+PntgN0BtU1/5DnfSZv/IOcdlYwUHXF3/iOtXzNr20H6JOlcTP4vm3y9rXEZUpOZwNHSEeezrLzD30PP7xse+AAGyscwgra11+FaKFXAaBDjAsnOwC6Fa+tcP/3HjZ6quri23zr8rzP5N9+UP3lKZZd4FuH8OSty8jqs0oFY2zAaJYV4xwy8ECvAkCHMIIFiYVvWk5EbeueB8LfA1GSRh1aBx+U0+N6Vbbb/yge4tke/tpL2Wef6d8OAMrDJHdIJHarvGoRyylkQ8eJTQAAAD0HRrAgATgd8ooFxIhvWEatJum8GzFNGAAAejQELEgAbpe8dA7ZLCwrT3XRbZ61DAAAAHouBCxIADqD+p7/iUV/0okXSSdeJFYBAAASEuZgAQAAACgMI1iQAFwObm4icxPZW7ndSi47ud3EZWISSSrSaJnOQLpkSs5gyemB9wHsHm4XN9VRSyPZzNxuJbeTZHfbE07SMZ2RDKksJattXfju4rBxcyO1NpHNwu0WcrtIdhOXSVK1Pc8kPelTKDmdGdPD3cqwe7kcvLmOLCaytnCHldxucruIiFQqktSUpGNaA+mMLDmdDGld8Sp6R68CQJwhYEH3cbt4QyVvqCRz+71i/HA3yW5yObi1haiaiDiTWHouZfVjadniwZ3A967njdVCURo+jZLThSIRkbmRV5fy5toga0Z4n7DFRA2VnIi0epZdxHL6k0ojHhw/Lgevr+QNFWTxuceOL7eL3C5y2nlrMzVWERGXVCw9l7L7sZQs8WCFyDtXUYt4Px9p9BGkMwrFQzhvrOE1+8ncRBTQ1UTkkomc5LBycyN5jmASJaez9FyWnhfultuxScheBYCEhYAF3cHt4tWlvGZ/21BE5LjMG6uosYrrU1jhEJaeKx6gHG41MSFg2a384FbeXOdXDM9u5eU7efU+VjCY5RbH/RZ1Liev3sdrDpDsFpvCk928oZIaKrkhlfUbxlK7KBBwh40FDVgtDfKBrWRrFevhcZlaGnhLAy/fJU04lphCo0c9rVc7IElE5Da11Hz+Zf2PP1lLS521dSqDPqmwMG361LwrLzeOGik+JARXU1PdN983L13WunmLs6HR3dIi6XTqzAzdgAHJE8alzTw8/ciZTNP+p0XDvPnbrrjWsz1hwU/GsWO8TUFVvPrGvn/9m4iYWj1l42pNVmJ0IEBkELCgq/GmGn5gKzntYkNUrC18zzpKy2HFo5Qfq/Cw+CzVTcQbq3jp5qg/Yj1cTn5wOzXVsJKxpInPs/U8wwPbyOUQG6JiMfFdqykjjxWPJnX8R90CbjhDnPPyXby6NPioVWRYSqZS6apH9mpYKqPRtHzlzptvs1dUeIuuZqer2WTZtr3ynff73XrzwPv+Ef7kJne6Djz9bOUbb7tb/UKwu7XV3dpqP1jW/PvS8v+9UnTnX4rv+Zu3NePYYzRZWc76eiKq/Wp2hwGr9qvZng3PA/0bARJduLcQgMI45we28j3rOpuuDuHNtfLWZdxULzYogfvcC4VX7eV7N8SYrg7hLQ3y9hVRj8pEgsu8dDPfu6GzOeAQ3lgtb1tGrc1ig+Kc/gFLlvmedbx6X2fSFRGRImeQe26vhmUvL9966ZWedCXp9fohgw3Dhkq69txf/r9Xyv77UvsDAriamjaff1HZ8y8K6UpKSvLdJcZyL7rAr6BWZ597lme7dva3JMu+rQLrrt3mjZs827kXnuffCNADYAQLuorbJe9ZFzgLp7PcTr57DRWNZDlFYlMnWc3EOTHGa/bz8l1ia2wcNnnHSmn41NATj6Lndsm714acxxYzh03euYoNOYylZIpNCvIdwZLd8u61ivwLYWnt9+eOUY/u1bD2/vNB7nTqiosGPvRA5onHe07hcaez5ouv9t33L7fFQkQHn3k+74pLgw8ayfKOG28xLV/p2dNkZRX+6bqM44/VDx0iabXc6bKVlppWrWlcsFB2OHQDB/g/mHIvOL/yjbeJyFFV3bzsj7QjZgoHeHmHr9TpaRknneDfCNADIGBBl5Dd8u41ZG4S64rgnB/YSsRZTrHY1Bmym+yt3GHjB7eLTZ3hcsi710ojppHa/8/92Mhuedcaam0S64qQ3Xz3GjZ0MiVniE1K8RnB4qWbFElXpE+mJL1YjEpP79WwuNOpGzhg3I/faLLbx/mYRpN36cXqlJTt199ERLLDUTf7u4Lrr2l/2CGV737Q9MsSz3bqjGkj331LnZ7mbWUatX7oEP3QIXmXBl+1Lnn8WMPwYZYdO4mo9qvZ4QLW1994NrLPPEMcGwPoCRCwoAtwvmd9B+mKMZaaTSlZzJhKWj2pNMQkkt3kcnK7hVqbuKk+/HACP7CNVBqWWSA2dAJvqOK1B8UqEWl0LCOXjOlMn0waHalURIzcLnJYeWszNddyU12Qawy97BZeupkNOUysR43zPes6yAFJepaaScmZTJ9Cag2pNUSM3A5yObmtlVoauKme7BbxUV6yLO9ZL42YTtrORZYQuMPumfbPy3cFXsjZRqVmxjTSGilJRyoVMYncbnI7yW7hVjPZWon7nWnq9PBVj+/VDg1+4lHfdOWVdcZpugHFtv0HiKhl9ZrAgMXd7vKXX/VsJxUWjHzvbXVaqv8hHcu54Lz9jzxORHU/zBn0xKOSViseQdSyeo3naRDOD0KPhYAFccfLd3NT6CvvJInlFLO8EtIE/JGqUpNKzbR6Ss1iBYPJbuGVe3h9JYWYoMP3b/EsQCU2xIpX7hFLOiPrN5Sl54l1Is8HLTOkUk4Rc1h52U7eWCUecwhvrqX6cpbVT2yIBi/fHW7+mSGV5Q9iGcGeqqQjjY7pUygjnxHxxmpeuYd85pz5cTnkfRuk4dPicoNIh42IeEs9r9orNkkqltWPZRZQclqoqy8ZEclu3tJApjreVOP5ap0MWL2hV8PSFRelH3OUWD0kZfIkT7KxV1aKbUSmFavsB8s82/1vvzWGdEVEueefu/+xJ0mW3aaWxvkLs04/VTzC5/ygrmRgypTJ/o0APQMmuUOcmZuCfHZ66ZOlkTNY/+FB0lUgrYENHCsNnxLyskHZLXd6KnoYLKdIGnV48HQlSNKzQePZgDFhPj552c6oV6nw1dIQumMZKxwqjZwRPAcEYBl50sgZ4SaxtTbz6lKxqAi3k5w2XrrZv8pYbrE09ihWPJKS00OlqzaSiqXlsKKR0thZbOhklt2fjOniMZHrHb0aVpizckTknXflNgWJhqYVbVOviLGcc870a4tYUkF++qHn4A1SvrjLVfftD57t3AswfAU9FQIWxBOX5f1bxKKXMV0aPo10yWI9vOQMafi0kJPE7RZeETDspASWO4AVj4rq4n+W3Y+VjBOrXi5H7J+vXJYPbBWLHoyxIRNZwSCxHh5jrHgUKxgs1g/hVXuVuphOIO9Y5TfVXZ3Ehk1mRSOjX86AsdQsNmB0mFDbgV7Uq2EYhg8TSz6Yqu1fOHcH+UPFsnWbZ0NfMlCdnu7XFo2cQ2f9GuYvdDWb/Bup6ZclnqUciLEcBCzosaL4tACIFq8rI5tZrHpo9dKQw0gV00nqJJ00ZFKoD2BeU6r8UgjJ6axouFiMAMvIZ3klYvUQXhv92pVERMRrDoZ6jaz/iJjPkbHCISGvbnO7eNU+sagI37lKSTppxLSQzyHOelWvhqZOa5+THi1nQ9s8yKT8fP+W6GSddorKaCQi7nTWf982WOVV++XXno3UaVN0xaGHAAESGwIWxA2XQ394MGnguFAJKSJaPSseJRY9OA8yd6pzpOLRFP5EVWiscEjIucwuZ5h5WiHJMq8O3rEsI4/ldupSSjZwbKhROl5XFlscjJSkkoYcRlqDWO8avbVXA0j6EGfYI+A2t5039MSjmKkMBu/UK+EsodtiqZ87z7MtLKMF0LMEf88DdB5vqAqyTjcREbGswuC3+YsGy8gPde8R3lAV7hquKLH0PNJHeR7TlySxgiFi0au+fTXtCPGGiuArtTLGCoeKxWgl6ULOMXK7Ql7opwTWfzjpU8RqV+mtvaosSd/2p4LbavVviZr32sDmP1b4rinfMGeubLUSkaTTZZ9xurcO0OMgYEHc1JeLlTYszKyUqIQOLpzXhfru0cvpL1aixDLzQ83i5+bGaGfh8Lq2y7gELLMg5NS0aISbl90UtyhgSA33feOvd/aq0jQZbWt3OWtq/FuiljbzcG1hIRER53Vff+ute5e/yjz5RFVKJ/6wAehuCFgQHw4bD7FoJEvNCnnKLFrJ6aHGPHh9OYVYzSE6KjVLCT5OFgUmsYwQc1Y4j+7u0bbWkPdaySoUK7FJTg81N46b6sOt79UJSmXuGPXSXlWcfmjbnzTWPXuF++REjbGcC871bNZ+851nw21qaVrym2c798LzPRsAPRQCFsRFuIWvFF0LNOTKok47tYpXJ8WApWTGflWarzCLO4RdQFXAm0OMHKjULDnETOqosZBricnukAs7dYZGG/MUckX0zl6Ng9RpUz0b3O2u/2GOf2PUvEswtG7abN2zl4ga5i/gThcRJeXmpB89y/dggB4HAQviI/RSjUyRG/EeEuaDOVzIi1xnFlXywYzpJAV/u/Hwi4YLQnQsS81SJggSERELFQWIeKiRnk5g6XkKPvlY9MZejYe0Iw73LgFf9sL/PJOlYqYfOiR5wnjPdv2PPxFR/Zy5nt3sc89mKpX3SICeKPhvfIBO4qFujKNLVuYefF765JBXI4Y4RxkdQ/BTkFGTpFBnMwNv9hIS5yE7NtQXj41GK1a8lLt6oF2IixW6SG/t1TiQtNrCG671bFv37N3xp1vCZyzu6mApXe95wIaf58sOR9PiX4U6QM+FgAVx4HL43sTXFzOG/CM+ZswQfF0fblHiFKFWgQnOHizUpzXnkX6+2ltDXtKvxETsdiFmCxG13dxGWcwY/CfYRXppr8ZJv1tu8g47Ncybv/aIYyvffMe6d19blpJle1lZ44JF+x99Yt2s4xp++tn3sYFyzj2LadREZF63vuGnnz3zuoyjRhpHh1iEBaDnCP2GB4gVt5rFkle067ZHQmekoGcD3S5yWCmpcxPqQ92WJwahV3jiNguLoGe4JeRMHRb6i8dCFWJQkIg7227PrBiVOtzQTvz1zl6NG6bRjHznjS2XXmnZtp2I7GVle+970NMkabWyPdhSF6GpMzIyjju2Ye487nYffPYFTzEHw1fQKyBgQRw4Qp81UOr6QV+6kJ+C3G5lnQlY6iQFp+CEy2pBV2AKFHqgS972h1iKk1CDPTEL0y1do1f2ajwlFRaMm/Nt6UOPVH/8KXc6vfXAdMW0Hc8HyL3w/Ia584jIsn0HETGVKue8c8SDAHogBCyIA4f4e9aLxWOsIszX7OSZl1Czu2ITYiksIop0KawIc1hcRThdLGJM2Tl5MeiNvRpvKoNh8FOP9b/j1rqvv21e9odl5y5XY5NstUp6vSY7Sz94UMqUyVmnnGQYMVx8ZIDME49XZ2S4GtuupU0/6sik3JBXrgD0IAhYEAeu0J9Ycfg0ZeqkkIsIdfKzU1LyOiam0oR8nq72YYBwOvlyFKH4ik0hLq7sOr2yV/1JWu3M6oNiNZiBDz0w8KEHxGoI2sLCfrfe3O/Wm8WGaDCNZtr2jWIVoOfr7l9t0CvJof8cj8el11LovxM6eeZF2c/+MHEtsufJI8xhPUuIm/R1md7ZqwDQ3br5Vxv0TmHiQjw+TaXQ06TCPJOuF+a1R3iGKMLDICroVQCIg9C/8QFiFuZ8h4Jzxr3CBZfQz6TrhXntET7PMEODEDP0KgDEQehPJoCYdXHiCfMBGeaZRELZZxtmpCTC5xkmokHM0KsAEAehJ68AxCzM1KUwYShmYYJLmGcSCYUDVuivFuHzDHWYpJImHi8WIULoVQCIgxC/WQA6I8xMdncHt86IAQ/zNcM8k0goO4UrzPOMbASLsRAvR3aHS28QFnoVAOIhol/rANHRhF46MsIFn6IS5iqwMEtkRSLMV44ed4f+amGWyPIV5rAwXxzCQ68CQBwgYEEchI41PB5rDoW47yFR2KgXCWU/X8O89giXBwuz6Hknl1Tty9CrABAHCFigPBbmFrmhb0sSu9Bfs1P3ySEizsOlomiF+bQOHUn9hI4CPHQnQAfQqwAQBwhYEAe65JBXZtlaxUrnWUN8TZVagVsfhrmvYrRCv/ZwkdQH06eIJS9ryDsWQ3joVQCIBwQsiANJIl2yWCQiIt7aLJY6jVtCfM0wH5wR41azWIpVyC/FJIpwpM2QShQiuZqbxApECL0KAHGAgAVxwVIyxJKH3RLuTFkMLKZQV+ex5BDPISoWhcYw3C6yhQhY+tADfgJJRYbgqZGbmxS+5rHvQK8CQBwgYEF8pOWIlUO4qU4sdQJvDvnVWGqWWIoeNzeIpZhwc2Ooa/6jCoIsVMdymTdWi0WIDHoVABSHgAVxwZIzSRV8GVteXyGWOoE3hPhqKjVFE1xCsprDXaUYuTCf08npYiU0lp4rlg7hdWViCSKDXgUAxSFgQXxIEsssEIse5kYKNRspWi0NoWaOs8yCSM+7dYQ3hM5GEZLdvCnEF2ESS80Wi2EYUkPOLTM3krlRLEIk0KsAoDQELIgXlt1fLB3CK3eLpZjwyj1i6ZAw3z1avPYAUfCzexHi9RUhJ4qlhhzqC4XlFImlQ+SD20KdiITw0KsAoCwELIgbQ2qosRneWM1N9WI1SryhkrcEnyDFUjLJkCpWY2a38PpKsRg52R0mCFJWP7HSEZZVGHLdLEsLr9glFiEC6FUAUBYCFsQRKxwilg7hpZs6tYan3cIPbhOLh4T5vrHhZTtifra8fGfIx2q0LD1PLHZIUoV5gbxqH689KFahQ+hVAFAUAhbEkzEt5Kk6p13etSbGWxM6bPKuNaFuFMgy8pSZ3u7L5ZD3rI/hin1eX8FrDojVQ1jewNgmirGsfmGG6PiBrbxyTydPa7bjnDfV8D3rQ53l7DXQqwCgIAQsiC/Wf3jIMy/WFnn7CrKYxHp45kZ5x4qQt8dRqVnRSLGoiNYmecfKqBZ253VlfP9mseqVpGM5xWIxQoxJJeNIUon1Q3jFbnnHqk4t4sU5mRv5we3yxl/4nnUhJ+n3JuhVAFBOdLNrAaKmUkuDxss7VwWfJmy3yNuXs+will8S5pZwbexWXrWX15cH/1JERMQGjAmZ5zrPYpK3LmP5g1hucZiPYSIih5WX7eSNVWLdB+s/gqRO/IWjM7LiUbx0k1j3MjfK25ax1GzK7sfScjp4wh5uJ9laubmRTA3c3BjDiF2Ph14FAIUgYEH8JWewopH8wFax7sE5rz3Aaw+y1ExKzWaGVNIaSK0hSSJZJpeT2y3U2kymulBT2r1YwSCWEf2UptBYSqb4Td0uXr6TV+5h6bmUksn0KaTVk0pNxEh2k8PKW5upuZY314ZJgUTEMgs6/1RZViE5rLwi3CWZ3FRHpjrOGOlTDj1bDUkScU6ym9wukt3kcnJ7K9ksMZ6x7V3QqwCgCAQs6Aosp4hczrCXYnFuqidTfbhUEhbLKWKFQ8VqJ+UNZMkZQa4BlN28oZIaKmN8tvpkVjxKLMaEFQwmWeZVe8UGAedkMfFoz8b2VehVAOi8TpyhAIgGKxjE+g0TqwphOcVKRRY/LgcrHBJyxdTYaLTSkMOiXfsqDNZvKCsaEdtkeQgFvQoAnYSABV2H5ZewwRMimrYSOcZY8ShWHJ+J7U4HEbGBY1lWodgUG61eGj6NkvRivXNY7gBp2JSOJ7FBNNCrANAZCFjQpVh6njTqcJaSKTbExpAqjZgRZg3uzvLMnmGMDRzL+g/v5HgGS82WRkwnrcLpqk1yhjRqJssd0MknGVJKJrG+9+sCvQoAsVLsPAVApLQGNmwKNVTyyj2h7iTYMa2e5Q9iWf3i9cnn4TM9meUNZCmZ8sHtsdyZTp3ECofEMQh6qNSsaATLKeJV+3hDJXFZPCAGGh3LKmTZ/UhrEJv6CPQqAMSE8bDXOgHEEee8uYbqyrmpLvw1d+2YxNKyKbOQpecqGK343vW8MciKRCw9lw2eKBR5cx3VHuDNdRGtOak1sJwilt1fwUlXEXE6eEMlb6oic5PY1CFJYsZ0Ss1iKVlkTCVSpp/lnaso2HWgQTs5QSVerwJAwkLAggTgdnFzI5kbyWrmdgu5HCS7SeYkSaRSkUbHtHrSJVNyBktOV3gKFxGFCVgpmWzYFLHq4XJwUz2ZG7mtleyWtivzGSNJTUlapjWSMY2lZpE+RXxgF3M5eWsTtTaTrZU7rOSwk+xqW4pJUpGkJpWKVGqWpCedkXQGpjWSPqVTC3T1BehVAOgIAhZAyIBFyRnS8KliEQAAoCP4iwogDPz5AQAAsUDAAgAAAFAYAhYAAACAwrr2yiYAgDjgB3fKCz7x7qrOu41So1trjdcc5Mt+5C0NLCOPzTyDZeSKRwAARAMjWAAAJP/6FW+sJpeT15bxZT+IzQAAUULAAoA+z2Imc7N3j9dVRLowGwBACAhYANDnCat+MqbgMrYA0DchYAFAn6dPppR07x7LH+jdBgCIDQIWAABJs85lGXmk1rDCQdLMM8RmAIAo4SpCAABiuUXs7JvEKgBArDCCBQAAAKAwBCwAAAAAhSFgAQAAACgMAQsAAABAYZjkDpCoZJnXHKCq/bz6AG81kd1KDisxidQaZkihlAzKzGM5RSx/AKk14mODkt28spRX7aeGKt5cR3YruRykUpNGy/TJlJnHcovYwFGUpBMfGJq8ah7f/IdnW3XhX8mY2t7W0sj3bOSV+3hzPTmsxImSdCwlnbIKWEEJ6zeENEntB4dhaeH7tvCDO7m5iSwtpFIzYypl5LKSMaz/EJJURNT2v5HhezbKS2aLVR+sZLR09PliNXJx6Od2lhZeupUf2NHWG0RkSGHZhWzgKFY8gqS2v5nlNYv4xt8828FvHGQ1uz99xrsnHX0eK/n/9u77Oa7ryhP499zX3UAj55yZwJxESRQlUclBGmd7vZ61pzye2pn9YWurpmr+gP1pf9upmq35YWtrq3Y8szP22HKYtWxRtjItMWeCBAEQOefYud89+0OD3a8fUjfQjUCcT6lKfQPAx9tNvIN77zv3iKV5edzdoj/5ZbRofO9v4M6xtK/Mt8D97TzQgdlJ9nsQ9CPDTZnZKKmm6j1Uuz/Rz7AQO4cEWEJsP2aY22/rls+t6cWf0DDDHPBhegx9bQzAcND+k+r5t+wdLXh8kFuvcV8bQgF7mw4iFGTvPCaHueMOLr9LB06r068nGv1YsG+BIgFWOKRvfMCPrtvzofs97PdgfJAf3aDqPeqLP4hrXco0+f5n+t4fYZqWyjAH/Zge464W5Baql75B5XXIcMc6bJ30jrM2+d7n+t7FuNEAMD/N89Pc/QD5xerFr1NZLQDMTsT12UIBn757kVuvQeu4ep+HfR5Mj3HHbbiz1fGXqfmM5HcVTxMJsITYZmYmzI9+lsQN0gzTqrMI+trv+cEVe+1KtMmt18zhLuOtv0g6aolMqPi9+v1/4Ykhe2s8qt5rr7IJh/T7/8IjvfZ6q/lp/e4/qLNvUc0+e9Mq0nMXT+84m2H9/r/wcI+93mp2Ul/4sXr5m9R4hGfH7a1bgSeG9Ps/gd9jb7DxefSVC9TfoV79DpwZ9lYhdiYJsITYRnioS3/0M4SC9gYAhgGXG6wR9MdNBhDRvpOx4hJUs2+ZG39WLuXkw+WGGWbPLOam4lpnJvSnv1x7hsnGOw8zrD/4SVx0RQRXJgwDAZ916oVq98f6LMWsP/ipPboyDCoogzsbwUBsgQzQVy6os0lsJ6Wmo0b9Qfg97PfC70XAC79X3/88+g3XJ43jzKw//Fd7dLXsaGitL/5aZWTZ/6CtwMM9+sOf2j/MuQWUXQCHEwEfz4xZW3nwsb7wj+pP/gKG3JjE00A+x0JsG3NT+uO3bTckqj9IjYepogHu7MUqrTE3xeP9PNjFA+1U0YCsXOuX2FBVExVV8NQIXJlUd4BqD1BFPTKz4jotzOp7f+S2m9EKHuzkkV6qqLd0WgP75vnKuzw+CADODGp+huoOUEn14sYgZsxP83A397ayZ3aZXUEW/PAqD3fHyoZDnXqV9p+GKza9wdNjfPcidz8As77021jnRBgOZOdTdn60gh7f5Q0GWGkbZ350nQc7Y+XVR0Nr/cFP7Otxm887rz+xfJiVokPPq0PPwjLm0JoHO/nmBzw9FqngyWF9+Xfqxa/H+gixY0mAJcR2oT9+G0F/rJxbqF77LhVVxGoilEJBCRWU0L6TMMMI+OwdlqBn3iDvPDUdWXFuICdfvfAVzi3UNz6I1nF3y+o3fhvuuAPPHACqbFSvfMceWxAhr4jyiujAaZjhuCYbv0ff/jhWNBzqyz+ksppYDQCACsvole9wSbW+/gdb01ZJyzj7vfrmR7FiIqNh26S1FfQf/w1+72LB6VJf+D6V18X1AKAU1e6jygb9wU+j8TR33OG9J1YbECF2iCTm1YUQ6cO9rTw1EivnFhpf/ctloisbw7H69FUEVe+hfSdWvOs/QUdeQH5JtGhfoVtTJLqqaFBf/IE9urJZ9Ur48T3rNJ46/frSeCKKjpxdY7VxE6VjnLnznnXL/I4YDR7p5aGuaFG98JVloqsoh1O9/C3rZv/o849C7Ghr/CAQYjegphNp2facDL7/ubWozn87ob3PqUVE9QdjtzfP0mcY12I41PlvRZMFrA8/vhMruLOp+UysuBw6+Qr3t9trt7Nkxpk77sQKO2Q0+MFi5g4AVFxBTUctjcvJyqGmo9GVUx7shHc+kd8chNjONvRzUAiRGr6Fxa1LAACq3kul1ZbmzUMFpbFCKJjsVh7ae3yj90W/J7ojBwDVNcNYI8cVFVcip8Beu70lOs5+L0+PRks7YzRCQR7oiJZoz3FL24qoeo+1yCM91qIQO5EEWEJsPdsiEe07YS1uKsu+aQBrbJZaguqb7VVJ4olha5GqmqzFlSwmf9pBEhtnnozLdrEjRoPHB+LixarG2OuVUWG5tWj9fUOIHUoCLCG2Ho8PWItbe4PcCCpdcXtQoiwTNgCse5VWQfnF9qqnw9QOHI2x+A9zXmIXY8tr71srdZYQ257swRJiG/AtxF67MuMOnEktZp4cxvQoT48hcvxOwMfhIMwwzDDCoZWmUhJiOOy3yeRx4MmjZwAASnC1KyttI7Y+KRrnnTgaHL+lzPyn/2YtJir+Ly7ETiQBlhDbgDXVQnr2tvPMOD+4wn1ta6fVXrcNR1cAEIw/ZCbBk2Sc2+UkuxSP804cDWuqkXULh+w1Quw0EmAJsQ1Y7qOU8qNCwiF95V1+fNd+MmDKpeQImrAlz+pa+Q5iHIlFHmmVjnHeiaORkgBLiJ0v4X+xQoj0ccSmHNh6T924UEBf+EeejNs5DlcGVTSgsIzyipGZhQw3HC5yOOFw8kCH/uw3cZ03mWGZfdEJJ8xMYUyzPmka5+02GolMLFk+zHA4E9yYb2d9ylKInUkCLCG2AeuyYEonAPTld+Pu+jkF6vTr1HBoxVRV1rvjlrA+XscMM5zQzI0lFeeWSNc4b7fRWPaUTJsMS45ZZajXvxcrCrGbJPBvVQiRbta855ETiFfPhJ6guUnuvBcr5hUZX/mPa+zxWikh02ahjKy46ZeFWSTyTFwC5wWlUdrGebuNBlufxlhJ9NBMAEF/okGhEE+dFX67EkJsIiqpshZtWRvWjbsfWovq2S+tcdcHYufHbZXCMmuJZ8atxZXw7IS9ahOlcZzTNxoU/8M/weMLE7gAW6oOnohL5SXE7iEBlhBbjyoarMW46ZAN4PmpWIGIqvfGiiuw7yLadFQcH2s+OQN4DVt6F0/fOKdxNGyPfCaSFoGZ43NcLYsqGqyPO1izuguxq0iAJcQ2kFsYd/pvbyvmJi3N62V9yN+VueJ+oKhwaOtvh1k5cUPR92jt1TTP7BZPk6RvnNM3GkpZYyxbAv1l8XB3QrknXBnWje386EZCO7eEeOqs9YNACLEp1NEXYgWt9Se/TOiJrdXZ9s6v9Q313Yvp276TOGU9KcgzFz0DeCU6/pzsLZDOcU7faFBxZfQ197etEQYx862P7JUroOMvxwpBv/78nVhRiF1DAiwhtgXacxy5hdEiTw7rd/8BC3FJsZfn92B+2l4JAPEnCjNz94NYcQluv8X3PrPXbgXae9z6kJ2+8f4qUzLc+4gf3bDXbq60jnP6RiNuYToU1FcvxIpL6CsXEj8fkMrrqGZftMjdLfrir9eMOwHA7+WHVxNcPxVim5MAS4jtQSn16r+zPm/Fk8PmL/9eX/otDz62zy545nioi+98qi/82PzXv+W+trjWJ6h2v7Wor77Hg53WmgieGdef/GJxmsEw7M2bz52jTpyPFcMhfeHH/OCyPfvAwqy++p7+5G0wr70ql07pHef1jEZC35z2n7L25I47+uO3MWfZTwZAax7q0r/7P/zoOoDEx1m9/E3kFkSL3HnP/MX/4DsXeXLYnqZrYZYHOxc/zD/7W331PXjn4zoIsTPJ07NCbBdUXKle+oa++KvYPhttctvNxVUhhxOuTGgTwUCiOSfzimjPsdiW+VBA/+GfqagCZbXIzIIZht/D44OxR8MMQ33xz/THbye01Sad6PBZ6m/n0b7Fcjikr/0BNz+kwnJkZiMcYs9sbN6OSL32Pf3Rv669PwmAGUbQj2CAg36EAggGEPIjGIhLQDAzwQ+vwpkBVwacGXBlkjPyImP5/FVpHuekR+P8t/XHP3/y1SvLyqEjZ63Tadzz0Ox5iLwiyikAKQS8PDsRC+6Vob74ff3eP0X7rybDrV7/U/2Hf45FSz6Pvv0xbn8MIrgy4XAiFEQ4mNC7JsQOJAGWENsINR5W2Xn645/DuyThUDiU0CJLPPX8W3pqhKfHojU8NYKpEUuXJ5wu9dq/p4p6KqtZaUps8yilvvB9/fv/G5exwjSXWR0jUue+RrX7kFuEtdIT8NSI/n//y167BE+P8tX37LUAAPXmD22PfEakd5yTHY3iCnv9CtSp1/TUqH3H/dwU2+axAChDnf82VTbCnRN3NvnKqLDM+Npf6Y9+zmP9cQ3MkdOv4yqFeOokOt8rhNgcVFZrfPM/04nza+dSisgtRFG5vTLKlaHe+hE1HrbXx6OyWuOrfxV5+MuWx2jLOF3qzR/SsZdWW/DKLVRf+jPadwIAFcSettsC6R7nZEaDE0yyBYBIvfGndPzlNXKBFpSqN/+cGg4i2XF256i3fqRe+kZC+VEB5BaqU69ReZ29XogdaNV/VEKILeHKVCdfwdFzPNzNwz0YH2DfAgI+hAIwHHC4KDsXuUVUUoWKBiqttn+5jStTvfIdPv4yP76D0T6en148jceVSbmFKKmm+oNU2RDrX5bMjT+tDIc6/RqaT3P3Q+5v54Vp+DwAIyuXiquovpkaDsd2BeWXAo/ivnyTpXucEx+NpE5bIlKnXsWh57jzHo/08vQIAj6EgnA4kZ1PpdVU10y1+2OprfJLMdxj/QZrIKK9x409x3isn4e6MNLL3jn4vQgF4HDCmUHZ+cgvppIqqmyUIwjF04Q4fceCCiGE2HTc36E/+Em0aHz7vyCvyNIuhNgMskQohBBPGfm1WYitJwGWEEIIIUSKSYAlhBBCCJFiEmAJIYQQQqSYPEUohNg8PDvBHTfYt0DZ+XTgWcrOt/fYoHCQx/p4dhwLMxz0wwwBBIeLnC5kZiO3iHKLqLAi8Yzk2IRrBvSN3/NC7LwjKqpUxyzZ24UQO5AEWEKIzaNbL0fSl/PcJNqv08k37D3WjZn7Hureh8ukuQ/6OOiDZxaTQ6yUce5bSU3ep/GaAQA81meNrmA41L5TsaIQYmeSAEsIsVmCPuvhMDw/BeZYgqWN0W1XeaTHXrsE5ZeukVTTJp3XDADMuue+tULtPQV3rrVGCLETJfODRgghNsQWl1CqIhUe67NHV6QoOw+uTIAQDnI4CN8CmKm4Kq7b2tJ1zRE80m0925iq9lJlk6VdCLFTSYAlhNgsrkxkZkcnhKigLL55/bi/1VqkukOqrhkOl7US2mTPLGVmx1WuKW3XDAChoO6+Fy1RYYXad9rSLITYwZLYiCCEEBukDp6lnAIYDiqsUAfO2JvXJ+jnecsO8fIG1XTMHl0BUAblFsGZYa9fS1quGQCgO29Hj7Wh/FJ15KXUTo8JIbaQzGAJITYP5ZfQM1+2124Mz09Zi1S1x1rcuHRcMwCeHuWR7shryi9VR1+GsfJBzkKInUYCLCHEDhd/tjHlFFqL2xb3tEReUEmNOnQWKmXRFdXuN370X+21QojNJQGWEGKHM0Ox10TJPSS4ddTJ1+1VQoiniOzBEkLscCxnGwshth0JsIQQO5k2OWyZwRJCiO2BWH75E7sWM8+M8uQQFmbYtwAzBDMMZcBwkMuNrFzKLkBBGeUVgdb1qwgzz45jZpxnxzngRTiIUDCyhkUuN9zZyC6g/JIkUl9qzTOji+fAeOcQCsIMQRlwOMnlRnY+5ZdQae0yD9CtTHfe4f5HkdfG2a8hIyvW5lvg0V6eGWXvHMJBAHC4KDMbOYVUWE5FlatfNo/26NYr9loLKqtTh16w164iHOSxfg76EPAh4EXQxwEfQgF7t5WpxqNUf9hea5H6a15W0M+Tgzw5DN88B/0Ih+B0kTMTeUVUWEHFVasPrBBiR5B/xmKX4uFO3dOCgM/eYIZhhjnox8I0ow8AHE4qq6PqfZRdYOu7Im3ycJfuf2RNAr6IAW1yKADPDCYGGYAyqLJp9QRIPDfJgx08OYilszWRCw74MD/FI93ouEmVe1XTsXXcpDnop0iAZZq66w4PPbavvgX9HPRjbpKHHlNRhTr2SlxrmrHfo9uv22t3llBQ9z7gwQ6wjquPDKxnhoe74MpU9Yepaq+kbBBiR0v6R7AQO542desVHu+3168kHOKhTiqsQIIBlnfObPkM3jl7/Uq0Sa5Me6WFfnybB9rstSvRmgfbzekR4+QbcCYxlQUAAR9ygVBA3/vUlvtgKSqqtFfZ7cT4II3XzPNT+v5F2zOPywj6dcdNmhxSh16Aw2lvFULsEBJgiV1Hd9yyR1eGg7Jy4cwEEcIhDnjtM0+uTCqpjqtZAU+P6JbPYIbtDQCUgsMFZoSDcTNDRFSx2ukoVFy5TICV4aaMbDhd0Cb7PfAtxLV653TrZXXsfFzlmoI+aFPfvxgXXRHB4QQZCAegY/Mua545Q+X1RmkNggEOBfDkP93fusysYWLI5VaNR+21AM9O8NTwYoFINRyJa7ZaKw97yq85imfG9P2L9g9GZjZlZsNwIBRgz6y1laeG9d2P1Mk3Upi+QQixmSTAEruMd46HO6Mlyi2kphNUUGZfjjHDPDvB0yM8MQDfAlU0JbQNy7egH1yy3USptIZK66igDNFpKmb45he//+QQFZQhw239EhsqrKCcQl6YhsNFJVVUXE0FZfaM5H6P7nvIQ7G/Gk8N88xYUke7cMDHHTd5bhIAHE6q2kvF1ZRXvDg4zPAv8PQoTwyy35PQgcTKQGYWZcb2ddFoD687WHFlLr+Dqv9RLMAClu+TuNRec0TApx98HvtgkKKa/ap6Pyx/Cph5api77rFnZrFiflq331DNz8X6CCF2DgmwxO7C4wOxQoZbnXh9+b1KhoOKKqioAntO8OwEuRM6wE4/+HxxM3iEO0cdPrdM3ksiZOVRVh5VNkGbCFm+ZAXUdIyCfiqrW3E+IzNb7T/DmTm66260jsf6kguwRroR8AKgwnJ16AV7DEcEdy65c6lqL7QZ1yRWpR9diW3GNxzq2HnKL43rAYCIiquooFy3XOTp0Ugdj3RzRWNSb6IQYptI4JdyIZ4i7I8tpVFh+fLRVTzKL4FrtRmmCB4f4IXYiXhw5xinvrBMdGWjjNWnryKoqJIqGleMrp6g2mZk5UWLPDtmaUxAJLoqKFPHXrFHVzZrXYmI4pmxaMAEQO0/s0x0FWUY6uDz1o8l9z20NAshdgwJsMQuFkziCf81cX+rtagOnl0jRkkHIiqtiRX93tjrBClDHTxrXzAVG2DdP0c5hVReb2lcjstN5Q3REk+NbHwHmBBi80mAJXYXysqPvubpEZ4esTRuQNC/uHUJQGTCKa/Y0rx5rH9BmGF7OoC1UEVDIjNqIlFmmCeHoiWqaIg1rYwKK6xFnklyJlIIsQ1IgCV2FyqtjU3PMOt7F/Xj2whudIbAdgukikZrcVM54hc9Lc/9JYJKLBNgYsN4bjLuidGC8tjrlVGOJUoGeD4WuwshdgoJsMQuk5lFtc2xImseaDOvvKMfXuLpUXtezYRZp68Q2ba1ZTa0urdVE29PrbkJa4myEnj0ErDn4l8zdZYQYvtZe4evEE8Z1XhMhwI83BWr0prH+nisDxluKqtXlU3WreIJsd4CHa64A2dSi5kXprEww55ZPDl+h80wtBn7b92UYb+1i43h+G1w5sW3rcVEJXMckBBim5AAS+w+ROrAs1xSrTvvwDsf1xTwcf8js/8R5ZdQ9f649cTVWbMzJJs/PTHsmeWBdp4cTON8huQNTznrB2PdNhI0CyG2iARYYpei4mqjqIrH+nigbemxMDw7wbMTcOeqPScSyuFuuY+SkeowxTR1xw0e7Vn3CmaiEowmReKWnh0phNgdJMASuxgRlddTeT3PT/FIN4/22ucbfPO65Y9UXq8OPLtG5idr4qJlz8lZt3BI3/2I5y0ZtgA4nFRQhux8cufCmQFnBgwHKQOGgyeHdNu1uM5iCxmWj41h2B4PTJT1yVAhxA4hAZYQoNwiyi3CnpM8OcjDnTwVl7uBR3t1OKyOvmSttLNuXUrJqtATuuNmXHSVma2ajlFp3YqzTQmkThWbx5oLjQx1ZNVPkRDiKSI/i4V4QikqraXSWnjndE8Lj/VFW3hykEd7V0sRab2PRg4JTkmWUe88j/bEiu5c49Qba3znJBNfifRyPjmAEkA4CG2uMRUqhHhaSJoGIZbIylOHXlCHX7TOEvHwY0sPO8otshZtWRvWjcf7rUW19+Qa0RXkibPtxZb2YuluPyHE00oCLCGWR6U1VL0vWuS51W6NtuN446adNoB9locciaho7R089t1aYktRQVlcmG7J6i6EeLpJgCXEiuIO5dXmaqtv7py4U5bHB+wJINbHtDyD5nCC1voHa4Z5atheKbaQw2nd2M5DnUjtMxBCiO1qrZ/XQuxmAUuWSGfG6vGNik8Qr1svwdxw+iKHZUEwHFrzG+reh7JEuN1Q/aFYIRyUZzyF2CVWu2EI8bTRpu6+B9+CvX5ZoYAeaI+W1jxDhioa4M6JFnl+Wt/5EH6PpcsKgv6VLomyLQnlmXk8tu9+KR7u5L6H9lqx1Si/lIqrokUe69OtV9aMlQEgFOCBdtm2JcQOJU8Rit2EmXsfmr0PKa+YiipRWEE5BcvkNQgHeXxA97bAcs4JVTZZeiyHlDp0Tt/+IJp3m+enzGu/o4pGKqmh/NK4PyjgZe88Zsd5Zoxnx9WeE1RzINb6BBVX4/HtaFE/vqVc7qU7sdgzy70PFh97VCrZA55Fuqnm58ybf4hG2zzaY06PqOp9KKqknMK4jBt+D3vnMDfFMyM8OwnW6ujLsVYhxM6x5NYixC7Ac5M8N4meFgBw55ArE4YTRDDDHPDC77HlTKfSGiqpsdYsi3ILVfNzuvVKbLeW1jzUyUOdAGA44HBCa5ihRGMgdw6VN8S2zIdD+t4nlFOI/BI4M6BNBP08PwnP3GIHpdSxV/XDz9N4nE6CtIlwCOEQh4MwwwgHEQ7BDHHQF+vjneOBdjicMJxwOOFwkuGEwwHDFZefc9Ok75qdGeroy/reJwg8+VZBv+6+j+77IILDBWXADMMMpT1ZvxBis0iAJXY93wKvsEIXQSU16uBZe+0KqKxOZWTpB5/DeleOMMPr2OCs9p3WCzPsmYnW8MI0FpZ7VNBwqCMvUkEp5RXzxKC9dRPxwrS+8Xt77RK8MMOPb9lrAQDqxGu2BzPTLd3XTNn5xukv6Qef8exEXAOzbJsT4qkke7DEbqIMqm2Oy7q+usxsdfB5deTFpJJDUn6J8eyb1HAk0VOf3TnILrBXRjmc6uRrVFZnr49H+SXG6S9FHlhbc7uY2BquTHXiddX8PLJy7U3LcueoxmOUX2KvF0LsBDKDJXYTIrXnBBqP8uwEz47BMwe/hwM+6DBME+DIug9l5SGngIqr4tI0JMXhUg1HUNvMM6M8M4a5SQ76EQrCDEEpGE5yueHOodwiFJStHQ85XOrQC1x/iEd6MDvOvoXFI4QdTnLnILeISmvj5k7y5Ja8XRFRRYNRXs9zEzw9gplxDniffDAMOJyUkYWsPMotpIIKWB9xEELsNMSy5C+EEEIIkVKyRCiEEEIIkWISYAkhhBBCpJgEWEIIIYQQKSYBlhBCCCFEikmAJYQQQgiRYhJgCSGEEEKkmARYQgghhBApJgGWEEIIIUSKSYAlhBBCCJFiEmAJIYQQQqSYBFhCCCGEECkmhz0Lsbnmp81/+58AjO/+NTKy7K1i5+OhLn3x11TZqM5/y94mhNg1ZAZLCCFSiYe7EQrwQLu9QQixm0iAJYTYfbzz+trv4Vuw16cCVTbCmUGNh+0NQojdRJYIhRC7Dg8+5rabvP8UuXPsbRtGVU3G9/7GXiuE2GVkBksIsevwcLe9SgghUkoCLCHELqNNHum1VwohRErJEqEQacPMHbf58R2enYQyqKiCDj9PBaX2bgAAfeHHPDFkfPev4XJz+03uvMdzU2BQTj7qmtXxl2z9eWaMH17lkV74PHA4qbCMmo7SnmMginUKeM2f/x0VV6i3/oKHuvnBZZ4agTYpr5j2Hqf9p+I6AwB4Yoi7H2Csj+enEQ7DlUH5JdRwkPadgrL8PhYOmj/971RQqr76lzzaxw8u88QwQn5kZlNFvTr6IvKKYp2f4IEO7rjNE8MI+uByU1kNNZ+h8jp7vwjW3NPKPQ95chhBH5QDmVlUWE41+2jP0UiXyKDRsZeWjg8AffsTbrlEJVXqzT8HgPkpff8Spkd5ZgLaBKDf+d/W/nT4rDr1qrUm0dEAAOhPf8V9j6LFyOBY2uOk5e0WQmwnEmAJkR7M+uKvuK8NAJwZcGXyeD9/2KNOnLf3tOCFOb73Ox7oAADDATPMM+NUVG7v1nFbX30PzCCFrBwEfDzax6N91PtQvfJdGEZc59lJbr+tr16A4YA7BwEfT43wtREa6VEvf8t6h+aJIX3hx4sFhxNZufAv8Fg/j/XTYJd67bvRnhE8N8Wd9/Wld0CErFwgA9557mox+9uNN/8c+SWWrqwvvcNdLQDgdCErD34P97VxXxsdfl6dei3WM8Lv0Z/8gscHF4uGA+Eg5gM8Pw3DiAZYdOAZnvgNd9zG0XP2iIeZu+4DoL0nFiv8PizMwJlBJVU81g+AiivhcEa/gnILoq+R/GhQ3QFkZiHg5ZkJzE7YWpeVjrdbCLFNSIAlRFpw+y3uawORev6txZkGM8wPrug7n9q7WvCVd9k7p859jWr3wZmBcJBH+2zpsnikR199D0qpM1+kPccjgQUPd+vP3+Ghbn3rI3XmC9b+CIf0tffUM2/QgdNQBpi5856+coH72rj9Fh04He1IJVXUdJSKyqmuGdl5AKBNbr2ub33Eg495tM8+26RNfekdajyinnkdmdkAeGxAf/pL+D36zqfq/LdjHe/9kbta4MxQL/wJ1R4AEVhzb6u+fIEfXOHsfOtlgFl//AueGITTpU6cp/qDcOeANRZmeLATpbXRjtRwELc+hG+B+9uo/mDsOwA81AXvPBxOaji02Lm0mr74A2Bx+g0AvfCVlSYUkfxoUOPhyJOD/PiOvvyutWklaXm7hRDbg32WWwiRErr1GgBqPkN7jy/OEhkOOvYi1R2w9bTimTH1hf9ATUfgzAAAh4uq91JJVVyfWx+DWZ14hfadjE7bUGWjeuZ1ANx+C6GAtT8i9/6Dz0IZAEBEe4/TwTMA9MOrtp7q3Ffp4LOL8QQAZdDh56m4EgCi80kWVFypzn01El0BoLIadewcAB7uiXUK+PjBFQDq+TeprnlxNEhRw2H17JcA6DufIhSMdue+RzwxCCL1+veo+QwiD/qRQm4RNZ+h4opoTyiD9p0CwG03Y5UAAO68B4AaDsHpsjUlLtnRSFaa3m4hxHYgAZYQabAwi/lpAEuTIdkmWmyoZh8VlNlrrTxzPDmMSOgQj8rqAECbPD5kb6q1R3XUcBgAFmawMGtrWkZeEQAO+e31QCx8jCqqBIBQAGY4UsFDnTDDcGUu/btT42E4XQj6rY/1RdZVqaqJSmtiXVeg9p+CMni0j2fGY7UBXyTPZ3R9MJVWHo1kpentFkJsB7JEKETq8fxU5AVZ9yFFLLf7O4qKLNMzy+HpscgL85d/H99i4ffYa3IKbBWUXxx5wfNTlJMfawiHuOchD3djdoIDPoSCMMORLeHgWK+YpfFBdMaI9eL/ZyYAUEGJPRQDoBTll/DEEGbGEJ3bmxkHQGWxpcDVuLOp/iB3t3DbTXruy5E67m6BaSK/hEqr43snKdnRSFK63m4hxDYgAZYQaRAOLb6w7KGOoNVXrJb0t4tMnBAhd+VAbck3oaX7oKN9opeK2A4qEFFhGZVUw5UJh5OHOjG3GDLauVb960RElv8cK/R0uABwMBANvjjoBwCXO9plddT8DHe3cFcLTr0aWWuLrA+qfSdsPZOyntFI1pJ3ym5db7cQYjuQAEuINIje88wwjLh/ZRxeXDhbp8hmHcD42l8tMyG0Ag6H7F3DT/Y8RQO+cCgST1B5vXrp64s7nwAA+tM5XjGksH/jZbgyAMufaBOpf/L3Ap5cUsJbi6ikikqqeGKIO+9T8zM8NcpTo1AGNR2xd03cOkcj1db1dgshtgPZgyVE6lFuYeQFz07GtwCeBPY8rWzxqTdmnh61t61iSUAQvbDYpY71Rxab1LmvWuMJAPBtaBGKCssQWSh8smgYozXPTgCgwtJoXWRdlccHojVrouZnAHDHbQDc3QKAavfbHsdLSvpGIynrfLuFENuABFhCpEFOAXLy8eRmb2XNRbkeOQWRx+i45bK9aWXc22qviaSkyi1E9pMNWJGFPCJ7PDE/xRMb2kZNVU1wZiDo556HtibufoBQEE4XVTZGK6lmPwAeeMxTI7Guq6L6Q3Dn8Mw4T41y9wMAtMr6YHRO0e+Nq7dK22gkZ11vtxBiO5AAS4i0UM1nAHDrde68B2YA0Ca33ViMbDaATr8BUtzbqj/7TezRuYCPJ4f13Yt877O43gAA7m/ne58tPtbHzI/vRvIaqIPPRvssziExc3ss5QGP9Jgf/gwb3NHtzFDHXgSgr77Hva2Lo8HMPQ/1td8DUEfPWZcIqfEwFZaBtf7gp9xxBwFfpD+889zzgB/diPaMUUrtPwmAH1yGbwE5+daIzY4U8osR6WxdiIzsXo90Sd9oJGkdb7cQYjuQPVhCpAU1n6GRHh54rC/9FtffR2YWvPMww+rsW/r6+9at5cmi8jr10tf1pd9ydwt3t0ApgGLBQeORpVt11PGX9d2LaPkc7lwE/Qj6AVBdM+0/FeuUV0yNR7i7RV9/H63XKDObF2bh91BpNe07qW99FOuZPDr0HHnm+NF1ffHXcLqQkYWANzJLRPtP0eGzcb2VUq9+V3/8c54e01fexZV34XDCDEciM6pqiiwI2tD+U7h/KTJJpvYctzfHU0fP6c9+w0Nd5tt/B3cutImAV514hQ49t9gjydHggQ4e7kEogFAgsvzKCzP6o5/BmQlXBpwZ6shZuDJtX5WIdbzdQojtQAIsIdKDSL3yHW67xZ13eXYSfi+V1tDRF6iigdpuJb74tSyqP2iUVOu2Gxjq4vkZsEZOPuUUUPXepbmmANCeo6q4kh9e4ckRaJOKKpY9i1Cd+wqX1XDHHZ6fZr+Xcgvp4Bk6+Fxkm9QGqTNf4Jq93HaTxwfhnYPLTRUNtP8UVTXZuwLIzlNv/oi77nNvK0+PIuiHMwOZ2VRaRU2L5+TYZWZTw0HuaolkUrW3xqPGI8rh4tbrPDUCzxxcGVRQFpnWikpqNHjwMbffjqsKh3iwM1bcf2p9ARaSf7uFENsBcWS6Xgjx9Al4zZ//HQDj6/8JeXHRw1NJX/4dP75L1XuXHhQohBCbTPZgCbEL7IZfo8KhyF7+1ba3CyHEZpEASwjxNOD2WwgFkZNPNfvsbUIIsekkwBJC7Hg82KnvXgSgjp+XhJxCiO1ANrkLIXYq/cFPeX4KoRACXgDUcGhD2duFECJ1JMASQuxYGW5MBREKILdI7T1Gh5+3dxBCiC0iTxEKIYQQQqSY7MESQgghhEgxCbCEEEIIIVJMAiwhhBBCiBSTAEsIIYQQIsUkwBJCCCGESDEJsIQQQgghUkwCLCGEEEKIFJMASwghhBAixSTAEkIIIYRIMQmwhBBCCCFSTAIsIYQQQogUkwBLCCGEECLF/j+EZbJoadn8BAAAAABJRU5ErkJggg==",
         "type": "image",
         "xaxis": "x",
         "yaxis": "y"
        }
       ],
       "layout": {
        "margin": {
         "b": 0,
         "l": 0,
         "r": 0,
         "t": 50
        },
        "template": {
         "data": {
          "bar": [
           {
            "error_x": {
             "color": "#2a3f5f"
            },
            "error_y": {
             "color": "#2a3f5f"
            },
            "marker": {
             "line": {
              "color": "#E5ECF6",
              "width": 0.5
             },
             "pattern": {
              "fillmode": "overlay",
              "size": 10,
              "solidity": 0.2
             }
            },
            "type": "bar"
           }
          ],
          "barpolar": [
           {
            "marker": {
             "line": {
              "color": "#E5ECF6",
              "width": 0.5
             },
             "pattern": {
              "fillmode": "overlay",
              "size": 10,
              "solidity": 0.2
             }
            },
            "type": "barpolar"
           }
          ],
          "carpet": [
           {
            "aaxis": {
             "endlinecolor": "#2a3f5f",
             "gridcolor": "white",
             "linecolor": "white",
             "minorgridcolor": "white",
             "startlinecolor": "#2a3f5f"
            },
            "baxis": {
             "endlinecolor": "#2a3f5f",
             "gridcolor": "white",
             "linecolor": "white",
             "minorgridcolor": "white",
             "startlinecolor": "#2a3f5f"
            },
            "type": "carpet"
           }
          ],
          "choropleth": [
           {
            "colorbar": {
             "outlinewidth": 0,
             "ticks": ""
            },
            "type": "choropleth"
           }
          ],
          "contour": [
           {
            "colorbar": {
             "outlinewidth": 0,
             "ticks": ""
            },
            "colorscale": [
             [
              0,
              "#0d0887"
             ],
             [
              0.1111111111111111,
              "#46039f"
             ],
             [
              0.2222222222222222,
              "#7201a8"
             ],
             [
              0.3333333333333333,
              "#9c179e"
             ],
             [
              0.4444444444444444,
              "#bd3786"
             ],
             [
              0.5555555555555556,
              "#d8576b"
             ],
             [
              0.6666666666666666,
              "#ed7953"
             ],
             [
              0.7777777777777778,
              "#fb9f3a"
             ],
             [
              0.8888888888888888,
              "#fdca26"
             ],
             [
              1,
              "#f0f921"
             ]
            ],
            "type": "contour"
           }
          ],
          "contourcarpet": [
           {
            "colorbar": {
             "outlinewidth": 0,
             "ticks": ""
            },
            "type": "contourcarpet"
           }
          ],
          "heatmap": [
           {
            "colorbar": {
             "outlinewidth": 0,
             "ticks": ""
            },
            "colorscale": [
             [
              0,
              "#0d0887"
             ],
             [
              0.1111111111111111,
              "#46039f"
             ],
             [
              0.2222222222222222,
              "#7201a8"
             ],
             [
              0.3333333333333333,
              "#9c179e"
             ],
             [
              0.4444444444444444,
              "#bd3786"
             ],
             [
              0.5555555555555556,
              "#d8576b"
             ],
             [
              0.6666666666666666,
              "#ed7953"
             ],
             [
              0.7777777777777778,
              "#fb9f3a"
             ],
             [
              0.8888888888888888,
              "#fdca26"
             ],
             [
              1,
              "#f0f921"
             ]
            ],
            "type": "heatmap"
           }
          ],
          "heatmapgl": [
           {
            "colorbar": {
             "outlinewidth": 0,
             "ticks": ""
            },
            "colorscale": [
             [
              0,
              "#0d0887"
             ],
             [
              0.1111111111111111,
              "#46039f"
             ],
             [
              0.2222222222222222,
              "#7201a8"
             ],
             [
              0.3333333333333333,
              "#9c179e"
             ],
             [
              0.4444444444444444,
              "#bd3786"
             ],
             [
              0.5555555555555556,
              "#d8576b"
             ],
             [
              0.6666666666666666,
              "#ed7953"
             ],
             [
              0.7777777777777778,
              "#fb9f3a"
             ],
             [
              0.8888888888888888,
              "#fdca26"
             ],
             [
              1,
              "#f0f921"
             ]
            ],
            "type": "heatmapgl"
           }
          ],
          "histogram": [
           {
            "marker": {
             "pattern": {
              "fillmode": "overlay",
              "size": 10,
              "solidity": 0.2
             }
            },
            "type": "histogram"
           }
          ],
          "histogram2d": [
           {
            "colorbar": {
             "outlinewidth": 0,
             "ticks": ""
            },
            "colorscale": [
             [
              0,
              "#0d0887"
             ],
             [
              0.1111111111111111,
              "#46039f"
             ],
             [
              0.2222222222222222,
              "#7201a8"
             ],
             [
              0.3333333333333333,
              "#9c179e"
             ],
             [
              0.4444444444444444,
              "#bd3786"
             ],
             [
              0.5555555555555556,
              "#d8576b"
             ],
             [
              0.6666666666666666,
              "#ed7953"
             ],
             [
              0.7777777777777778,
              "#fb9f3a"
             ],
             [
              0.8888888888888888,
              "#fdca26"
             ],
             [
              1,
              "#f0f921"
             ]
            ],
            "type": "histogram2d"
           }
          ],
          "histogram2dcontour": [
           {
            "colorbar": {
             "outlinewidth": 0,
             "ticks": ""
            },
            "colorscale": [
             [
              0,
              "#0d0887"
             ],
             [
              0.1111111111111111,
              "#46039f"
             ],
             [
              0.2222222222222222,
              "#7201a8"
             ],
             [
              0.3333333333333333,
              "#9c179e"
             ],
             [
              0.4444444444444444,
              "#bd3786"
             ],
             [
              0.5555555555555556,
              "#d8576b"
             ],
             [
              0.6666666666666666,
              "#ed7953"
             ],
             [
              0.7777777777777778,
              "#fb9f3a"
             ],
             [
              0.8888888888888888,
              "#fdca26"
             ],
             [
              1,
              "#f0f921"
             ]
            ],
            "type": "histogram2dcontour"
           }
          ],
          "mesh3d": [
           {
            "colorbar": {
             "outlinewidth": 0,
             "ticks": ""
            },
            "type": "mesh3d"
           }
          ],
          "parcoords": [
           {
            "line": {
             "colorbar": {
              "outlinewidth": 0,
              "ticks": ""
             }
            },
            "type": "parcoords"
           }
          ],
          "pie": [
           {
            "automargin": true,
            "type": "pie"
           }
          ],
          "scatter": [
           {
            "fillpattern": {
             "fillmode": "overlay",
             "size": 10,
             "solidity": 0.2
            },
            "type": "scatter"
           }
          ],
          "scatter3d": [
           {
            "line": {
             "colorbar": {
              "outlinewidth": 0,
              "ticks": ""
             }
            },
            "marker": {
             "colorbar": {
              "outlinewidth": 0,
              "ticks": ""
             }
            },
            "type": "scatter3d"
           }
          ],
          "scattercarpet": [
           {
            "marker": {
             "colorbar": {
              "outlinewidth": 0,
              "ticks": ""
             }
            },
            "type": "scattercarpet"
           }
          ],
          "scattergeo": [
           {
            "marker": {
             "colorbar": {
              "outlinewidth": 0,
              "ticks": ""
             }
            },
            "type": "scattergeo"
           }
          ],
          "scattergl": [
           {
            "marker": {
             "colorbar": {
              "outlinewidth": 0,
              "ticks": ""
             }
            },
            "type": "scattergl"
           }
          ],
          "scattermapbox": [
           {
            "marker": {
             "colorbar": {
              "outlinewidth": 0,
              "ticks": ""
             }
            },
            "type": "scattermapbox"
           }
          ],
          "scatterpolar": [
           {
            "marker": {
             "colorbar": {
              "outlinewidth": 0,
              "ticks": ""
             }
            },
            "type": "scatterpolar"
           }
          ],
          "scatterpolargl": [
           {
            "marker": {
             "colorbar": {
              "outlinewidth": 0,
              "ticks": ""
             }
            },
            "type": "scatterpolargl"
           }
          ],
          "scatterternary": [
           {
            "marker": {
             "colorbar": {
              "outlinewidth": 0,
              "ticks": ""
             }
            },
            "type": "scatterternary"
           }
          ],
          "surface": [
           {
            "colorbar": {
             "outlinewidth": 0,
             "ticks": ""
            },
            "colorscale": [
             [
              0,
              "#0d0887"
             ],
             [
              0.1111111111111111,
              "#46039f"
             ],
             [
              0.2222222222222222,
              "#7201a8"
             ],
             [
              0.3333333333333333,
              "#9c179e"
             ],
             [
              0.4444444444444444,
              "#bd3786"
             ],
             [
              0.5555555555555556,
              "#d8576b"
             ],
             [
              0.6666666666666666,
              "#ed7953"
             ],
             [
              0.7777777777777778,
              "#fb9f3a"
             ],
             [
              0.8888888888888888,
              "#fdca26"
             ],
             [
              1,
              "#f0f921"
             ]
            ],
            "type": "surface"
           }
          ],
          "table": [
           {
            "cells": {
             "fill": {
              "color": "#EBF0F8"
             },
             "line": {
              "color": "white"
             }
            },
            "header": {
             "fill": {
              "color": "#C8D4E3"
             },
             "line": {
              "color": "white"
             }
            },
            "type": "table"
           }
          ]
         },
         "layout": {
          "annotationdefaults": {
           "arrowcolor": "#2a3f5f",
           "arrowhead": 0,
           "arrowwidth": 1
          },
          "autotypenumbers": "strict",
          "coloraxis": {
           "colorbar": {
            "outlinewidth": 0,
            "ticks": ""
           }
          },
          "colorscale": {
           "diverging": [
            [
             0,
             "#8e0152"
            ],
            [
             0.1,
             "#c51b7d"
            ],
            [
             0.2,
             "#de77ae"
            ],
            [
             0.3,
             "#f1b6da"
            ],
            [
             0.4,
             "#fde0ef"
            ],
            [
             0.5,
             "#f7f7f7"
            ],
            [
             0.6,
             "#e6f5d0"
            ],
            [
             0.7,
             "#b8e186"
            ],
            [
             0.8,
             "#7fbc41"
            ],
            [
             0.9,
             "#4d9221"
            ],
            [
             1,
             "#276419"
            ]
           ],
           "sequential": [
            [
             0,
             "#0d0887"
            ],
            [
             0.1111111111111111,
             "#46039f"
            ],
            [
             0.2222222222222222,
             "#7201a8"
            ],
            [
             0.3333333333333333,
             "#9c179e"
            ],
            [
             0.4444444444444444,
             "#bd3786"
            ],
            [
             0.5555555555555556,
             "#d8576b"
            ],
            [
             0.6666666666666666,
             "#ed7953"
            ],
            [
             0.7777777777777778,
             "#fb9f3a"
            ],
            [
             0.8888888888888888,
             "#fdca26"
            ],
            [
             1,
             "#f0f921"
            ]
           ],
           "sequentialminus": [
            [
             0,
             "#0d0887"
            ],
            [
             0.1111111111111111,
             "#46039f"
            ],
            [
             0.2222222222222222,
             "#7201a8"
            ],
            [
             0.3333333333333333,
             "#9c179e"
            ],
            [
             0.4444444444444444,
             "#bd3786"
            ],
            [
             0.5555555555555556,
             "#d8576b"
            ],
            [
             0.6666666666666666,
             "#ed7953"
            ],
            [
             0.7777777777777778,
             "#fb9f3a"
            ],
            [
             0.8888888888888888,
             "#fdca26"
            ],
            [
             1,
             "#f0f921"
            ]
           ]
          },
          "colorway": [
           "#636efa",
           "#EF553B",
           "#00cc96",
           "#ab63fa",
           "#FFA15A",
           "#19d3f3",
           "#FF6692",
           "#B6E880",
           "#FF97FF",
           "#FECB52"
          ],
          "font": {
           "color": "#2a3f5f"
          },
          "geo": {
           "bgcolor": "white",
           "lakecolor": "white",
           "landcolor": "#E5ECF6",
           "showlakes": true,
           "showland": true,
           "subunitcolor": "white"
          },
          "hoverlabel": {
           "align": "left"
          },
          "hovermode": "closest",
          "mapbox": {
           "style": "light"
          },
          "paper_bgcolor": "white",
          "plot_bgcolor": "#E5ECF6",
          "polar": {
           "angularaxis": {
            "gridcolor": "white",
            "linecolor": "white",
            "ticks": ""
           },
           "bgcolor": "#E5ECF6",
           "radialaxis": {
            "gridcolor": "white",
            "linecolor": "white",
            "ticks": ""
           }
          },
          "scene": {
           "xaxis": {
            "backgroundcolor": "#E5ECF6",
            "gridcolor": "white",
            "gridwidth": 2,
            "linecolor": "white",
            "showbackground": true,
            "ticks": "",
            "zerolinecolor": "white"
           },
           "yaxis": {
            "backgroundcolor": "#E5ECF6",
            "gridcolor": "white",
            "gridwidth": 2,
            "linecolor": "white",
            "showbackground": true,
            "ticks": "",
            "zerolinecolor": "white"
           },
           "zaxis": {
            "backgroundcolor": "#E5ECF6",
            "gridcolor": "white",
            "gridwidth": 2,
            "linecolor": "white",
            "showbackground": true,
            "ticks": "",
            "zerolinecolor": "white"
           }
          },
          "shapedefaults": {
           "line": {
            "color": "#2a3f5f"
           }
          },
          "ternary": {
           "aaxis": {
            "gridcolor": "white",
            "linecolor": "white",
            "ticks": ""
           },
           "baxis": {
            "gridcolor": "white",
            "linecolor": "white",
            "ticks": ""
           },
           "bgcolor": "#E5ECF6",
           "caxis": {
            "gridcolor": "white",
            "linecolor": "white",
            "ticks": ""
           }
          },
          "title": {
           "x": 0.05
          },
          "xaxis": {
           "automargin": true,
           "gridcolor": "white",
           "linecolor": "white",
           "ticks": "",
           "title": {
            "standoff": 15
           },
           "zerolinecolor": "white",
           "zerolinewidth": 2
          },
          "yaxis": {
           "automargin": true,
           "gridcolor": "white",
           "linecolor": "white",
           "ticks": "",
           "title": {
            "standoff": 15
           },
           "zerolinecolor": "white",
           "zerolinewidth": 2
          }
         }
        },
        "title": {
         "text": "Nuage de Mots - Don de Sang"
        },
        "xaxis": {
         "anchor": "y",
         "domain": [
          0,
          1
         ],
         "visible": false
        },
        "yaxis": {
         "anchor": "x",
         "domain": [
          0,
          1
         ],
         "visible": false
        }
       }
      }
     },
     "metadata": {},
     "output_type": "display_data"
    },
    {
     "data": {
      "text/plain": [
       "<wordcloud.wordcloud.WordCloud at 0x25894224680>"
      ]
     },
     "execution_count": 80,
     "metadata": {},
     "output_type": "execute_result"
    }
   ],
   "source": [
    "generate_blood_drop_wordcloud(df[df['ÉLIGIBILITÉ_AU_DON.'] == 'Définitivement non-eligible']['Raison_indisponibilité_fusionnée'].dropna())\n"
   ]
  },
  {
   "cell_type": "markdown",
   "metadata": {},
   "source": [
    "Definitivement non eligible : autres raisons "
   ]
  },
  {
   "cell_type": "code",
   "execution_count": 81,
   "metadata": {},
   "outputs": [
    {
     "data": {
      "application/vnd.plotly.v1+json": {
       "config": {
        "plotlyServerURL": "https://plot.ly"
       },
       "data": [
        {
         "hovertemplate": "x: %{x}<br>y: %{y}<br>color: [%{z[0]}, %{z[1]}, %{z[2]}]<extra></extra>",
         "name": "0",
         "source": "data:image/png;base64,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",
         "type": "image",
         "xaxis": "x",
         "yaxis": "y"
        }
       ],
       "layout": {
        "margin": {
         "b": 0,
         "l": 0,
         "r": 0,
         "t": 50
        },
        "template": {
         "data": {
          "bar": [
           {
            "error_x": {
             "color": "#2a3f5f"
            },
            "error_y": {
             "color": "#2a3f5f"
            },
            "marker": {
             "line": {
              "color": "#E5ECF6",
              "width": 0.5
             },
             "pattern": {
              "fillmode": "overlay",
              "size": 10,
              "solidity": 0.2
             }
            },
            "type": "bar"
           }
          ],
          "barpolar": [
           {
            "marker": {
             "line": {
              "color": "#E5ECF6",
              "width": 0.5
             },
             "pattern": {
              "fillmode": "overlay",
              "size": 10,
              "solidity": 0.2
             }
            },
            "type": "barpolar"
           }
          ],
          "carpet": [
           {
            "aaxis": {
             "endlinecolor": "#2a3f5f",
             "gridcolor": "white",
             "linecolor": "white",
             "minorgridcolor": "white",
             "startlinecolor": "#2a3f5f"
            },
            "baxis": {
             "endlinecolor": "#2a3f5f",
             "gridcolor": "white",
             "linecolor": "white",
             "minorgridcolor": "white",
             "startlinecolor": "#2a3f5f"
            },
            "type": "carpet"
           }
          ],
          "choropleth": [
           {
            "colorbar": {
             "outlinewidth": 0,
             "ticks": ""
            },
            "type": "choropleth"
           }
          ],
          "contour": [
           {
            "colorbar": {
             "outlinewidth": 0,
             "ticks": ""
            },
            "colorscale": [
             [
              0,
              "#0d0887"
             ],
             [
              0.1111111111111111,
              "#46039f"
             ],
             [
              0.2222222222222222,
              "#7201a8"
             ],
             [
              0.3333333333333333,
              "#9c179e"
             ],
             [
              0.4444444444444444,
              "#bd3786"
             ],
             [
              0.5555555555555556,
              "#d8576b"
             ],
             [
              0.6666666666666666,
              "#ed7953"
             ],
             [
              0.7777777777777778,
              "#fb9f3a"
             ],
             [
              0.8888888888888888,
              "#fdca26"
             ],
             [
              1,
              "#f0f921"
             ]
            ],
            "type": "contour"
           }
          ],
          "contourcarpet": [
           {
            "colorbar": {
             "outlinewidth": 0,
             "ticks": ""
            },
            "type": "contourcarpet"
           }
          ],
          "heatmap": [
           {
            "colorbar": {
             "outlinewidth": 0,
             "ticks": ""
            },
            "colorscale": [
             [
              0,
              "#0d0887"
             ],
             [
              0.1111111111111111,
              "#46039f"
             ],
             [
              0.2222222222222222,
              "#7201a8"
             ],
             [
              0.3333333333333333,
              "#9c179e"
             ],
             [
              0.4444444444444444,
              "#bd3786"
             ],
             [
              0.5555555555555556,
              "#d8576b"
             ],
             [
              0.6666666666666666,
              "#ed7953"
             ],
             [
              0.7777777777777778,
              "#fb9f3a"
             ],
             [
              0.8888888888888888,
              "#fdca26"
             ],
             [
              1,
              "#f0f921"
             ]
            ],
            "type": "heatmap"
           }
          ],
          "heatmapgl": [
           {
            "colorbar": {
             "outlinewidth": 0,
             "ticks": ""
            },
            "colorscale": [
             [
              0,
              "#0d0887"
             ],
             [
              0.1111111111111111,
              "#46039f"
             ],
             [
              0.2222222222222222,
              "#7201a8"
             ],
             [
              0.3333333333333333,
              "#9c179e"
             ],
             [
              0.4444444444444444,
              "#bd3786"
             ],
             [
              0.5555555555555556,
              "#d8576b"
             ],
             [
              0.6666666666666666,
              "#ed7953"
             ],
             [
              0.7777777777777778,
              "#fb9f3a"
             ],
             [
              0.8888888888888888,
              "#fdca26"
             ],
             [
              1,
              "#f0f921"
             ]
            ],
            "type": "heatmapgl"
           }
          ],
          "histogram": [
           {
            "marker": {
             "pattern": {
              "fillmode": "overlay",
              "size": 10,
              "solidity": 0.2
             }
            },
            "type": "histogram"
           }
          ],
          "histogram2d": [
           {
            "colorbar": {
             "outlinewidth": 0,
             "ticks": ""
            },
            "colorscale": [
             [
              0,
              "#0d0887"
             ],
             [
              0.1111111111111111,
              "#46039f"
             ],
             [
              0.2222222222222222,
              "#7201a8"
             ],
             [
              0.3333333333333333,
              "#9c179e"
             ],
             [
              0.4444444444444444,
              "#bd3786"
             ],
             [
              0.5555555555555556,
              "#d8576b"
             ],
             [
              0.6666666666666666,
              "#ed7953"
             ],
             [
              0.7777777777777778,
              "#fb9f3a"
             ],
             [
              0.8888888888888888,
              "#fdca26"
             ],
             [
              1,
              "#f0f921"
             ]
            ],
            "type": "histogram2d"
           }
          ],
          "histogram2dcontour": [
           {
            "colorbar": {
             "outlinewidth": 0,
             "ticks": ""
            },
            "colorscale": [
             [
              0,
              "#0d0887"
             ],
             [
              0.1111111111111111,
              "#46039f"
             ],
             [
              0.2222222222222222,
              "#7201a8"
             ],
             [
              0.3333333333333333,
              "#9c179e"
             ],
             [
              0.4444444444444444,
              "#bd3786"
             ],
             [
              0.5555555555555556,
              "#d8576b"
             ],
             [
              0.6666666666666666,
              "#ed7953"
             ],
             [
              0.7777777777777778,
              "#fb9f3a"
             ],
             [
              0.8888888888888888,
              "#fdca26"
             ],
             [
              1,
              "#f0f921"
             ]
            ],
            "type": "histogram2dcontour"
           }
          ],
          "mesh3d": [
           {
            "colorbar": {
             "outlinewidth": 0,
             "ticks": ""
            },
            "type": "mesh3d"
           }
          ],
          "parcoords": [
           {
            "line": {
             "colorbar": {
              "outlinewidth": 0,
              "ticks": ""
             }
            },
            "type": "parcoords"
           }
          ],
          "pie": [
           {
            "automargin": true,
            "type": "pie"
           }
          ],
          "scatter": [
           {
            "fillpattern": {
             "fillmode": "overlay",
             "size": 10,
             "solidity": 0.2
            },
            "type": "scatter"
           }
          ],
          "scatter3d": [
           {
            "line": {
             "colorbar": {
              "outlinewidth": 0,
              "ticks": ""
             }
            },
            "marker": {
             "colorbar": {
              "outlinewidth": 0,
              "ticks": ""
             }
            },
            "type": "scatter3d"
           }
          ],
          "scattercarpet": [
           {
            "marker": {
             "colorbar": {
              "outlinewidth": 0,
              "ticks": ""
             }
            },
            "type": "scattercarpet"
           }
          ],
          "scattergeo": [
           {
            "marker": {
             "colorbar": {
              "outlinewidth": 0,
              "ticks": ""
             }
            },
            "type": "scattergeo"
           }
          ],
          "scattergl": [
           {
            "marker": {
             "colorbar": {
              "outlinewidth": 0,
              "ticks": ""
             }
            },
            "type": "scattergl"
           }
          ],
          "scattermapbox": [
           {
            "marker": {
             "colorbar": {
              "outlinewidth": 0,
              "ticks": ""
             }
            },
            "type": "scattermapbox"
           }
          ],
          "scatterpolar": [
           {
            "marker": {
             "colorbar": {
              "outlinewidth": 0,
              "ticks": ""
             }
            },
            "type": "scatterpolar"
           }
          ],
          "scatterpolargl": [
           {
            "marker": {
             "colorbar": {
              "outlinewidth": 0,
              "ticks": ""
             }
            },
            "type": "scatterpolargl"
           }
          ],
          "scatterternary": [
           {
            "marker": {
             "colorbar": {
              "outlinewidth": 0,
              "ticks": ""
             }
            },
            "type": "scatterternary"
           }
          ],
          "surface": [
           {
            "colorbar": {
             "outlinewidth": 0,
             "ticks": ""
            },
            "colorscale": [
             [
              0,
              "#0d0887"
             ],
             [
              0.1111111111111111,
              "#46039f"
             ],
             [
              0.2222222222222222,
              "#7201a8"
             ],
             [
              0.3333333333333333,
              "#9c179e"
             ],
             [
              0.4444444444444444,
              "#bd3786"
             ],
             [
              0.5555555555555556,
              "#d8576b"
             ],
             [
              0.6666666666666666,
              "#ed7953"
             ],
             [
              0.7777777777777778,
              "#fb9f3a"
             ],
             [
              0.8888888888888888,
              "#fdca26"
             ],
             [
              1,
              "#f0f921"
             ]
            ],
            "type": "surface"
           }
          ],
          "table": [
           {
            "cells": {
             "fill": {
              "color": "#EBF0F8"
             },
             "line": {
              "color": "white"
             }
            },
            "header": {
             "fill": {
              "color": "#C8D4E3"
             },
             "line": {
              "color": "white"
             }
            },
            "type": "table"
           }
          ]
         },
         "layout": {
          "annotationdefaults": {
           "arrowcolor": "#2a3f5f",
           "arrowhead": 0,
           "arrowwidth": 1
          },
          "autotypenumbers": "strict",
          "coloraxis": {
           "colorbar": {
            "outlinewidth": 0,
            "ticks": ""
           }
          },
          "colorscale": {
           "diverging": [
            [
             0,
             "#8e0152"
            ],
            [
             0.1,
             "#c51b7d"
            ],
            [
             0.2,
             "#de77ae"
            ],
            [
             0.3,
             "#f1b6da"
            ],
            [
             0.4,
             "#fde0ef"
            ],
            [
             0.5,
             "#f7f7f7"
            ],
            [
             0.6,
             "#e6f5d0"
            ],
            [
             0.7,
             "#b8e186"
            ],
            [
             0.8,
             "#7fbc41"
            ],
            [
             0.9,
             "#4d9221"
            ],
            [
             1,
             "#276419"
            ]
           ],
           "sequential": [
            [
             0,
             "#0d0887"
            ],
            [
             0.1111111111111111,
             "#46039f"
            ],
            [
             0.2222222222222222,
             "#7201a8"
            ],
            [
             0.3333333333333333,
             "#9c179e"
            ],
            [
             0.4444444444444444,
             "#bd3786"
            ],
            [
             0.5555555555555556,
             "#d8576b"
            ],
            [
             0.6666666666666666,
             "#ed7953"
            ],
            [
             0.7777777777777778,
             "#fb9f3a"
            ],
            [
             0.8888888888888888,
             "#fdca26"
            ],
            [
             1,
             "#f0f921"
            ]
           ],
           "sequentialminus": [
            [
             0,
             "#0d0887"
            ],
            [
             0.1111111111111111,
             "#46039f"
            ],
            [
             0.2222222222222222,
             "#7201a8"
            ],
            [
             0.3333333333333333,
             "#9c179e"
            ],
            [
             0.4444444444444444,
             "#bd3786"
            ],
            [
             0.5555555555555556,
             "#d8576b"
            ],
            [
             0.6666666666666666,
             "#ed7953"
            ],
            [
             0.7777777777777778,
             "#fb9f3a"
            ],
            [
             0.8888888888888888,
             "#fdca26"
            ],
            [
             1,
             "#f0f921"
            ]
           ]
          },
          "colorway": [
           "#636efa",
           "#EF553B",
           "#00cc96",
           "#ab63fa",
           "#FFA15A",
           "#19d3f3",
           "#FF6692",
           "#B6E880",
           "#FF97FF",
           "#FECB52"
          ],
          "font": {
           "color": "#2a3f5f"
          },
          "geo": {
           "bgcolor": "white",
           "lakecolor": "white",
           "landcolor": "#E5ECF6",
           "showlakes": true,
           "showland": true,
           "subunitcolor": "white"
          },
          "hoverlabel": {
           "align": "left"
          },
          "hovermode": "closest",
          "mapbox": {
           "style": "light"
          },
          "paper_bgcolor": "white",
          "plot_bgcolor": "#E5ECF6",
          "polar": {
           "angularaxis": {
            "gridcolor": "white",
            "linecolor": "white",
            "ticks": ""
           },
           "bgcolor": "#E5ECF6",
           "radialaxis": {
            "gridcolor": "white",
            "linecolor": "white",
            "ticks": ""
           }
          },
          "scene": {
           "xaxis": {
            "backgroundcolor": "#E5ECF6",
            "gridcolor": "white",
            "gridwidth": 2,
            "linecolor": "white",
            "showbackground": true,
            "ticks": "",
            "zerolinecolor": "white"
           },
           "yaxis": {
            "backgroundcolor": "#E5ECF6",
            "gridcolor": "white",
            "gridwidth": 2,
            "linecolor": "white",
            "showbackground": true,
            "ticks": "",
            "zerolinecolor": "white"
           },
           "zaxis": {
            "backgroundcolor": "#E5ECF6",
            "gridcolor": "white",
            "gridwidth": 2,
            "linecolor": "white",
            "showbackground": true,
            "ticks": "",
            "zerolinecolor": "white"
           }
          },
          "shapedefaults": {
           "line": {
            "color": "#2a3f5f"
           }
          },
          "ternary": {
           "aaxis": {
            "gridcolor": "white",
            "linecolor": "white",
            "ticks": ""
           },
           "baxis": {
            "gridcolor": "white",
            "linecolor": "white",
            "ticks": ""
           },
           "bgcolor": "#E5ECF6",
           "caxis": {
            "gridcolor": "white",
            "linecolor": "white",
            "ticks": ""
           }
          },
          "title": {
           "x": 0.05
          },
          "xaxis": {
           "automargin": true,
           "gridcolor": "white",
           "linecolor": "white",
           "ticks": "",
           "title": {
            "standoff": 15
           },
           "zerolinecolor": "white",
           "zerolinewidth": 2
          },
          "yaxis": {
           "automargin": true,
           "gridcolor": "white",
           "linecolor": "white",
           "ticks": "",
           "title": {
            "standoff": 15
           },
           "zerolinecolor": "white",
           "zerolinewidth": 2
          }
         }
        },
        "title": {
         "text": "Nuage de Mots - Don de Sang"
        },
        "xaxis": {
         "anchor": "y",
         "domain": [
          0,
          1
         ],
         "visible": false
        },
        "yaxis": {
         "anchor": "x",
         "domain": [
          0,
          1
         ],
         "visible": false
        }
       }
      }
     },
     "metadata": {},
     "output_type": "display_data"
    },
    {
     "data": {
      "text/plain": [
       "<wordcloud.wordcloud.WordCloud at 0x25894a908f0>"
      ]
     },
     "execution_count": 81,
     "metadata": {},
     "output_type": "execute_result"
    }
   ],
   "source": [
    "generate_blood_drop_wordcloud(df[df['ÉLIGIBILITÉ_AU_DON.'] == 'Définitivement non-eligible']['Si autres raison préciser'].dropna())"
   ]
  },
  {
   "cell_type": "code",
   "execution_count": 82,
   "metadata": {},
   "outputs": [
    {
     "data": {
      "application/vnd.plotly.v1+json": {
       "config": {
        "plotlyServerURL": "https://plot.ly"
       },
       "data": [
        {
         "hovertemplate": "x: %{x}<br>y: %{y}<br>color: [%{z[0]}, %{z[1]}, %{z[2]}]<extra></extra>",
         "name": "0",
         "source": "data:image/png;base64,iVBORw0KGgoAAAANSUhEUgAAAyAAAAGQCAIAAADZR5NjAAC5BUlEQVR4Xuzdd5jcxPkH8O9Iq+3Xm6/53LvBNtiYYnoxvXdCDZ0fJIFQAqGlkQQCCb2EhF5Cx3QwxgXbuOPey/Xetkua+f2hvS1a3d7uXvGV+Tx+/Ny+M9rVSrvSuzOjEWGMgeM4juM4jus5gj7AcRzHcRzHdQ9PsDiO4ziO43oYT7A4juM4juN6GE+wOI7jOI7jehhPsDiO4ziO43oYT7A4juM4juN6GE+wOI7jOI7jehhPsDiO4ziO43oYT7A4juM4juN6GE+wOI7jOI7jehhPsDiO4ziO43oYT7A4juM4juN6GE+wOI7jOI7jehhPsDiO4ziO43oYT7A4juM4juN6GE+wOI7jOI7jehhPsDiO4ziO43oYT7A4juM4juN6GE+wOI7jOI7jehhPsDiO4ziO43oYT7A4juM4juN6GE+wOI7juChs10b1H7fRD57XF3AclzCeYHEcx3FR2J7N8PvY9nX6Ao7jEsYTLK5foIs+VR+7jW36SV/QJ/bvq3Ncf0NGTITFSibP0hdwHJcwnmBx/cPO9ZD9bPdmfVynsYatX6oPdl+Cr85xQwMZNVn8zT+F067UF3AclzCeYHH9w+ipMFvJ2AP18Wh01QK68GN9tPsSe3WO4ziOSxBhjOljHNdfqS88ANkv3vyIvoDjOI7j+hOTPsBx/VZrI5pqkZapj3PcAMeq9rBNP2HfNtZcDyUAi43kFJJJB5PpR0IQw/UCfvWxW0lukXDtA2zfNrbsK1a1B34vHOmkbLxw+CnILghX7sB+/pGtW8LqK+D36YrI8HHCpbeHHtIPnmdbV4dLc4uEax8IPQxLbTXqK9nyb9jerXC3QTKTvGIy9VBywGEgRF+V4wYFnmBxCWiuV5//PZl4sHDmNWzVD2zdItZUB8lMSseSI04j+SX6+pSyn5ewDctYfRUUGRk5ZNyBwuyTYHXoK778R1ZXEXooHH0WmT03ohwAWG05++kb1FWwxhoAaG9RH7khsoJ4x5MwSaGH6pN3wmQSb/wzfB66eB7bvg6uVlhspKCUHHMuyS8O1Uzk1dHaqD57Lxk3TTjnerZ2MVu7mDXVgFKSXUCmzCYzjwXR97OzPZvZyvmscjf8XjjSyPDxZPaJJC/8uhwXiVXtpq90NMpKFqRlwdXKKnawih1k10bh/FuiagOsuY6tX0rnvQICpGUBDO3NbMMyddta8Yq7kVsYWZl+/ipbtwSiiYyYAKudVe1Bcx0AUlCK4eNIyejIymT8dNid8LpYQzUaqiOLYiW1GmztIvrlm2AUggBnJrwuVr6dlW8nm1cK598MkZ+JuEGIf6y5hDVU089eZeuXwp5GcgtZcz3btpbt2iicfwspGx+uFvDT955m+7YBBLnDiEliTbVs2dfqhuXCRbeR3KJwTYDMOh4NNfC62O6NaGuOLArze6HIyC4gNifbtw0miYyeElVB0Kc4aG+Fu019/e9oaSQ5w5AzjDXXs92bhJMvi6yV0KsDAFhDNf3qLbZmIexpJHsYa29mdRVs/nukrkI3EJgu+IAt+xogSMsk6VmstZFtXM62rBJOv5pMmBFZk+M0pGgkmTqbFAwn42cgPQsAVIWt+I5+/wHbsZ7t20aGj4taQFXovFfI5FnCcefBkQ6AVeykHzwHdxtd+LFwTvjnB9uzha1bApMkXHlPMMWnKv34JbZlNZwZwvEXhGpqyORZ2pWDbN1i+vlrulK9xFdj7xb65RsQROHES8gBh2ltcmz3ZjrvP2z3Jjr/feGEC0OVOW7Q4AkWlyhWX4n2FuHCW8nISQCgyPTL19mG5XTef8XrHw61IdFv3mb7tpH8YuHs65GVH6y54EO2cj597xnx6vtgtoaek0yZrXUP0I9fYm0rQ/FIZPg47QTDKnaw1x+FzSGcfb2+kg5V6btPkoJS4bLfaod+KDLbsxnp2ZG1Enn1oKZa1lwvnHQJmT4HIABjP31H57/HNixjh5wQap1iG5azZV8jM1c485ekcAQAMMqWf00XfETn/UcsHIGMqBXgOI1w2lVRj0UTmX0S2bKaVe9B5S7oEiyAFA4XTr8q1LlGSkYLh59Cv36b7dkSWY1tWwuAjJ8ebkAVRHLYKWzLarZrEyg1+HGSjERX4/sPwZhw1Flk2pxQkIycKBx3Pv34JbZmIY48AxZbxBIcNxh069vFDTXCnNOD2RUAkyTMvQz2NLQ3s21rgsGWerZhGQgJZ1dazeMvIMWj0dLA1iwMBnsbY8IZvwxmVwBMEhlzQFSFJJHpc8j0IwHtXELIrONJXhEA7NsWrMEYXfwpAOHkXwSzKwBEILPnktIxUGTaZ++dGxyy8wEwv1cfB8iBR+iHLg0rAzqae0PaWwAgIzccAUhGDgAwCndrZDwFCa1GWzOr3gOATJoZqqUhpWMBQFVY1W5dEccNArwFi0sCGT056rFJIqOnsPVL2b5tZNIsAGzHejBGikeFs6sOZOpsVrmTbV1DDjlRV9QbyIFHdPPXuQ6ZfIg+lFeM+irmbtPOMKyuAi0NsNpJmb69AUWjUL4DlTv1cY7TyH62aSXbsxkN1czrQsAHRYGqAIDhhd6xQ/pCDcOUhoN2JwC428IRoCOvIj3QaJTAarC6cu0P9am7gkWx3O36CMcNfDzB4pKRnqMLkOwCBqClQXvIGmsBQGva0cktAsDqq/TxXpJjcB1Td5CcYfqQZAYizmcNVQDg86iP3BiqEol5XfoQxyE8dAmEkPwSUjQKVjskM9u1EU21+toaS7ifPQ4yZipbu4htWYUjTguO7gLoT98BIMPHRnbWpyiR1dBa4AjRGuSMmc36CMcNfDzB4hJGiEGbkJZkBPzBhwEfAEiWUHmY2QIAsh+Mxl551/MirivsGV2ejbQTidlicFmlJiY95TjIAfr+s/C0k+HjhDN/CWdGqIR+8BzrLMEKdlV3gYw9gIw9kG1fp770IBl7ICw2VO1m1XthtZMTL9bXTkUCqxH84hDx2of0/YkcN6jxBItLGGNQZH3iIvuBjuQJHb9oQ/lWpGDuZe6L7Gq/0NLKtCzhst/qiziuE6x8OzztAITTr47MroCYrr1UEOGc6+mbj7Py7WzLalCKtEwybY5w2MnQRmL1vuD4ekZZbTkZNlxfzHGDF0+wuGS0NOint9H6BDODo2hJXhEDUF8ZUaVDfRUA3TQNg4rWMdpcD9lv3IbHcbG0XyOEwNlxQYamqa5Hhn7T795j5duF068mU2IGEfaNzFwyrIzV7GXLviJnXasv5bjBa5C2JXC9g+1YF/VYkdmujQDI8OA8WGTMARAEVr0nduwI27AMQLfu92cyA4DPCxgN+93fSMFwZOSAqmzdEn0Zx3Wio4GHsVULQkG2Z4v67r+Mh7cnia1bDEKQmQuq6sv6Cjn+fAgC27ySfvIy04YqAvC6WfUeuvATtnheVG2OGyx4CxaXBLr0S6FwZHBaUUWmX7wOTzvSssi4acEaaVlkxtFs5Xz64fPCOTdEzYNVuQvODDLjqI4nSxrJzocgQvaztYsjJ9TpLwgRjj6bfvwSXfChYHWQybNCI05YfRXb9JNw0DH6PiCOyykgkw9hG5fTb9/Fiu+II521NsLdRopHkWlH0u/f19dPEpl4MPv5R/ra38IhyYz0HDJ6snDoXNjTQmG2fR3buxV+L3xe1lQDgLU20nefhMWm/RMOnQurPfw8CSOlY4UzrqGfvco2Lmcbl0MQQUjwGkkAkw/hI7O4QYknWFzCnBmkeBR963Fk5hKbkzXVwu+FaBJOuzJyYJZwzDm0tYFt/1l9/gHkFBDJwppqEPDDniacd1PkAZptW8tqy+H3IuBjlTsBsE0rWHM9zFZisaFkNBkxMVQZAMxWMuMotnI+/fINLP+a2JzM74XfK97y16hqiUn61RNAJh4stDXRBR/Sef/Bt++SrDwW8KG9OdgNdMDh+gU4DhBOu5KVjGbrFrPmOuZxkaw8MvNYMusE1lCN7/WVk9NYDapdU8I6BpszyAE0VrPGanXLKvGa+0NfSbZzg36aOtnPdm4IP5xxVGoJFgAy8WCxeDRdNR+7NrGWelCKjBySmUtGTyUTD9LX5rhBgbCeaIXmBrnmevX538NsFX/9D7bye7ZuCWuug2Qmw8cZ34uQMbZhWfD+soqCjBwy5gDhkBPC034CAOj7z7Lt0X2OEci0OcLcS/VRRtlP37H1S1lzHQA40siwssibckC7F6G7TbjsDlIyJjKuk+irtzaqz94LQLzzGd1FlPSL19i6JWT2ScLRZ0fGWW05W/U927cN7S0wSXBmkPwSMn46GTct6sa9HNebWH0VfeURiKJwxjVk5MSIzx5j9VX03afQ1iSccCE5+NjIpTiO6yk8weISoCVYgiDe+Yy+iOO4fkm7zbNw5Jnk8FP0ZQD9+i22agGZdbxw3Pn6Mo7jegIf5M4ljKfiHDeAaPfJsXXSqddUB4DwQYEc12t4gsVxHDcY5RcDoCu/13KpsPYW+vXbbPcmmCQygY9/4rjewge5cxzHDULC7JPUrWvRWKM+/3tk5xN7Ghhj7S1oawIAySycdmWfTTfKcUMQT7A4juMGI5tTvOpetup7tuNn1ljDmhsgCLA5yPBxZMREcuDhfNIQjutVPMHiOI4bpCxWctjJ5LCT9fHuUGT1xQeE064ipWP1RRzHReAJFpeArDzx7uf0QY7jUuPzQBQH6v2UtAvPRX7u4Lgu8GkaOI7j+hT99GUyfkb4/gccxw1G/CpCTi/gcj9gyXrAklW3cbO+bIDY8c13f84b/s5FV+gLOG6/Y4zt2aIPchw36PBmXm4Q2vntAn9b+9Z5X+gLOC5J7MfP6brFcLUF751ntQsX3koKR6C5ji6ex/Zth6cdaZnCgUeQQ+eGl1r1PV21AK2NMFtJQalwwoXIGQaAvv4oqytHwE8/CPa5k8NOFo48EwB8HvWJ34g3/YUu/pRtXQ0GcvCxwpFnBJ9w5Xy68nu0NSEjRzjkRDLtiOArdf5aANBUS3/4iO3dBtkPZ7pw0LFk1vHxn1B94QHh0Lls10a242dIFjLjKOGIU4Hg3QLVJ36j3W1dOO9mMmaqFtSwTSvYj1+w5jqkZwvTjiCzjgfhP+C5IY0nWNwgNPr4o1e9/MrEM0/TF3BcMtjG5fSnb8Vf3InsArZ2If3uPfH6P8DmAACzFWmZwhnXEGcGq9hBP39NKCgho6YAYPu20fnvC2dfR3KLmLsNe7ciLVN7QuHC/4OiqP+8XTjzl2T0VAAQo+6eRD96gUw+RDjkROZpD92aia1eQBd9Kpx4ESkcwap206/fFqiq3Tc9zmvB1aq+9ndSUCKccz1Jy2T1VbA7u3xCAPTbd4RjzhXmnM4qdtKv3mQZOWTqoVqR+Kt/QParj92mPQxhuzfRL98Q5l4iFI5gjbX0i9cEqpJDe3RwPccNNDzB4gahMScc97v6ffooxyWJVe4ihSO0BiEy6RB89RZrqCalYwDAkS4cfY5WjWTlkZXzUVOOUVMAQPaDEDgzkJlLMnNRPCr0hJAswXYd0QSz0SD3sgnkoKMBkFArFECXfC7MPpFMPgQAyS4gLQ10yWeilg91/lp0zUIQIpxzo/ZCJCs/XBTnCQEyYiKZNidYVL6drVoQSrAAGLZLscWfkYOOJpNmASBZ+WTaHLpmocgTLG5o4wkWx3GcMZJbSLesRlsT0rPZ9nUwSSSnIFgW8LMV37LtP7O2JlAKvxejp2gdaWTUFHLAYfTVv5LCEeSAw8jkQ2CSwk8aFykeqQ952uFuQ+GIUIAUjmCL58HVCmdGvNeqLSeFZQZpXNwnBICcwnBRfgndtjb0sDOsvhKVO9WlX0ZFqcrvbs4NZTzB4jiOM0amHUkqdqrP3QeLjaRnC+fcAHuaVkQ/+y9rqBZOvkwYVgaTRP/zp4jFiHDixZg9l63/kS6eh2VfiZf9Fo70cIU4YlMxRQYQnBwhiAEdNeO9FgMJjp2KEv8JAVA1ogjGTxKJMch+4cgzohq6AJ5dcUMcT7CGFqooG977aMO771etXuttahYtZkde3rADpow/de60X1ysqyyYTHsWLln82D8rV672t7Y58vNGHj3nqHvuyBk7RlfzxTknVPy08q7KHbbsrJ+e//faV99s3L6DMZY5vHTSOWce8/u7dfW3fvblypf+W7lita+lxZaVVXrorNm33DDiyMMj6wRc7j/llORPmnDzmqUJrsY7F12x6cNPQg+1ZSPKo1BVXfXSK6v/+1r9lq2i2Vx80Iw5d/5q5NFHPjf76Oo16+6q3GHPzUHHagC4efWP+ZMnRj5D3cbNT884DMC9jRVmpyOyqHbDph+feGr3gkWu2jrJbiuYOnnaZRdPv/wS0jGqhhsoWPUe4aJfkeHj9PGdG4RjziElYwBAVVhLgz4NSc8ih58qzjpefeFBtmE5OeSEYFwQAAJKoyrHkZ4Fexqq92DkJC3AqvYgPQvWiLs4G75WbjFb/yMUWZ+0dfmEjdWhuqy2PLJv0RghJL+E1VeRtCx9EccNYTzBGkJcdXVvn39Z+bIV2kOT1SK7PU1tu5p27jJZzLEJ1pZ5n39770MgJL24iFHaVlm17o13tnzy2bWLvs2bOF5XGUDLvvKPrv8/7do9yWaVvb66TVsKpx0QWYeq6kfX3rzujXcAWNKc6SXF7rq6zR/P2/zxvCNuv+2EPz8YWRlA445da19766Nrb05kNSaedbojL8fd0FS/eUv95q2RRTqM0ncvuWrzR58CsGak2zIz9y7+cdf8BWc8+8/Gbdv1tZO08qX/fnbrHVRVBZMprXCYp7Fx76If9y76ccP/PrzkgzdNlpguG67famtEcwMxuqUMycxjuzeR8TMQ8NGFn0S2+rCta+D3oqCUWGysZi98bmRH5CiCiKw8tnEZyS8GIZAsXd2yhgiHnUwXfSJk5JDCEaxqD1vxnXD8BVpZnNcSZhyprvmBfvgCOWwusaez1gYE/GTctPhPCIDt2cpWLyAjJrKKnWzzSuGkS0JFQEf7VnQrFznidPrBcyz3M4yfDsZQXwVKyZRDIutw3FDDE6yhglH61nmXVixfaUlzHvvgvZPPOzttWAFVlOY9e7d/9e3wQw0Ohd/e+9DUi8476W9/dObnA9j34/J3LrzcVVf33YN/uuidV/W1gU9u+lVbReU5Lz834fRTLOlpAZd7z6Iljtyou8ku+ONf173xjiU97awXnppwxqmCKFJF2fj+x5/cdNvix/6ZMbxk1g2/jKyvBgIfXXtzgqtxwEXnHXDReQBWvfzqJzfqL3SKtOKFlzd/9Kkgiqc//fi0yy8RRFH2+pb841+f3HhbN6fe3b1g4bz/u12UpFP/9ej0Ky4VJQnAzu++//DqG3d+O/+bex44+R+P6Jfh+i1HOsktVF94AACIgKw84aizyPjpAMipl7Ov3lSfvReONGHWCVFJkiiylfNZSwOoiowc4aizyNgDw6WAcOoV7Ju31Zf/CJtDOPJMfc9aDHLwsYIo0kXz0NaEjGzh6LPIAYcFy+K8Vnq2cNkd7IeP6LtPQlGQlil0tKLFe0KAzDyW7dtOv/8AJjOZfRI5ILh6dOHH7KdvtR5G+sFzEESSWyhcfR8AMvYA4bwb2ZLP2dIvIYgkuyBy0gqOG6IYNzSs/98H95szH7Bm7/txub4smr/ddb85835z5nOHHkNVNbJo2TMv3G/O/HPe8MggY+yFI46/35z5kCOvZv1GXVEkd0PjHzKG3W/O/Pmd93VFa159835z5l8KRvja2rVICqsRsvLfr9xvznxq2mx9QYcnJky/35z5xe336OJvnX+Z9qLu+gYtElqN2g2bouuy2g2btCJ/uysUfP6wY+83Zy55/MmIiowx9vPb791vznzIme9tadUVcf2UIqsvPax+/yFrqmNtTay5jv74hfL3W5gi62sOIsrz99Mln+ujHMclj48IGSo2fzQPwJgTjys9dJa+rBMzrvyFbsxQ0fRpAHytbYrPHxnXjDt1bsGU4KgOQzu+/k72+mxZmZPPPVNXNPWi8yxpTm9zy675C3RFya5Gl1r27mvatRvA1IvO0xVNPu9sXSQprRWVlStXA5hywbm6orI5hwFQA4HKFSt1RVz/xOorWX2lcPjJyMpDWhYy8zB6ChQZXre+6mDTrUbcvqS2tlKvRx/luP6BdxEOFXUbNwEoO7yLzohIsdmSJS04USFVFEA/lqhoelQ/SKy6TZsB5E0cL0RPrghAlKTcCeMrV6yqXb9RN0FosqvRpaadu7Q/8iZOiC5B7tjRukhSan/eoP3xWMfw4ViuugZ9iOuXSEYuTBJb+T054DAQwhqq2cKPybDhXQ2Z4vpO3cMPpc092XlCxwUEHNef8ARrqPC1tgGwZWXqCzpnSQ9ekZ4gyRFxWZORQLsLgNkZTI90LE4nAF9Lqz6e5Gp0KeByAyCEmGNW2NyRuiWCxYzW0jYyEYScMZ0marEvyvVTNodw3k1s4Sd06ZdQZKRlklGThTmn66tx+wulnh+XpM3l05ly/RRPsIYKbR4BX1ubvqBzpMv5b5JkyUgHEHC59AUAAL/LhY46kXp8NbREkDEme32SzRpZpHh9kQ/j0xK1SFrTGiHklnXL+IwMgwAZMZGMiJqbY9ATr3tIH9qv2uZ92vTM04G9e6WioowLL8q+6mrt5kL7Lr7Qv2kT9Xgqb7pBq5lz0825v/5N/KU4ri/xBGuoyJswvmHr9tAcDftFwdTJAOo2baGKIpiiPnuqLDds2QqjDsEelz0qOFl2w9ZtulkkWvbui3wIILSeselUQ8yEDvlTJgGgqlqzbn1hVx2mHMfF5160sPa+ewv+8Efr1AMCu3fV/u4eJss5N94EoOTl/zB/YMfMg4oe/6fj2GMBECk43VecpTiuL/Ef2UPFhNNPAbDt86+q16zTl/WVMSccZ0lP87W0bvjfh7qi9W+/5293WdKco449WlfU47JGjsgsGw7g57f+pyva9NGnuojJatH6KKtitlvs4lkjyopmTAOw+NF/6oo4bkCiKrxtcLfA2waq6Et7WeNTT2b94vL0088wjxjhPObYjIsubnnrTa1IsNkFmw0AsVgEu12w20MJVpylOK4v8QRrqJh60XkFUydTRXnllLNX/fsVb1MzAKqqbZVV6995f/kzL+gX6AXWjPSj77sLwLz/+83G9z+iqgqAquqG/33w2a9+C+DIu2+3xnQR9obZ/3cDgGVPPbfm1TcZpQDUQGD5sy/G5kwARh1zFIAf/vy3iuXBCwC9zS1f3vG73d//EFUPADD3b38STKYN7334/pXX1W3aogU9jU2VK1fPf+jPC/70t+jqHNe/BTygKsBAVfi9+tJe5t+6tfG5Z7eOHa39a3zqSaW6mild5HmpLcVxPY53EQ4VoiRd+uHbb5x9Ue36jZ/c9KtPbvqVZLcpPr+WXow54bhDbrpOv0wvOOy2m1v3VSx76rl3L7nKkua05+Z6Ghr87S4AM6+76vDb480OGt/WeV/s+n6hv63N19qmdd617N33+pkXWDPSrRnplvSMOb/9lTUzeP3XITddt2v+D9s+/+qja2/+8o577Dk57dXVis8/99E/f3H7PVHPCxz30H275i9w1da9eOQJ9pxss8PRVlnFGDv7389+fMOtaiAQWblszmHnvvLCx9fd8vNb//v5rf+JkgRCQnUOuPj8yMoc199F3tKHRd+jsLdRSr3e3F//JuOcqElPSPToAr3UluK4XsA/c0NIRmnJdUu+W/f62xvf/7jm5/W+llZLepozP7/kkIOnXXaRvnavOfmxv4w/9aTlz7xYvmxFW0WlLStr5NFHzrzu6jEnHqevmoxtX36z8sX/REYCbs/2L78JPZx53VWhBEsQxYv/9/qKF15e88obDVu3uRsaSmcfMueuX+eMHRObYOVNHH/dj/MX/uXRXd8v1CYgHX3CsXN+++uyIw5d9PfHY+/JM+W8s0tnz1r+9As7vvmuefceqiiZZcOzRpSNO+XEyeeepavMcf2aIEDtyLH6+ObNgmCZMMG/fZtp2DB9kUYUQQhTo5umulyK4/oKib3UnOOGrKadu/456SAAoZs9c0OdzwUAJjNMZn3RUEBV+N2gFKIIs70Hcqxktqfru28rb74p9/9udZ54Eij1b98GRUk/Kzwb8O4TjjOPHpN3190gRHDYTXn5iSzFcX2Dj8HiOI7rhKpAlaHKunsbDyGCCFs6HJmwpvVAdpXk9nQed3zJc8+7FyzYe/aZ+y48v/nlfxObLbLCsEf+JldV7Tn91PLLLnEvWpzgUhzXN3gL1uDHqneypmph8hH6gh5EVbpxiTByKpxZ+qIBhbdgcVECXsg+AJCsMPOTdLfx7ckNJbwFi+s5PT0jKMftZ7rxPVw38e3JDSV8kDvXEwRRmHqkPshxAxpjfT/z02DGtyc3xPAWrKGANyxxXPJUWR/huoNvT26I4S1YgxOr2sHqy0FVkpEHS9TdhVndXla3DwEvzDYybCTJLYko2sfq98HvhWgi9jRSOhFWR5dFdO187dBJxswgGXmhZwPAmqpZzS74PDBbSV4JyR8R7EZUFbr2O2HqUaxqB2upBUDyy0jRmMhl94vs0aMe8jfro9zQxBOCnsW3JzfE8ARrEGKNlaxmNxk+iTgzWVsDq9wOc/CWxqx+H6vaQYZPJPYM5m5l5ZvBKMkbDgDtTaxiKxk9jVidUPysrQmSJfiMcYoAYdqxoCpd820oomFtDWzfJjJ8EnFkMJ+b7d0AxsiwUaEKdNc6kl0oDBsJJcCb2bj9jDFQFVQFVYJ/RJJ9wdHZhrocsu1pgXY5ka4mVaEEoCpgKhgDCAiBIEIQYZIgJHB8pmrwojyqgtHwk2jPI5ogmpMYHOlrjzdMymTR/VqLp1e3Zwhj4csStbdPCIgAQYQoJTITBMf1ngS+wNxAw+rLSfYwklsMgFgdaGtkfk+wqHonGTaSZBcFi/weVr1LS7AYVUFAJAssNlhsxJEZfsLOizoYHMFZ9U6SN5xkFwIgFjtyS1l9eWSCRdKySf5wAECwMYzj9htfuz4J6A3hq7YZ/F4o/shCgIExqBSqDNkHW3qnMyMwBsUP2Q8WMdN6RxkYA+vI3uCFZEk0X+lBfbA9ZT9kb8QmBQAwBqYG33vAC7MVpvCvQY7rSzzBGox8bmQXhh/anNASLCUAOQB7cDZzAHBkoHonZD8kC8nIRU4J3bIM9gySW0yyiyAEh+jFKYrH62KuFlazKyqo/cTUODMjSzhu8NPyIca6zj8EodPsCoC3zSi1MsQg+0BVWJ36klhEABESfub9hzH4XfEa2zSMwu+BqsDCf8Jx+wFPsIYA0pEMRd5WLFLwOE7I8Ilk2EjWWMmqdrKa3cL4QyBpbexxijrDoKqkaAzJKY4KR/ZWhFaM4/Y7sx2IbgsJ+MJXvcWfeTzxT7KWu/hdEdkVgSAGvxdat5q2GqLUUcGIyRzVxaZ1iglaesTAKFQlKk/SmsSk4FCBToUSEcYABkYR8KU4dqr3tmdsekoIRAlEACHBbRi5zkoAiHhrHNdXeII1GFns8LSHH3pdwT/MVpjMcLcgvWMKTXcrzFaIER8Ds5UUjiYFI+jGxaypihSMSKjIAIE9DT53aPgXx/Vrkd8CDYnovyNCFxlPghhFwBtsehFMMFsNnlZVoAQgdp5/AJCskP0gBJIFomTc1qUEEPCEe9ASSbBCCAG0wUwC4ja0dar3tmfAE86uCIHZZtAJqG1nLbUCoAQgmCJHjnJcH4j5DnADH8krZfs2Iy2LODKZq5m1N4aOLKRwFKvaAYstOMi9bi8pmaAVseZaqAqxp0M0MU8rFDk0oDVOUVCo4yMCKRzNdq2F1UEyCwDGvC4wRnKKIut0x9obbq5674PIyPFbN5pzsiMjvWHFBRfXz18w/IpfTHnsb/oyAIC/rm7pyadTWT70s09speGLNDkOjHVMZW6BuZMB46LJIDvRIQS2ru5dozUR+d3Bh4yBKgkNnO/PVDmcNoHA6jR+R0QINlmFKsteSGYYjRbluF5i9NHkBjiSWwy/l1VsY1QlmfmkdGJoIBTJLwMRWNVOpk3TUDxWGwsPAILAqveygBeMBosy87ssYlXbWe1e7Qcl27mGEQKrU5h0GACSmY/R01n1LlazC0SAxR45wr378o49hhASaGrylle4tm3XF+8/rWvXefbuA9CyajVPsDgDJnOn2VXi4mdXGq0nMdTeo6rG6cgAEtkxarZ28XbMdihysKeSMcgB3ojF9aW4n05uoCKkeCwpHht+HNFuRPJKSV5p6GE4npGnm8UqJF5R0VhSFH4hnU4XFE3CQSfpg0kqvuC84gvOA9C45MflZ56rL95/MqYdaC8bDiJkzZ6lL+M4oE+v6RPEiOFKA/zOs1SNGtge2zOoQwhEU3g8lirzBIvrSzzB4rgeZsnPP3rVcn2U4zTacOw+E/lauhkNBpzI7EqUEprfKzLB4jfq4fpWH37POY7juC7HV3GdicyQEpkpBohKwrRLIzmur/CvOsdxXB9KZOxUUqg2YboanA5e+wcADAyDKqWInJpB9kPWTdOaABYxDx/H9TKeYHE9b+ERR1Of/+gVP26+/8Hy19+SMjPG/e7u4vPPbV27bsNvftu+dVv65ElTH380bfKkyKU8e/dW/e+Dhh8WurZtk1vbBIvFXjY898gjRt50o7UoYt7UVKXw/A0Lftj9zHMtq9dQn98+amTxBeeNvP5awWJ8rfvm+x/a/cxzkZE5i75Pmxi8SNOQ3Nyy+9nnar/82rNnLwD7yBHDTjt15I3XmZwJzAnJDVQ9dILXLkhUAgNgXtCe0v0uTsZ6avNzXJd4gsX1Cu++fTuffHr3sy8QSVLK23++5TZbSfHqK69R2tuprLSsXrPqimuOWr6YiMFf877Kqh9mHc5UFQAIMTkcisvVvmlz+6bNFe/877Av5jnGjI58/mSl8Py7nn52ywMPa3+bnE7Xlq1bHvxD/TffWQqHRVcMyj70kEBjY6CxyV9b27Z+g744RuuatSsuuizQ2AhAtNkYpe0bN7Vv3FT5zv9mvf+2vaxMvwDHhejmuDJGgslEF9UGkEHzRrghgSdYXK9glO596eWjli22FhUuP+u8ltVrVl56Re6cww98/hlfVdXiY0707NnT9vP6jOnTtPrW4qKic84y52QXnHpKxrQDRZtNdbsr331v4+9+Lze3bP3TX2b856WoF0hSss/fsnLV1of+CGDY6adO+vMfrYXDVJ+v5uNPN/z2brrU+Ca1BSfPLTh5LgDvvvLvZ3Rx/aC/rk7LrnKPPmriHx5MmzgBjDWvWLn+13e4tm5b9YurjvjuKyKlOhMjN7gpgfDsVhrt3sbaXaKDc4R2NNQEPKl0pfVTJJxjiVIqo9n68vICbshL/gPKcYkpvewSrVlo+BW/aFm9RmlrG/e7u0Wr1TFqVPahh9R/O9+1bXsowQJw4LNPhf4GIDocw6+6wrV9x54XXmpctDiyKDVJPf/Ofz7FKHWOGzv9xeeIyQRAtFqLLzyfyvL6X92uq5yC7X//R6Cx0Tl2zMFvviqYzQBASNasmQe/8coPhxzRvmlz5fsfllx0gX4xjtPurxdCBFjsqc+KPrAQEm7DEk1JTEzPcfsDT+e53pI2ITj8yFY2HIBotzvHj9MiloICAHJra0fdTmUffhgAuaWVySndEK0rhs/PFKV+/vcASi+7RMuuQorOO0ewdHcqHaaq2hz0ZddcFcyuOthHjMiceRCA2s+/iIxzXJDsj+opszq7yK4GT/9gdPtTZ3dW5bh+gydYXG+ROu5aow3ZNud23AAREEwmAEzpeloaS05wKdY7x1PD53fv2k39fgAZ0w4MBTWi1eoY3d356F1btirt7QAyD5qhLwMcI0cCcG3dpi/gOERPVWAyd31N4mBKsCL7BPmkVly/x7sIud6ia5vRPQTAog/9TFFqP/+y/vsF7Zu3+OvqlLY26vPTQOi+Y92V+PPLTc3aH+bc3OgSADBnZelDSfLX1Wt/LDnh5OiSMLml6+Y9rnf1z+v5I39pdJldIXpyzv2r+9tTlABv8G+qDoZbK3KDGv90cr2FJHM8dW3dturyq9w7dwEw5+Y6xowyT5ks2u1yS0v9t/P1tZOX1PNr0wcBxqeE7o89D7WWSVmZnW0lKTNDH+L6WsSu6T9TIUSM8+6a7Eumdm/r9vYURIimcMoY8MKaFlWB4/oTnmBx+x+jVMt+nOPHHfDkE5kzpoeKGhb8EJsAJSvZ5zdnZmp/yI1NiLnRYiJDx+Iz5wUbxg776jPHqO52OHK9JXKucFW7Z7BxNtyniAB0ZCeqgjjZPlUQML7idf/oke0pWaG6gn+rCvxuWBxRFTpD1YQa/Diu5/AxWNz+17Z+g9a2NOWxv0VmP4joTeuOZJ/fMXqU1qHZum6drogpinv7Dl0wWekTJ4gOB4DWNWv1Zf0bq9hKV31Jl35MV38NbVKxQSxyxA9j8Hv6RWtQ5JB2VYZi0McNAIofXle/WOGQHtmeohR1w2YlAG8blIDxUzEGVUbAA09r1KWXHNcneILF7X+KK/iTNNR0FMRYxVvvREVSkuzzE0nKPfooAOWvvxmcm7RD7edfhp4tZUSSis87B8DOfz6lejvGlPR/bQ1s3yZSNkWYfpww9iB0TBI7aAmmqCE+SgCeVvjdkH2QfQh4EfDA74K3vdMspzeYLFE91343fC7IfqgyVBmKPyKfYACB2RaunCDGwCioClWJGvLFKFQFVAWjqYyd76ntaY6eloKq8LvhboG3HT5XcIN42+FpgacluHFS65HkuO7hCRa3/6VNGK9N6b7rqWdUX7BTw71z16orrm5evjyqakpSeP7Rt94CQto3b1l73Y2+6hoANCDXfPrZ+tt/2/0xWADG3nWHpaCgfdPmpSefXjPvc399verzeSsqW1au2vX0s0tPPl1rcutXWHszbE6SWwKrE2nha0IHM4tdf7dgJYCAFwEvZB9kPxQZVDFuPuklhMBsj4pojTQ+F3wu+D0R+QSB1RHV3hOH4oenFZ4WuJvhaYGnFd42+NqhRkyPosrwtcPbpq8ZSLhxqKe2p9Vp8L6oEmzSU2VQJZUUkON6FB+Dxe1/5pyckTfdsOvJpyvefrf6k3m24iJ/Q4Pc3GJKSzvkg/d+uuBi1aM/gle9/0HDgoVKW5vc1u6vqdGCK86/SMrKMqU5TenpBXNPKjhlrhZP4fmzZs8ad89d2/78SPXHn1Z//KkpLU31epmi5B17dPrUqTv/+aSufv2386s/+VRpb1fa2gMNjVpw7XU3mvPypDSnKS0t+4jDIycOteTnH/L+Oysvu7Jtw8bVV14Tiof00rQU3aL4U5k7e0ATRFjT4HdH3WZ4vzOZQQj87ng5hCDC4giOOhLErtdfa7VKFmNA6N7SCejB7am1Y8m+hC6TFEwGCRnH9bIhdrjk+qsJD9yXOX3a7hdedG/f6dm7z1KQP+y0U8fc/mtbSXHGtAObflyqq9+4aEls717rz+tDf0uZmaEEC8k/P4Axv7kt44Cpu597oWX1Gur3O8eOKb7ogpHXX1v9yaf6qkDL6tUVb76tC7Zv3oLNW7S/qaLoZmZ3Thg/Z/H3Fa+/WTPv8/bNm+W2dnNmpmVYQdbMg4edfmp3Ztuia78jRWPRWs+aqkAEklVARh0Y6lVhDRWsYit8LpjtpGAEKRoTbFRQZPrTPOGguax8M2usBEAKR5PhkwCwTUtYe5N2JqM/fgiA5JWSsQd3vOCgJoiwpXe0i3T0joVuRyOIEExdTPXZG0QJtoyItWIAAyEgAgQRJnPUKommHkhoekoPbk9RgiiBqlBlqAqYCsbCzyYIICJEEaLE75DD7RdENxcRx3EDHV37HfxuUjiW5JawgIdtX0nyysiIKQBYSy3b+hMZPY04s5jXxXasJoWjScl4IJhgIS2b5JaSzDzIfhABadkAtFM4K9/MWhuEKXMAgAhRF4VxHMdx0fghkuMGI0cWGT4R9jSSWUByS1l7sNeSlW8hhaNIbimsTpI1jAwbyWp3Ry5HMvJI4SjY0pCeG8yu0DH/EBFAANEE0cSzqxSoP37nvfgo7yVH0/Wr9GUcxw06vIuQ4wYh4swKPzBJ4XEqnjbW3sQqou/Dw2i4D8XZkVRxPYtR+YNXAJhOPl+YepC+NCXyey8r894xX/tb8fDj9WUcx+1vPMHiuMHIeA4FBlUlwyeR/OFR4cgRKiJvmkoUq9xLd2wSj+r0fkeRlG8/YZV7hakHSxdfpy9LFV29DH6fun5l/AQrqfXkOK6n8ARrUPC5EPDAlg7Jqi9KGaPwuaH4gxPhCASiBHumrhY3oBA4MuBpS2VuJC6G8vWH6spFCSUuXo/y9ovC5BmWO/4MU2IjuBMgzJhNa8rFgw/XF0RLYj05jus5PMEaFJRAcEaZHkyw3M3BfiXBBEJSnFqwt1EFiszThcSR0gls63JUpJHsIgDM0wZGSV50gxaXGHX9Sn2oMza79d+f6YPdJp13tXTe1fpojCTWk+sEa6piNbuEEQfAnq4v47hO8ARrUDCZQRWYem6iFyUAVQEhcGb36/vV+71QfAMswWpvhGSB1amPdxNjaG+EPR0ms74oAskuxITZrGIrq9gGQmBLI8Xj9JW4BLD6GlZdTrJz9QX9zEBZz34t4GX1FULZVJ5dcUnh0zRwRgIeeNthMsMRMVa6H2pvABjS8vTx/qx3E6yMHuyB6juMBqdB6nGMqmuWqcsX0G0bWGM9wEhGtjB2sunUC4TRE3V1fTecBclsffJd5m5X3v+vunIxa2kkNicZMUa69EZh+GgAdM925bN32N4dtGqf4d0Yba9+Aykqx6XrVypfvk+3b2QeN8nIFCbNMJ1xsVCqn+cskVfX+O++hu4N3xBTuug605mXhh5qem89OY5LUD9unOD2Iy3t7o0TXg+iKqi6H+YLCPjgd+uD9oz9PMs5IUgfsK0U3nZI1t6Ya1tdvTTw6O8AQJJIXiExSbSmQl06X/3pB8vdfxem6K/mY82NrKXJ/9AtrK5aKCojRWW0poL9vIJc+9tgDY8bgQApHC6kZdBNa2G2iNNmRz1F9AdSfvM55dO3QAjJyhVK81ldtbr4a3XZ9+Zb7hMPOTqyJhJ5dQCA6ZQLaNVetLWqP//EGusii8J6cz0B7Q6AHqgKwCCIne0+1taAljoIImtrIAUjQFVWX07SsklpMLtlrXWsbh8CPkgWkl1Icoq1ww7dvpLklsLdwtoaQASSlkUKx4S+YqyxkjVWQfZBspK8EpJVqMXp9hUkdzhcTay9EYJIsotIfplWFGepYFFTFQJ+CCKxOUnhaFiC9yPqbA05rkv79ZTAdZOrMeo2EVYnLI7wQw1V0d4AyQJ7ZvCeX1QbWSVCsoUOIsGa3jZQGpwQGYDsR2ttuIIjO6p1RPFD9kGRO0bBCxAlWKLvw6ppqwchSMsFo/C7IftBKQiBaII1TZ+XMIaAF4ofqhKcPkAQYDLDbA/e90NV4HeDKsH3TmnUSgLIyAcI0PHeAWQURFUA4G1DwAuLI7oliSHgg+wDVUBZcF5pkxmSxeBNcT1I7tHhgxHEGYea5p4rTJstTj1YSymYqy3w5MP05xXye/+xxCRYUJXAX+8UysZKDz5NMrIAQA6o61eS3OBHSJg0zTxpGgC6db3/wVuIM83864fDi0dTF32tfPoWyS803/pAsMGMUuXTt+S3Xwg882fr6Imhp+1YoItX14hHnqRdI8r+9ZC6dH5kUUjvriej8LSGB2WqClQXAOMcq72JFI8lFjur3UMy84URU+nudcTngtXJXM2scjspGkvsaczvZZXbIkcEsuodJLdYGD2dyX5WvgWmfWTYKACsqYrV7SWFY4gtjXnbWNUOMKaNKQwuNWyUkD+CeVpZ1Q5IVpJV0MVS7lZWs5sMn0gsDigB5m4JvZH4a8hx8fEEayAzO0AVMAol0MWtMFQlmFIQAYIJVIWqQG0HlWHLCFcjBKIIiMEKWs4UIkT8bpP98LQAAAgEEQSgKmQfZB8cWQbDgLR7YriaQFWIJogiqAoloP8tSBW4W4LvRRAhSGDaqirhG9wyCu1HMxGCz6B/uVR/X7pboAQAQDBBJAjegkMGWNIJVlsjrHbIASh+gMBii8rkGOBphewHCCQzbOkgBKqM9iak5YQzTlVBeyPSsoOv7vfA7wVVg7mpLSI3ba2HdiM5R6b+JOdzwe8FGCQLTGb4PEjPAWJ6Kn0uyP7wLZy1VjpVhSDAYgsm7rIPAR8IgeyH1QnG4HfDZIGj4yNkuBSA9kZY7FAC+rcMwNUEVQFjcLcEK1t1WW/3EEG64taogDNduug6/88r6K7gXYz0GDP/3/3heS4kszjjsKgKCWJUfu9lAObr7gp3RwqC6cxL1bXL6JaflW8/li6KmbKhp149cSmsZ8BncMlLwKv/7GkEgWQWQPaz2t0ku1C7TzML+InVyer2kpwikpkPgJhtyC5kTdXh9MXmJPkjABCLHZn5zNOmfbFZ3T6SWxJcymJDwMfq9oUSLOLMItmFwSJPK2uqCiZYnS/FqAqAmMwwW2G2koiBVl2sIcfFxROsgczc8aPf09pFgkVVBLywpYfHg/s98LUj4IPZETxPC2J4Fga/B2p7vHkZJAvM9uA5W6P9qFUC8LtgMpqs0t0MUYIzu2PWJQY5EGyU0mhnWapClGBPDw+u1xKdUE2TOfiiigylCYR0upJJkf1QAhBEOLLCr0VVKP4Urx7wtsOWBpsDigxPOwQxvPEDHljscGaDUbhbQVywpUGUYJKC020Eq3khdtyXTQnA64IjA6IJlAZXNSQjD4yhNaa3KOCFzwN7GkQJSgDedhDD+bGiKQF422BLD85Q6mkDA6xajhWAPR2iCT4XzFY4suBqguqAaIq3FABvu8FbBuDIAhha62HPCJ6eU02PE0fyCwFAliHLkPSps3jMqZ3MIpYcum8Xq6smdqcwaZquSBg7mW75mW7boIuj5149camsp+HRxjAIdBxeBADBDzMhwd8DPjfztLH68nBlAMGbCYJonxCNaAq2WCsylEDww6OxpUHZCyUQPCxEtspbnWhrBLpYiqRlI2sY3bUWtjSSNYxk5odnhou7hhwXH0+whgyzPepqO4sdsheqAjWg76RLUOTRCgARYHXC1QQlotdSxx7RWgai/70b8IKqwRQn8vgliFHJRC/RjviiKeq1BDHccpYskzm4wc0mKDL83vD2F6VwI43ZClXu+NsObxusacG3H/DBGmq3YyCAIAS3RoIj2f1emK3B19VyIKPxzno+Fyz2YPouiLDYEPAGUyUCmK2gKrwumO3BzaW1SsZZCp2/ZUKgNYWQ3hnkDrC2FnXR13TzWlpdDlc7C/gQ8IcKI2tqhKLwqJ3uYOW7ADCPy3vJ0foyAABrb9WHeu7VE5faeiYjYrfqW6xVUjCCZEb3P4bqGH7rte9prPBkuQb7tMulSNEYklfKmmtZ3V5WXy6MOjCYrsVfQ46LK6UzKzcQhZq7QgQTVCU4gqpHBA+IDGAGDRFdTqag+AHAbNs/xy/tt7Xsh98Ns70H1iEybRVNkH3GRYSEe1vMFngJZB/MNsh+MAqpY6NJFphtaG+CSYLZBsma0BpSJWq/C6aEEixVgSLDFzOQHx0nJO2lgyenjvWPsxQ6f8u9TF39Y+CpP8DrIc50YexkMikfDicA5eM39FVDzDEd3ClhHjcAWG1C2Rh9GQBAP7BJ00OvnrhU1tMw9TEMxmd1wufW/9CKT7LAJMHbjtDNoLztkCzhD5jP01EV8LqCh50ulwIgWUj+cJJbTLevZC11JLcESGkNOa4DT7CGjNjDXyJn6DgYRcAHNQBVDY6Lin/W7HI+La0LILXmtO4TTbA64XPB54LfDckCyRYzuisZcTZGp1uewGILtnVpI1oiL/WypcFiR8AHnws+N9JCna0J6+xlgah9xxisToOMPL74S3X6lnsRa2sJPPkwfF7TSedIl90UavZjbS3xEqweQqw2ACQn3/LgU/qy/iSV9TRbIccMw4rsm0sMKShj+zahbh/JyAVjzO8GY/rmohgkbzir3QPJGhyu3lBBCkeHSpm7BU1VxJHFPK2stZ4UBbPGOEuxtgaoCrE5IZiYtx1qeO7i1NaQ4zT76WTG9b1kT8bxyX54W8EYiABRgiAFnz92/oKwrk6x2vG6Z9czKRYHJAv8nuBo7oAPognWtBTTLO1qTY0qd51fasw2+NxQZMgBOMKDbYMEEVYHLHa0NyLg6/qUpjVShkT+rWtGiiwSTaCKQUYeX2pLIZR7xUlIU0Q3rILPS+wO6Yr/i/xcsdbmiFq9hZSMBMBqKuH3wdJJ3tkPpLKeRIA9I2KaBhMstqQvBAFIWg6GT2b1+1j9PhACi53kleorxdAmSmB1e5k24cKwkSRrWFSpu5XW7AIRSV5JqCjeUoSwxkqmjdw3W0nBSKJdCJLqGnKcJrGDPsdFYjSYXZntsDnDmROjcROsrmin/PjNYD2ls1cRTLClw5oG2YeAB6oCdzPsGalMIqAE4PdAMkOREfDDHj1krTOCCMkCbzsIogbXaz2GogRCoMpgNKFUxmKDpx0mCSYpOM43NMhdlLSpfUAEKP6oywisTrhbIJiCPSNa7tVZ01RIaktpBBEBX8cZmvTU3GbM5wWADH1Tn7p8QeTDFJnNAJjbBWY85FkYOZbkDWP1Ncr3n5nmnqsv7jO9tJ6CqB+FaYSk5xJtejZREqYcqQWFsTPDFdKySZrBNTHC2IMjH5L8ssgZrUh2UeiyQT1BIKUTDd5n50uRtBwSun42RmdryHFd6pkDGTe0KIHgwdqWFs6ugO4O59JO8KHhzz0oNp3q7IonDSEw2+DMCU404HPpKyTCYocio70JXhes0VcYxGexQ5UNRln5PXA1ob0RPrd2rXsw7nOhtS54CaG7BS21aG8MFpltsNrhdaG9CUpAf4GVZIa7NThRQujSRQCSBY5MKH64muBqgt+jXxNDqS2lsWeAqmhvhKspOBSvJwilIwGw2kq6fVMwxKjy3SfKR69HVkuNMKwUogl+nzJ/nr5MQwTp4usByG89ry76OnKcNS3fLb/9ImtuCFfuNQNlPTlu8OEtWFzyOuvLixzHnQLJAlVGwJvoGPNgz1JM8hQSWkOqRPVfaPM+JMJsg9/dRTbWKRKeICqS7rey1amf9kl777qETLJ0OtI29hkiRZZGjkAnJPqizujWJsOXk6zBljwiIDQMpaMzBehkKSTwlk2Svk5PEMZOFqYeRNev8j90izBuKkwmVrGHNTeYzr5cXbGQVezRL5AUm9104lnKF+/JLz2qzHuLODOYxwWP2/rsB6Eq4qHHSg218lsvBJ75E3n1SVJQxLwe1lQPnxeA6ehTws+WMHXlIrpnOzxu5nVrEyioP35HayuJzUHsDmHcVGHqQVEL7Kf15DiOJ1hc8rRx6FqaEkpcAt5u9Q8CMNsR8ICq8LTAlh7usWIMih+ipO8U00Y1MYZAxAwIkQiBKEGV4W2HIzOYb1EVnlZ9TQABL4CodiPG4PcAfT7uXhv7leBEDFxclt8+osx7W/nxO7pjE5EkUjZGuvJWcdZRrKVR7WaCBUiX3Uyy89QfvqS1FayxjqRnCWMn6eqYTr9YOGCm8uV7dNNaum8nkcwkO08YMVaceSTJS2WstPrDl+rKxZERum8n9u3U/jYdd4Y+wdpP68lxHL/Z84Al+4OTjDMGJRCci0gbo6MNPO+YxyXJ28UA6JiGVLJ0OoenuxlKAEDHqyigFBYHZD+oEr5ZjaatHozq77RjSJXhbgl2UggiiABGgw1Izo4JzSP52oM5ULAyA6NIzwtXUAJwNwMAIR1dkAoEAZIVfk/Ue9e2BgAiQBABBqoGe0LtmVHj3LX5ynV09yJsa4TZGp4FKhHayqsKPK2wpSc6eikpPjcCvqg2J47jOK539O1Pc64HyV7I0aNV1I7b8wEwd2+KgS45MuH3IOCDIoNo00jaIVnAKAIR16MlS5SQloOAN5ioUTWcLBqO6bamgYiQvVBVgEIQ9DmcyQxnNnxuqDJUBYIIsw1WJ1QlmJmFaG1gqtzRgUggCJDMsDiMX7rHaQPqQWBx9Ep2xXEcx/Uh3oLFcUlKpAWL4ziOG9pixilzHMdxHMdx3cN/cw9VqhLsNaMqGAUDwILjtwQBggmipO9u6z36ldEm7CHBgVPa2LJeah/Sbpys9QxGvrS2EbQZpHRTpCZwgWMqKIUqB9eEdsyMH7kyogkmc0LXV3aHthpUCU7Qz1jUmgQ/IWLwrojamL9exSgUOdhfTGlwfF54fTrGzBEBogmiyeDi1u7oJzsliEGRO74pESujbQHtC9s33dn7nf6Igf15+OK4TvAuwiGGMcg+yL6E5qwiBJIFZluKJy2qwt0SFbE5oybPBIJzpmvD2OMjAsw2SJYeO5mpCgIeKF3N10AIJCvMEXdIlP0GM2N1p4tQ9kP2hcfPxafdQzrl1+oUQ8APxZ/oaoRo6a9kTnSq+gQxBjml9REEiGaYzN09v/blTlEV/ZWt9vToSzpY8NYCEZNUGRMlWOypr0kYQ3uTPhafJZnJ3lLTl4cvjus2nmANJbIPfg+S3uMEFlsqh87YBMtsC891SVV42xNKrSIRAba0bp8/GHye5GbtIgJszuA5TwnA266vkFqCpcrwpTTPlskMq6PHzhyyH35P1yfv+AQR5o6JsrpFSya8yX9Qo5nMiUw1bqDvd0psghWZrKgKfO0JpRQhkgUWR/d+ivS/BKuPD18c123JnxK4gYgx+Nq7bq0xxuD3QAnAlpbKySNS6PZ8igxfe/LHSoBReNpgdRhPaJkIxuBtS7RlIkR7Xe36vm5uhBC/JzgxRAqUANwyrM5uXyvK4HUFZ9zoJqpCVdG9ZiOoCnyuVJKbWKl9QvrFTkF4Cxhm812S/VBV2Lv9he0n+snhi+OSxD9wQwCj8LSmenjqoCrwtCX3MzqWltZov8hTyK6CGHyupDMkDWPwtKa4LAC/GwFfzxymve2pn8g1jMHbnlw7XCxve89kVxpzSjlNiOyHp7VnsisipJLl9JOdgo5vSmrZlYYq8LR141vWb/SfwxfHJYm3YA12WtNLpyctAtEEQQj2JlAGpnaaf1AV3jbYM1LvemAs2DMYe9wnBELHmjCAUVC189UGfO2wZya9JvFbRwQxOHxbWwFGDTaF3530i8aKn9Zoq0EIiHb3axocb25Iu/tNah1z/rhD0IK7QwgO6mcsuPs624CiqVvDsAwnvzCkjWXWhnjHfpA0KTRf9ZOdotG2c+xQP+0LS0j4Uxpnj2jfNXu6Pp4QArMt+E4j/+9j/erwxXFJ6sYBkRsQvJ2kFKIEsw0mE2IvimMMSgABr8GC2kE/taEtGk+r/qRossBsMZilHQClCHiN2wMohexLbmiF7Ov0DKoNHoq9Aiu4KTxRv30NTnvJ0DosYhECyQrJYrAaAFQFih8Bo03hcwcvIksKo8bPJphgtsa9Mo5BVaHKUGSoCtCxN7uTTyiBeNkVEWCSgteF6ZoPQzmftj6hDCDZBKuf7JRIum+KaILZbvyFpSoCPuOviard3DOZr0lI5K3BQ4LJpdLdb0GC+tvhi+OSwQe5D2oBr36+cgCEJDpMROsRi2V1JnQCozGD3HUEAdaOkeNxqHInjV4CnFn6YGcYg7vZ+ElCo9c7xYLT1seR4CB3VYanTR+ENhW+E0JXnY/aGSL2NzoR4EiyPc/wsyFZDO6bFId2MtOu9XNkJbcCIZTC02KwawAQArMt6gaR8WkZD6XJnUT3+05RYwa56yTyjVNleF0GjUyEhG/E2VOoAnfMCvf4IHfDj2ifHb44rtt69FvH9StUhT9mQAkhsGckdHgCYHEYHzFTuZYnhiDAltFVZgNAO88ZnS8ZNW51MBQwXGcCW1oC69Bzt6/ROo90TBLsaV2fyAEIImzpBpkco/FagAzFdg4KYnLZFQBCIFlgS089uwLgdxntGkA0wZEJc8QEGV0STbA4ksuu0J92iiFbWkIJgSjBlgbDFp3Y40D/188PXxyXgAQOH9wAFfCGu29CrE7jzo7OWOwGA2sY1d8GMQW29ITOXhqTpJ9ASxPbbGCIMeMVTmrGIIsjgVQsLtloxi9BhNXovNgZQmBLN2iQkJOcMip2TRI8bxlKPAfSUWSDVA9aumD0Nntcv9opsSRrEvtFNMFq1K+n+AdeStHPD18cl4CYIwI3OFDV4CBiMidxsA6xGP0KNBzwkTizLbkDJWDcgJTg2UsJGJxgBMH4OeMwHJWSOMMr1FKYr4gQ4zUxfP7OGG6Qvme4zlq/bbKbJTWGK7C/dooeMf72xdHpUMKYo0F/1s8PXxyXmP1xSOX6QOzhCTBuMO+SyWzw01wbWZwiksqaaBdP6YQm1orPsCcxtXVIvMVLR5UNrhLXBm6nQLIY/DRXAgZDcDoTsy0NVq+3URWqUfNVatN1pqC/7RQdyeir1yXDD7Zs9BXot/r14YvjEhXzyeMGh9gfrIKYenJg+MPRMGtJhCnVG9jFrn9sM4wBZtwJZfimumTYU5kIw3NGImNrOmO4rOGrGIo966S8Q1Nm+IqCKcVdkwLDzWW4YRNkuKzhqyQite1guJQqG/S49Vv9+fDFcQmLOchygwDVbkwbzfAokyAxptMBCXfPxTI8CSUiNidAAjmWqhqcWsRU7wqcWtsGjAaVg3Rrp0hGyxq8Sidix5NpV8P1JcOTXDdnK02KwebarztFJ3YfJYIQ41wk5S9sH+vnhy+OS1hK5xiunzPsdjE85iYotuMDRqOkE5Tymhi2e3WdYBkdSVM7dQEQROPViI8aTUpp2OmZOCIYjLZR5a43iMYwFZD9ced17FnMeNek3EaYrH64UyKF5s9MgeHHW+2b3dpt/fzwxXEJ4wnWYGR43oo97ifO8EAf+yszEURIsekIMBo3BIPWKR3DI2l3tkYKyxqug+EP66QYnnUMXyuWKBkvrspwt8Dbbvwp6kGG53uhe/lNUgw31P7dKZFIN9bE8COawjrsF4YfPMN3lCDDT1Rqhy+OS0bKpzquHzM8kvb4EUq7V0myurMaqen5rZH8t6bH10Fj+AwJDvwHYHXoIyFKAJ5WeFoh+1LZy4kw3Cbdz28SZ7gChps0KYbPkPhOCenORZ3G62D0fvshw/U0fEcJ6sHDF8clw+jHFjfQGf44a2/UR3oA66RVqXPGB7veFNsNhO6dvVJJsAzXoRvnDI3hMxi+liHBBKsz3rgrVYGqgHhgMkPq5HZGKTPeL314RDLcUIabNCmGz2D4WvGl8DELMfx4G27wfshwW/WTwxfHJaMPD2dcn+mzIyljSR+g9kOCZfg7tRurkcJbMN4jyT+PntEzGL9WJyQLBMH4Fish2jStsh+CELwxX3fO/SGG51HDzKCXGL9lo02aHKNnMH6tuFL4mIUZLWv8Reh/UthWqUnh8MVxyejDwxnXN/r5YbRbp43UGG2Q7qxGCssa7pQUnkfH8BkMXysOUYIjM6E5VymF3wNXM7xGt95LmuF6Gr2jXmK4oQw3aVIMn8HwtXqP4ToYb/B+po83FMf1Jt6CNfj08yOU4aG/Nxlsjz5fB6OV6OQsmIzuP4OGEFgckKwIeBOatEnxQ/HDZIbFbtwjlgjDU2lPvaOE9M4KdP8ZegQh+i1s9Hb7n4GxlhyXCJ5gcYNezCG7u2fA7i4fxLr/TDFvrTsEEVYnLHYEfAmNbVcCUAIwW2G295esovv6205JWf9YC44byniCNTQQIfXpPePokbE4vc3gp3zfn3wMT9rdXo1uP4EBIsBih9kGJQDZ13VXYMAHRYYtLfWmrCi98ZY6M3B2Sipi1sPw7Q4IQ/nwxQ1kPMEafIyOo6TbNyoewIjByaZbLRWxz9YVwwae7ud5hs9g+FrJIgSSBZIFVA2OcI8z9Jiq8LTCnpFcjmW4nobvqJf00goYPoPha8Vn+DwJMl42+XXYD4xWckgfvrgBjKfwgw4hBkdz4wPu0BC7NdC9DRIn1eiM4cVx3VmHIKM16dnf5YIIix3OLNjS4k3TwBi87cmlnobr2QPbJGH9fKd0a02MljX8IvQ3/PDFDSLJf+25/i/2aM6G8Kx6sVsDncwRkKAUtqTxOhhNqJgUw3dhmDd0n8kMezrsGZ3ejZGqCPj0wTiMt0lXPZI9yHgF+s1OSSGPDzF8Fymsw34Ru1+G8uGLG8hiPsrcIGDYU2N4zB0KDM8r3dkahmfQ+Aznz+zOOmgMB0gZvlZPEU2wpcOWZtDMACSXYBl+Sg3fUS8x3FD9Z6ek8DELMVy2O/fe6UuGH4zu7xeO63NG5x5uoDO8G5rhLVSHgh4/XqewrOEe6X5rjeGaGL7fnqW1ZsXmWIwapxeGDO+KY/iOekk/3ymGz5Mgw2VTWIf9wnC/DNnDFzeQ8QRrMDIcKzNkj1DGx+tUz6OMptJ3Q4hBG4aqdKvjg1KD86jYVzdLFkwwG407TnzDEsHglM8YlIA+2Ev6+05hqWd7hl92wy9CP8QPX9xgwROswUg0GYxjUGSDQ/9QEHsSBaDKKZ5HlVQP9IZDl7qTTChGM4Ianpx6ieGV80lln4bbRE6mn7GbDFeg/+wUJaUEy7gdkQycBIsfvrhBIuZzzA0Ohie/vjx19R+EGJ/hUjuPprYUemGPGE65bvgqvYQQGFxUn0zaajLrIwAU2Sg/6B2Gm6v/7BTDdK1Lhh9Rw1Sy3zLcYt3ZLxy3P/AEa5AyPEIFEpg3clAyPJEHvPpIlxhNvQVLEA3yPFUxPh12SfYb/KAXJYNOt97DmEE6Fdv2EEdnK+xzGTxzb+jnO0VVUvnCGn6wDb8C/RY/fHGDQjJHQ24AEUTjg5TPlWLX2IAmWQzaWqia9G9iv6dbJ36LTR8B4PckvUcYg9+jDwIwGz1/7zEcFpNUgoVO1pmq8Ln1wV7Sz3eK4XPGEfAZXEJIyABLsPjhixsUkjwacgOIxegOcVSFp9XgEJw4RpPOS/Y7Qjo5XnuS+E2sBIw7gBInSgbnOarC25bEaYMxeNsMhjqJUhLdQD3QDddJPpH4Omgki3EDj+xPeubS1PSfnWJIleFPONdUFeOdIlkNDgX9HD98cQMfT7AGLyLA4tAHoR2kWhDwJXf2YhSKH952uJqND+L9nMVm0IgFBm+7cUuMTvB8321Wh8FpQ1XgbTPoXYqlnfgNciMCq9G+7owagKcV7lYEfAZpQZcYhafdYIVFKekWLABWpz6iUQJwtyY9DklLMtzNBqvXmX6yUzoT8MHv7vrbqsrGKSkh3W1F2y/44Ysb+AbIdSVcaiQLVNmg3YUx+N0IeCFZIJogSgYnGEZBVVAKqgyGS3iIAIvN4NjKKDxtMFshWY2aUhgUBYHohi4Sc/foxBEBVqdBrqYqcLfCbIVk7uSyRwWKv9OZPK0Oo5XvClXgV+B3QxBhMkOUIIpdZEja+CTZZ7wFUjuRiyZY7Aa7Blru4oLg7Vg9o/kOQp9SVUnx4tB+tVMMBXxQAjDbYTIbbwHZ1+lqGDYFpUYbdccYVKOjQXCKCgJidLubFPDDFzfAGR01uMHE6gTrZG4hRiPGw4YOiwxskN6YwmyDIhu3VwV8CPggiBBEEAEEYAxUu9w9elMQAnsG3C1RwaSYzLA4jPp9GAJeBLwQBAim4O5gDIxCVeO1M5ltxh2giaMqAl7ACwCEdGwE7fOgZZMMVAVV430wJEvq3WFmG6hqcCrVRK5eL31Q++FOsTqiBqJRCp8L6JjFQPuUajlNnOzBZIZk1Qfjk33BHR36BwZGu97Usi+q90378GhbLPy30Gm2aogfvriBLOEPOjdw2dLgc3V69grSDkz66GBjS4OntdMTUvxzlcaaFszDuqwZh9kKdDKGCdpZ0+iMYshshcVows+UMWbU29UVUTLu0Emc1QlCOm2GCeu1D2p/2ymiZNywl/jeEcROu1/jkP1JvEQcwcxMH4YgJpFggR++uAEsbncAN2hYnbA6YDAIaYghBPb0VDtuCGxpwUaapM4Qhsy2Tu/olziro7tpTY8wmXvgvQCwOIJp1v7Sr3YKYzDbUk/URBPsGd19L/0EP3xxA1O3zxPcQCFZIZrhdxu3tydOMMHcvb6P/YsIsGfA7+7qN3E0rTEgNBe2KKL7P/JNZtgz4XelMreWaILVmWqmqI1G9/dAT4ogwmI3uAovZVo/o9+T3N6JpfVJpWA/7hQdrf/RbINggs8VrzsylmSF1Z7iFuif+OGLG4B4gjWUCAJsaaAqAj4oSZ5fBRNMUnLjJ/otQmB1QrLA7zUekhWJCDBbYbZGna56aiMIAmzpUOXgKOZEmCRIttRHO2lMZjiyoASg+KHEjDNLhChBskAy9/xZXBtybrZB9kP2J5dYgEA0QbIYDwZP0P7aKTqhr6dJgiMTAW+n1xZEMkkw2wfMXXGSwg9f3EBDWFIfU24wUWWoClQFjILS4DiG8HBUEhxsJIjG1+kMDlQNjnynasdIXu29C8ELlHqweSY+RsNrQrU16dgdwb1ggimleRC6wKCqoErH62r/IkYKax+GyNUwvFtcL9E+otrqRa5Y+IMqQBA79pephxO+vtkpqgJPqz5occCsG5/OoMhQZFAlamW0LaDNudVT7Wf9Hz98cf0eT7A4juP2K+MEy57itBccx/UP3fvhxXEcx3Ecx8XgHdJDHWutZ6vns/Ym4swk048lWQX6Gv2KEmDl21hDBWtpQMALJQBBhNlKzFak55LsApI/HI4M/VLcgDXAPp8cx3EdeBfhUEcXfcAaKrW/SfYw4ajzo8v7EbZ3M/15Yfxxx8JBJ5DhE/RRbsAaQJ/P1PEuQo4bjHgL1lDH3OEje+Tf/Q3buY7+vFAfjUEKyvQhbiAbKJ9PjuM4HZ5gDXXEmcm8ruDf6TnRhf2Gp51uWBwZIFn5yC4kZhujKmQ/fG7WUkcsdlj4j/5BZWB8PjmO42LwBGuoI1PnYPW3rL2ZZOQJ047RF/cPdPd60I75kARRmH1qqKUq6vLr7ty+husOqtLln4NRUjqBlI7Xl3bDgPh8chzHxeIJ1lBHMnLJMRfpo/1NXXnoTzLqgE77AYfOJED9DGuqYTV7ACBrWM/OODQwPp8cx3Ex+DQNXL/HGGtrCD0iRaMjyrh+gdXt04c4juOGNp5gcf2e7A/3DwLEmRku4vqJiCZGbjBRy/fVzpxUO3MSbWnWlwEAAksX1x09q+WuX+kL+kTTVRdpq6f9a77pan0Njtt/eBch1+/p5mXo2Tu+cd0n+1lLnT7IDQ3+n5Yyt8u/cL6+oE9YTz3TNHYCbWlWtm1RK3mWz/UvPMHi+j39VG09O8iH6y5WXxGzj7ihwjLrUO+H/7Mec7y+oE/Yz7tY+8P1wtPuF5+OLuS4/YwnWFz/xhjze/VBrv9glFXv1ge5IcN86BH5C37SRzmO4wnWUBM5L3YsMnJK4lfCs8od9KcvtL/Fk66APT0Yb6ljFdvRUMl8bvi9EEWYbSQjl+SXktIJXXTwtTex6t3M64LPDa+L+dzwuXWtI+onz0Q+DBMl8Ywb9EEjrK0RNXtYXTnztMHvBVNhsRNbGskvReFIkpGnX6Bz6rznIQcAkAmzhImHhAvam+i+LWioZK4WyAEIAiw24sxE9jBSMIJkDwvXBACoX/4HXhcA8eRrYLWDqmznOrp3M9ytsNhIQZkw8RBYHR21FbptJSvfBm87zFaSU0TGzkjkHjKstR61+1hLHWtrhN8LOQBBhCQRqwPpuSS3iBSNgWTWL6YT8LHWBrQ2sNYGtDWwtqbI2THYlp/ULZ2ebsnY6cKUI/TRCD34+YzV/f3eK595juMGKZ5gcT2AtTcTezoCXrrme1a1M6qMqpADzN3KqnZi41Jh6hxSNjGqQgRWX0E3/qiP9qD2ZrppqX4NAXjamaedNVZh83IybKQw5TCkZevrxOdzB/9QZfrzIrZnY1SpSrWXQF0527JCPOEyOLOiKnRg7Y3EYqPLPw/OegDA62J7Nqo1u8Wjzoc9HUqALv6QNXeMefJ5WOUOVrVTmDmXFI8JBnX8XrZ7A927CZ42fZFKocrM50FLPdu3GesWkLEHCeMPjjPhBV38IWsNX9Q5MPTCfu+pz3x/R3iPPMeliCdYQ4w9HdYWBHw9PCdnWxMyctUF72rNMJ2S/XT1t4LPRcbP1Bf1Pla9i674CqqiL4jGanar9eXCwScmNx+ElmAFfPTHj8PZjyFHRmfZFQC0NbHmunB2FeLz0NXzhSPOomu/N3h+xujq78T8UkiW2CJ1/lvh/C8+VWVbfqIt9cLsU/fPmbUXPp+9td/7/DPfcMbx4rCizMefab3/rsBPS8XSsvR7H5YmT3W98LT3ndcBZj39nLRb74AQdW24smOb543/BlYup40NsFqlMeOtp51lO+0sXTUAoKr3g/95P3lf2b0TkiRNmOz4xdWmMWP11QAALXf9yj//69BD06gxOe98ElEeQ1V933zh+/oLectG1toCySxkZ5vGTrDMOdp22lmRFeWN631fzgusWamW72N+n+BME0eOsp5wsv2cC2HiJyxuIOGf16FFOKhjLKoSgN/LAj62dSWr3hVVKXmsuZZV7QidaUh6DnIKYbGDMXhaWV05IsZR0c3LhdxiklMUioSQYSMFR4Y+6vPQ1d+GHgmHngYSc24AjIMdWPk2uurrqN5GezrJK4HVAQL4vKyxCu1NwSJVoT99Icw4jgxPuOHB5wZV6bLPwtmPaCIZuTDbQAh8HtbWCFUGQIaNiFhMj9WVs8YqiCZSPBb2NNSVs6bqYFF9OduzkZVvA0DySpBTCJ+H7dsSzEWUANu7mYyZFn4uDSGkbBLbuiIcsdpJZj6cmUSyMErhdbHGKkTe8q9mN9uxhoydEV4kApl2NJGjrutkW35iTTXB0tLxcWZyJ45gn1pnevzz2Xv7vac+80lRdu1o+9sfAyuWgRBl+9bWO2+1X/FL94tPC9nZtKnJ88Z/TaPG2M44J1Tf++G7bY/8AVSFKIp5+bSlObBmZWDNSt83X2Q+9jQxR3QHU9py92/8338DgDjThLQMed3q5hXLnDfcGq4TwXrM8UJWFmtpVnbtVHbHNA1Go02NLXf8n7x+rfaQmC3M61XL96nl+4jZHJlgyRt+broqOK8ssdnE/ALa2CCvXS2vXR1Yujjz8WdDNTmu/+MJ1lBlMsNkJo4MZnPqi5LHKrdrf5CsfHLgMSQrP6pYVenWn9jWlcGHjLEtK8jhZ0bV0djTiD1NH4y+xS/JGw6x0w4sY+1NdM388FnWni5MOzp2OnjWVMPWLmCt9QDAGF37vZCRRzJyddUMMa+LblzKGqsAkKxhZMJMkj88qpGAUdZYzSq2xW8gYTW7IYjCkecFt+GEWXTpp6x2r1ZK134PQJh8GBl3ULB+bjFdGWxIYHX7DBIsQBh9oLpjDSx2oWwiCkdFvqNQIxWr2EbXzIciaw/pttXimGmGOSvJLtRF2O4N4QeOjNgNm4oe+Xz25n7vsc88ANGEtIRus0hbW2hNdd63S5nX03jhGWpdreuJv2X96wXzoUe4//ui6+nH/d9/E0qwAiuWtz3yMDGZ0u74ve30c7Tmn8DyH1sfvCewbInryUfTbv9d6Jk977/t//4bCGL67x60nX4WBJH5fZ7XXnY9969QnUjWuadZ554GwPvRe21/ul9fHInSljtukdevI3aH88ZbrcfPFXLzoKpqVYV/ySLpwOmRdaUpB1hPPVMaP9Fy7IliwTAATJY9b73qevIx/+IfAqtXmGd0tyGQ4/qMwQGU41JDcgqFOefozzQARFGYdCgZOSUUYHX7EOi7awPpmu+11iMAcGSIR50Xe5YFQLKHCUeeGx6BrqqsI3fpmt/LdqwBQMZME446jwwboe+CIQLJLRamHUNyi6PiMciIyeFtSAiZMCtcxhjJyA1lVwBIyTiYrcHCtsZQPIrFJh5zoXji5WTCrM7yBlIyTjjohPDjgNegI3Kg6YP93vefefvFvyBms5CRaZlzDABp6jTzoUcAsBx1HAC1fF+opuupx0Cp88bbbGdfEOpcMx9yWNqv7gTgff8d5moPVfa8+QoA+4WX2s48VxuBRyxWxy9vshzd0aaYKt/8r+X16yAIWU++YL/oF0JuHgCIolhaZr/oMmniZF39jAf/Yr/4ci27AkAkyXH5NdKkKQDkn9dG1uS4fo4nWFwPEU3CQSdA7PSCKWHCrMhhPawx2KnU21hTjdawpBFmHBe+HC+WSRIOPjHUQsbaGpPqnyJFo4Wpc7o5eokMGxn1MKsApnBXDikZF1EIEBLOmbyuTocupWV3uVakaHTU4LCW+vDfA1Bf7Pf98ZkXS4M5opifD8A0Jvh5EDIyAVBPcLCdWlsjb9oAwHrSKVokxDzjYABMluUNP2sRtbpSrSgHoDVKRbKeMFcXSZZ//jcALIceIR0Q1ViVFHH4CADMHeyQ5bgBgXcRcj2DFI9F7PCpSFYHSc8JX4AWe0Vb74jswCI5RV02IMGRQUrGsb2btUds58+kcFR0jU4IgnDAkfpg8khGdG8RIcSRHt5usdMxROYNcgAWW/hhkkjOMOZqDj7oieaW/agP9vt++cwTZ0cfumQGQNI6HgoEANRghq1s26L9UX/KMcEKMWhzcPBZqN3LNFLff61lNt2h7NwOQJpmPKQvFvN6fV9/HvhpqbJ7J21pYR43An4mywD4fLbcwMITLK5ndDpHQCR7GkInG9kfVdRrWENF6G9SYnxJlE7UibapClSNM21BCCkoQ3cGDGmIYNDQEnFtIIk9o0e2oHR1rVwXzOHkjClyF01e/Vsf7Pf98pknuivpOlnDYGOPIJg6WrxiEVtwdzOPBwAICUVCBEfMpzFJWkekkJ6pLzAir1vdcudttKkRgmAaM06aeqCQnk6sVv+Pi9V9e/S1Oa5/4wkW1zMMhqHEiujqYqrSF+dvrwue8EATJLKSQNSknarKmmq6bv8ASE7XdbrWMaAqSuSgfqs9/Lcmeih9+O8URHUjDuTWgj7Z7/30Mw8AIHYtMSI5736qHw4YI5hXMcb8PmKJ+gQyny/yYQq0NaER4706w3y+ljtvpU1N5oNmZfzx78HRWgAAtfY2nmBxAw5PsLieYDLDEnPi7wdY9BxFxJkd+bBTkgUWW/gy+8hTdRzOmLalFHQ563cnLRYJYm1NaKllbY1wtyHgQ8DHVAXaP6qEOpgGur7Y7/31M68Jzl9FVXnbFmnCJH1xNLGkVPtD3bPbND5qigq1OjyOLTXiiFHKnl2hORrikNespE1NANIfeiQyuwJAGztaATlu4Ojilw3HJaTL+6vsL4Ho39+Jr2fkjJ26J+lM7CSfKTCaGSEs5exK9tPNy9WvX6XfvUFXfcu2r2FVO1lDJWtrhLsVPjdk/6DJroCYXdYb+z3x59wfxKIS7QI9zysv6ctiiMWlYmExAO+X83RF2sxY3WE56lgA/kUL5C2b9GXRqNZTKQhiTm5kXC3fK28MjsfnuAEk7tGc4xLU+YVU+1nHxE5AdEdbV0jkO1Ki5tXsVFeX6SWCaEOVexSr3KF+9Qrb8pNuRrEoogkWW9ftZwNFH+z3fvuZ7+D89V0QRd+3X7b+/k5l1w4tSFtb5E0bXM8/6X7pmcjK9ot/AcDz1qveeR+CUgBMlj3vvuH9/NPIaimwzT3NNHY8VLXl5mu8H/2PtrUCAFXVulrfV5953nkjVLOj1Y163nsrFAysWNZ863V8eDs3EPEuQm5Qi2xmUFUwlmAaxCJPrhHDaAYctndz5Dz4AJCWTYaVkYx8ODOJxQazNZRX0XU/sF2DoqlgyO93AObpB2f88e9tD9/r+3Ke78t5MJkIIcHL8WJmZLBfeGlgxTL/ogVtD93b/tgjQmYmra9nAX/67x5q/8dfmDfqklL/wu8DK5Yxl4u62tW9uwGo1ZUtv7qBONOI0yk40xxXXBu+vNFkyvzHMy2/uUnZvrXtTw/gTw8Qq5UFAloaZz70CPuFlwYrlo20zj3N9+W89sf+4nnzVSEnR62qpE2N0tRptnMudP3r0eATdvB9/om8eQNtb2eudmX7NgDK1k0tv74xtBrOG25NKr3muJ7FEyxuUNONGVcCiXbkRd4NxnDg+YDgaafrFoQfWu3CjOMNJ9scbIb4fu9gPX6uNHWa953X/cuWqJXlUFSxsFgsLrEcfqTl+OgJrgQx8+9Pet572/vpB+qe3bS5WTpgmuOq68wzZ3vff1vXu+df8oP3g3cjI8zr9S9ZGHpoO/dCMZRgAeKwwuz/vuP7/GPft18p27bQ9jbicIjZudLUA62nRM1un/HgX8wHzvB+/J5Svo+2NIklw+0X/8J+yZXqnl1Ro+oAAL5vvvAv/iEyQtvaIiOOa28iPMHi9h+eYHGDme7md6y9KfZOLwYCvqhZoGLv3jNA0D0bwxM3CKJw+NkkPe5w79C85wPcoNzvuZ9EtUQ6rrzWceW1oYdCZlbBCoNBTmLBMOetdzhvvUNfEEsU7RdeGmpPCsl+7T1dJP2eB9PveVAXjI+Yzbazzreddb6+QEcUbeddZDvvIl3YNG5C7Lvjtybk+jk+Bosb1Mw2pEWkFE214b87x5ojqgkiyRoWfjiwRM4FVTSqi+wKCN26eMAb4vud47h+gCdY3CBH8oOXoANgFdsjSjoVWY1kDxu4wziY1x36m6RHXZllgKop3sslcnhTvxmMPJT3O8dx/QFPsLhBThh1QCgDYM01rK48ujyGu5VVbgs9irxf78ATNQdpF6kP27U+xS7CyOFN3rhzR/WhIb3fe48qh+cJ4zguLp5gcYOdM5MUjQk9omu+i9cRpsh05dfhGaHs6aQ4obus9E/EFh5FxBorI0r0WHMt3bRMH00MiZhhldXu7e7tenrKEN7vvYdV76LrF+ijHMcZ4QkWN/gJBx4VvsGfp11d+B6r2R1VA4CWZCx6nzV1dJMRIhx0fIKX9/dPUd1kdeVs3+aIwg6Mst0b6KIPU2y+ApBXEv7b76WrvuknOdaQ3e+9qH/sWY4bEPhVhEOSEoAcYHIAij/qZ73XxZqqYTITkxmSBSZpkJxmLDZh1ly65OPg6cHTTpfOgz2N5JXA6gQh8HvQWM3aGiMXEiYfFv9WdP0fGTEZW1eGJsykq74l5dvIsBHB6+P8XtZSz2p2Bz8DoiiMn5lCOxbJGkayhrHmYILCKneoDZVk2AhiTwcRmCoj4IffA6+bjDmQlIyLXtpIT30+h+p+70UpZ+EcN/TwBGuoYLs30K0roASgyJ0Nx2E1e1jNnqiQSYJkIUWjhQOOjIoPNCSnSJhzDl36aeSd5theoxYdAEQQph1NRkzWxwccs1WYcRz96YtQgNXtY3X7Imp0EE3CIaeQ3GJs/imFO0aTGceyH94LT33u97K9m2M/ZESOus9dpF76fA7R/d57eAsWxyWMJ1hDRsAbbwxKZxQZipzKgv0PySoQj72Ebl7G9m7q7BQOgOSVkMmHk6x8fcHARIrHCLNPpavnR83wFI1k5JKDTiAZuQBIRg5rqdfX6ApJzxHmnENXfAVXs74sQb32+Rya+z0RbOca1lJLsovIyAO0CN24KLpKDD7CneMSxhMsbiix2oXpx2LcQaxqJ6vdx9yt8HsAwGIjNifySsmwESSrQL/UAEcKR4knlbJ9W1jtHtbagIAPVIVJIrY0ZOaTotFk2IhwX1t2IZJPsACQzDzx+EtY9W5WtZO11MPnhhKAKMFsIWYb0nNIRu5+m0R+SO73LrG2BjDGWmrD/axxU1WO45JCWOc/6TjOkL+t/S+jJvta2wDcsODLEYfP1tfoH2Sv7x9TZ17wn+dHzjlMXzYkUZ+v+g9/aP3qa7W5WXA6sy+4oPDe30VW8G7YsPuKK0v+9tf0446LjFfceVfze+9N3bUzMjiIdbYdBhnW1oDWBmTkhuZIoyu/gM1JCkZE1YvAavfA6xIOPllfwHFcDN6CxSXNkp72YMO+5r3lfx0zVV/WrzAGQDQH72TM1T/3XOPrb+Rcfrl9xnS1sckytpOZCJSO2QqGuMG+HUh6LmKmnyVWJ8kNX3yq11rPeCsXxyWGJ1hcioR+P8+1ZLfdtWO9PjqEuZb8aBk9uvgPD+sLOtimTJm0aqU+OvQM6e1gMusjkUR+yuC4RPF5sDhuqFAa6k15+haLRMWfEIEbFEjWMKRl6aORRN4ezHGJ4gnWUFe/bfvrF17+cMHIex35fx0zddETT4eKljz53N/HT7/XnvfoxIN++vcrEQvFE2epH59+/rHJM+9zFvyhcPRLc8+q3xq+M0kKq/HY5JmrXn3zzUuv/n1G4R+Lx3778CORAwofyh9xjznrbilz82dfhoKadW+/9/iBs+9zFjw68aCFj/2Lhubv7lzg/Tfbjp+h+6duHhjNY7X/+teWI+asHzvOv2u3e9nyn8tGaP98W7eG6lTceVco3vzhhxFLBxFJ8m7atPPCCzeMn7BpxozK+x+g3qgLyvbecOPeG2+iHk/lffdtmjFj/bjx2048yb87PLGn2txc+fvfb551yPoxY7cefUz9c8+x6C2vNDVV/v7+LYcfsX7suE0zDtp53vlN77wTWQGAe9ny3VdetfHAaetHj9l08Mw9V10dqKgIlcZ/iYo779p53vm+bdt2XXxJZ++iy+3AZLn28Se2zDly/egxm2cfWv3HP+qeYUAjo6eT7CJ9NFJaDsnrvAOR47gIvL13SGurqnnuqLmFB0y57N3X0osLazdsdnS0cCx99sVvHvrzmf/8e8nMGeXLV3182x2qLB96wy+jn0AvzlK7Fi75/K77L337lYLJE1y1dTu+X5heFDyUp7wan/z6rlP/+ocTHrhn79KfPrr5N1kjhh90+SVa0QN1ewJuz/2Z+rPFtq+/++CmX5399OMlM2fUb93+/vW3qrJ8zN2366oNJpmnnuqYNQtA+a9/LWZkFj34gBY3l4bPlEUP3J93w/WuxUsqf//7UDASU9Xdl1+RddZZ2eed7169uvGVV5S6urLnno2sI9fU7Ln2OjE9fdhvf8tkpX3xInNxcMZO6nbvOO98ubo675przKWl7jVrqh/5q2/L1tInHg8tvveGG/w7duZdd61UWCjX1bl/XCrX1oZKATR/8EH57XeYS0vzfvlLqbgoUFHhXrpMKghe/ZfIS/g2b959xRWZp52edc45hu+ii+3A2N4bbnQtWZJz5ZXWsWN827Y3/Oc/3vUbRr31ZtRtHwcvkpmPzCE0kwXHdQvjhrCvH/zzw4Wj/e0ufQFjfygeO/8vj4YefvPQX/5YMi6inLWUV95lyti9eGlkMM5Smz/78l5nQfnK1aHSkNRW49FJB792/mWhonevvvHJQ44OPWSMyV7vXaaMTfO+iAw+M+fEL+99KPTw6wf//OeRkyLKjfnfe6P1uOm6f8qmn/X1+rctRx+z44IL9NEI7UuXrhte1vTBB7p4+W/vXDe8rOG110ORivvuWze8zLNhQyiy5/ob1g0vq37kkVAkUs0/Hl83vMy1bHkoUvv0M+uGl7X9sFB7SH2+dWUjqv8e3tc6qsu1YfKULUcfo7rd+jLGWAIvob2L+v/8J1Qh9l1oOtsOLV98sW54Wcvnn4ci9S+/vG54WetXX0fU4jiOY4yxIfGri+tM1dp1JQfPMDs77tfWwV3f4KqtKzl4RihSOnNGe01tW1XH/dqMxF9q/NwTZl552TNHnPDMnBNXvPyq4vOFqqW8GvkTJ4SKCg+c2rCj63kEajZs/P6v/7hbytT+fffHv7aWV6oyvwFI19JPOD70d9bZZwNwLVkSLgYA5P7yWl1E0/rVl5YxYxyHzApFcn5xGYDWzz7THhKLxTJqVPM777R+8YWu61DjWrxEbW/Pu/aXgt2uLwOQwEtoMk46KfR3Z++iM62ffy7Y7eknnhiKpM2ZA8C1dGm4EsdxHADeRTjUMQhGXRuy1wcEpznQMMYASHZbKBIr/lJEEM588tGj7/z1ylff+Obhvyz42xM3/vClsyAfSH01ohIjxkhXA7EZpQG358SH7j3o8ksj46LEh+52TcoP9w1JRUUA5OqohFtwOEw52ZGRkMC+cuchh0RGxLQ0MTMzsHdvKFL2/HMVt9+x94Ybpfz8rPPPy7nyyshX9O/bC8AyZkwoopPIS4AQU1fvIo7Anr3U41k/arQurra06CIDFN38I8ktJdmF/GpBjus+/i0a0gomT1z16puy1yfZrJHxjNJiZ35e+YpVY084VouUr1idUVpsy8yIrKaTyFIZpcXH3XvnnF/d8tiUg1e/8c6Rv/k/dGM16reEh2lXrfs5Z4z+zKdDBKHwgCm1m7ZklOjHZnHJoQwAohNaYo53hb+WHOtCkY+sY8eO+eRj19KlTW+9Vf/Ciw3/+e/wp54MT/XJGAASd3KQLl8CjJHIVN7oXcTBKDXlZBf/8Y+6uNQx1GzAc7cydysr30yyC0luKZyZ+gocxyWMJ1hD2uzrr1n2/L/fuOiKY+7+jTM/r2n33oDLPfms0wghx9xz+9cP/CmrbHjJzBnlP61a/M+nT//HI5HLqooMgCrhm7/GX2rDB5/42tqKph9oTU+rXLXW09Sc25EPpbwaO+b/sPTZF8ccd/TepT/9/O6HZz39j1ARAFVWANDo6SKPv/+e18+/LH/i+Clnn8Eord2wSVWUGZddFFmHMyRX10hFhdrfgapKAFJh8GGXLGVlgX37IiNqW5va2mouK4sMAnAeeqjz0EMDd1XuuuTSqvsfCCVY2pB8/85d9oMOilqgQ4Iv0c134du8Of344+OnkgMXKRzNGisR8LGGCtZQAZuT5JaSnKIuJsfiOM4IT7CGtMzhJTcs+PKr+x5++bTzFJ8/o6jwyDtu1YoOv+UGUZK+ffiRlvKKzOGlc//0wMFXXqYVfXLbnT91DKJ64fjTREkqO3TWdd99Fn8p0Wxe8uRzTbv3qLKSVTZ87h8fmHTGKVpRaqsB4Ihbb9q96MfP777fbLcfdcdtoUsIv77/j4ueeErrYXztvEtFScqfOP62VYsBTDr95Ms/eHP+nx/9/pF/iJIpb9zYo+/8degJuThav/gi95qrtb9bPvoIgPPwwyMrxJFx2mk1f/uba9ky5+zZWqTxtdcBZJw8N1iDsciptszFxY6DD2r55NNQxHn44YLDUf/yvzPPPINYLKF4SNcvAaCb7+LUU1rmzWt45ZW8a6OHmkWv/MBFiseR4rGsrRENFaylFl4XK9/MKraSrALkloTuqMNxXCL4vQi5geqxyTOnX3bhsffcoS/oBYH33/Q9+6gu6HjyFXHiVF2wP9t6zLGm/LzRMZNLMUVR6urUtjb3Tz9V/v7+gttuyzh5ruB0mnJzBZsNQMWdd7V+/jkxS5lnnmWbNMmzZnXjG29mnHxy5AQHe2+40bVs2eS1a8LPG4H6fDvPOde/Z0/eNdeYhw/3rFnd+OZbGaecUvZMcMIzz5q1FXffnX7cseayMiJJ3vUbGl95JfPMM0sfD7dKNr39dsXd91jHjMk69xzTsGFKba1ryZLiP/zBPGJEIi9RceddLR9/LDjsnb2LLrcDGNt7082tX3yRde45jlmzQKl/z962r78a9eabiTeDDRiqzJqqWUMF3K3BiMVGcktITgnMUV35HMcZ4i1Y3EDGfx70BPeyZbsuDbcL1v7zn7X//CeAwnt/l3fddVrQedhhBb/+VdWDDzW9+aZgt+dcfnnh7+4JLdIlwWod9c7btY/9o+ntt5WmJqmkZNgdd+TdcH2ogrmk2DJqVPP7HygNDcRsNpeUFNxxR94vr4l4DmRfdJFUVFz//PN1Tz1N/X5TdrZ9xgwxIzggr8uXAABBGPXGG529i663AyFlTz/V8MorTe+82/LpPEGSpOLi9ONPEDMzQ0sNHqJE8oaTvOHwulhTFWuugc/NKrezyh3CwVGNghzHGeItWNxA9djkmdMvveDY3/1WX9ALBkcL1hBXceddze+9N3VX13N5cIZYYxWr3IaAVzj4ZH0Zx3ExeAsWx3Ec1zmfmzVWsqZq+D36Io7jOscTLG6gun3jCn2I47ieoiqsuYY1VMDVHIyYrSSnmOTyexFyXEJ4gsVxHMdFaG9iDRWsuQZUBQBCSEY+8kpJeu7guFiS4/oGT7A4jhsSSv7215K//VUf5SKw6p2soSLcFWh1kNwSklMMyWBeDI7j4uMJFsdxHAcArHIbAAgiySoguaVIM77xEcdxieAJFjfk0JpKZelCdd0qtXwPa6xnXg8xSXA4haIScfQ400GHmmYeCil66mpTn35TaPkeZekP6tZN6p6drKWJud0AiN1OMrKEolJh+AjT5Gni1GkkI0u/ZEpoTZW6ermycR2t2EtrquBxM7+PmC1wOIXCYrFslHjADNPBh5GMTP2SPYc1NSjr16ib16vbNrHmJuZqZ652IkkkI5Nk5YgTp5pmH2maOr2Pd8T+xJi6ZYOydoW6ZSOt3McaG5jPC6oSq41kZgmFJeK4SeIBM0zTZvbkNrGnk9wSklMEkd+dk+O6i0/TwA0h6pYN/v8+q6xaFn8CLZKRaT79fPOFVxCbXYvI33zm/evvo2slN02DvPBb78N3Rkacr30qFOrvYacsX+x/4yV108+6uAFCxEkHmM84XzouOCF+0iiVF3wd+PgddeM6fVEsk8l0yBzLhVeIkw7QF3WPsm5l4MO3lB9/AKX6slQ5nnhZnDJNHwUA0Mpy1xVn6oKWi660/DJ484Bk+f/ztP+Nf+uCzlc+FopTHAzO3K7AR2/Ln39Ia6v1ZTFIWoZ04mmW839BcsM3seY4rj/ouZ8+HNefBQK+Zx8LzHsvfmqlYa0t/tdfDHz+oe3uP5hmHAKApAdns+xBrL4GEQkWa2/1PfFn+YdvIqrExZi6cR09wPjGfF1Sf17lffxPtHyPvqAziqIs+V5Z8r3psKNtt91DcvL0FZLHWlu8jz2k/PiDvmDIYiww733/v59krnZ9USdYe2vg/TcC896zXHKN5cIre7I1i+O47om4sTzHDVKsrdX9q6sDn/4vkewqhDU1eO66OfDBmwBIZs90xkWidbXhv2sq3bdcnkR21cE0+wh9qEuU+l74p/v265LIriIoPy5wXX2usnyRviBJ6uYNrmsv4NlVCHO1e+65xffPPyeeXYX5/f7/POO+/TrW1KAv6lmqDL9XH+Q4zghPsLhBjnncnjuuU7dt0hckglHfM48GPnyLZPb8aF9aF+wAojVV7tuuppXl0eVdI+kZSXfYKbLngd8E3n0lqVxTh7ldnvt+Hfj4XX1Bwmhluee+WzvNBiSzkFcgjhorFJcSZ5q+dDBiDXXu/7tCWblUX5AMdeNa96+uTqRjMWWsehddv0Af5TjOCG9P5gY1xrx/ukfdtV0f7yCMGCOUlAq5+VApa2mi9bXqtk26wUC+Zx+z9cJpntXXQktW7r2VNdbriwEQgTjTSHoGFJm1tzGPW1dumnU4SDK/kSj1PHynsnShPt5BKCoRSkeQrBzicLK2VtbcqO7eYbxujPqefASiaD7tXH1RlwIBz+/+j7W26OMmSTrhVPNJZ4jjJ0VeZEAry5XliwLvv9FZ6kDS0oWiUqGoRCgqEQpLhaIScexEfaV+jLU2u397Q6cNihaLacJUkptP0jPAKGttobXV6taNUFV9TYBWVXjuusnx1Ku9lZiqij7CcVwneILFDWaBT/6nLF+sjwIggvnM881nXCAMH6krYe2tytKF/ldfoDWVwRCl3r/eH1WpJ2hdhN6/PUD37gpHCTHNPMw06wjTjFlCaVlk/sSaGtVd29S1K5Sflmgpo+mQOeEFE+D795OGXXLEYjWfd6l0zFxhxGh9GWPqlo3yd58FPn0v9ozu+9dfhOLhpukzdfH4Ah+9TSv36YLCsGL7Hx4XRo7RxQEIxaXmcy4xn3ae94k/yV9/qiu1/fZB6aQzdMGBhFLvH+82zK5M02eaL7zSdOBB+mtaAeZxKz/+4H/thdgtSSv2ev9yr/1P/9LFe4Yq6yMcx3WCJ1jcoMVaW/z/flIfBUhmtu2+v5imGacFJC1DOvF06agTfS8/GXj/TX1xz2H1NfIXHylLvg9FTLPnWK66WRw9LqJWGMnOMWUfajr4UMsvb6V7dwW+/tQ08zB9pc4pa1YE3nlFHwVM02dZb79fGFakL9AQIk6cIk6cIp1yju/vD6jbt0SVUur9493Ol99PfAYH5vX43/mvLkjsDvvfnhWKSnTxKGaz7c6HmKtNlyP6XvyX6fBjeqvBpvf533pZWaO/6ROxO2x3PWw6/BhdPITYHdLxp0jHnOR77h+BD9/SlSrLF8tffiLN7YW8k7dgcVzCeILFDVr+t16O7VaDZLb/4fGup1ewWKw33gGQwPtv6It6iLpnp/effwk+IILlmpstF10VVaNzQtko67W36aNxKLLviT/qg4Dp4EPtf3g8toEkljhqrP3RFzy/vV7dtjkyzlqbfU//3fa7P0UG41BWLo3tHLRcfn0X2VUH26/va1+xFHIgFGEtTfJnH5gvvCKi1oBBqyr8b7ykCxK7w/7Ey+Kosbq4AVG03vxbmM2xqbPv5SdNx5xILFZdPBLbuYa11JLsIjIyOJKPbuzq2gU+wp3jEpbMAA6OGziY1yN//qE+Cliv/3XX2VUH6w2/6ayhqwdQCiXY4WL7zX2JZ1cpCHzxcewgemH4SNtDjyWSXWmIw2l/5BmSnauLy/O/0GVdcairlulDFot0ytn6YCdIVo505PG6YMBoRw8I/v8+i0A4WdRY73wooeyqg/Wqm8UxE3RB1tQof/aBLqjD2hrAGGsJX80Kr6uLf9rdCTmOSwBPsLjBSfnhm9jmK6GgMLlB2YRYrv+1PtjTpBNPl04+Sx/tQYwFYnrlAFhvvD1+C0cskp5h/eX/6aOA//UX9KFOKOtW6SLi+MnE7tAF44gd8kUr9xmPxO/faHWlvOArXdB02FHSEcfqgl0wmSxX3aQPAoFP39OHopHR00nBSDJ6elTU5iQjpnT2DzZnVGWO4zrHEyxucJIXfacPAeaLkp6JURw7QZx8oD7ac4jDab0laob3Hqes+YnWVOmCphmHJDWEK0Q64TRx9HhdUFm6iNZHNIR0LjYTin22+IRRBmPU1B3Rg8MGAvnLj2Inr7dcco0ukgjTrMOEvAJdkJbvoXt26IKRSHouKZ1A0qOaJInVSXJLO/1nTSIV5rghjidY3GAkB5TVP+mDhEhzjtMHEyAddYI+1HOkU89Jqv0mBfL3+mYSANIJp+lDCSJEOuFUfZBR+bvP9cFYihzbrJjsLPkkPV0fAmLHdfV/8ndf6CLCiNHihCm6YEKIYJp5uD4IKD8t0Ye6ZIrbZSwm9/uE44YynmBxg5C6bVPkOGiNOHZiavOFmmbM0od6jvm08/ShnqbGTl8pmU2HH60PJsx01AkgRBc0ng4jGmtv04eApLspzRZ9CGC+ATb4mpbvMWhWnGWQJCVIGD9JHwLUzRv0obhI1jCkxb1pAb8JNMcljCdY3CCkbjWYt12MGbuTIKFsVLJJQIKEvIIEr55LGa2ujO28M006oDvNZkJeQeyMWeqmn5nfpwvqGW1G5nbpQ3EZ3kmGZMRNC/ofZU1MCytgOjDFO0sCEEeM0ocAddc2fSguMno6ye5kwg5NWg7JS/Em1hw31PAEixuEDKdtFEv1c4omighCWarLxtWro7s06s6t+hAgjNSnR8kSY2cEVVXa+Yz5GmJ3EKtNF4zN/+IznM9dyMrRh/o3/YxiAACheLg+lDDiNOg5pXW13bknUiySmU/KUurE5LihhydY3CAUOyUBAKEk9bOXkF+oD/WE2Hnke1zUNPEdhLLuJlixLVgA4tySKESIGdKubliji8RnUL/XMuDeQ3fHDD8XBGFYsT6YMOIwur5PDhg2+HEc1wf4iEVuEKJNjfoQ0J3OOJKjn/ypR5A0g1aHnsXqavSh7uWaGsO2FsPX0jEdPFvduDYyQqsq1PVrxKnRkwV0RlXlb/Wj6cUJkwdcF6FBOxylbXN7frQf83n74GPGcVws3oLFDUKsrVkfAtCNUUe9dCeWXnraSLTZINfszgAsjWF7CW2s04diSMeeHDtA3vfSv6AkdA+WwEdvx6YmqV0cuj+pKmsx+oj2Bjk4mW1CqJrQP47jEsBbsLjByGcw2rpbA9Vtdn2kR3RnlRLk9egjAOn22zF+Bm/Xl/IJxaXSUSfIC76ODKob13n//qDt9vthjjdHgLzwW9+L/9QFhbwC6cwLdMF+jnlcYPoZsHpLMmOw6Oqo/dIZ4eCT9SGO42LwBIsbhFjsr3aLJbbhJHFkwE7/wwIxmwI9kC8atoF1fRUhAMByzf8pyxez6MxP/u5zdec2y6XXSHOOhUk/FwDdvcP/7qvyN/N0cQCWa2/rVuq8X8TcHmfAIAKs3f3wcNwQMVBPGxwXT8yvdiKIukhyurn4fmSYVcZsn2SxmCnIASSYwgqFxdZb7/H+9fe6ON2zw/une7xmszh2opBXQBxOJsusrUXdsZU1GHc+Wi65Rjp2rj7a7xlvvX5AmHyEPgRAVZnPjaZK1tZIRkwhOamPxOe4IYUnWNwgRCSJddxHWcOMOg2T0d2MZH8xnJYTMdOpJ82w59HwtYxIJ5zK2lp9zz6qLwAQCKgb1yUyzMd87iWWq2/WR/uemsjKRiFGPaEkM9s89wx9tNuSG+FuMx4USJyZyC1G+Wa2ez2x2OEcYJcUcNx+wRMsbjAyW/QZAKPw+2FJNAPQSXYyzP7DuC8vgcFS8cXe8QZI7jIC87mXCMWl3r8/yFqTHu5NMrJst99vOuwofcH+wBIbnh/FqE+TWK2WX96qj/YnpGgMq9vLqneSsQfryziOi8GvIuQGIZJp8AubeY1ygsQw90CdTIjk5utDPfF2DDNOISdPH4rLNHuO87VPzKecoy/onDCsyHrdbc7/fthPsivAeGb5+IjVFpv49t11hSkTJUhW5m7RxzmOM8JbsLhBSMjKiZ1gk9ZWiyndixAAcxnkEwOCUGAwRSqt2IuDD9VHk0Er9upDAMkr0Ie6oiz8Vv7+y8iIUFDIZJm52iArxGolzjSSli4UDxcnHSBOOkCcNBWkf/0sZG0t+lACSF4Bi/6IMp+X+byxM933L1SBmnyLHccNSTzB4gYhUliMtSt0QVqxVxw/WRdMUCJTaPZPQuw9bQC6Z6c+lCTDZxCNpnePw//Sv/xv/zf8WBQtl11rueQaiAPpkgIWc8/mRIgjRhv8Bti5VZw8TRfsR9wtUGRIKfazc9xQwxMsbhASS8tiJyeg5QaNLglSY29sMkCIYyeCEN1lg91/OwbPQARh1Fh9sHOB916Pyq6IYLvzIem4U8KRXmKUvbGU502g1PC+TF0Sxk7ED9/oguqGdfs5wfJ20t1JVeZuY9U7AJD0AXbbR47bX3iCxQ1CwthJ+hCg/LwqtZ/erLWZtTTpowMEycgUR49Xd0TdWljdsoG1tZL0jMhg4mhNFd23WxcUx08ynn3UCK0s9730ZGTEfOb5fZFdwXj2fMMhZYlQd+9IcPYvHdO0g/36GJQ1P5kvvEIf7UN042J9SEc0kUKDNlGO42L1r9EMHNcjxElTYxsq1I3rWHubLpgIZdVyfWhAMc2eow+pqrJ4vj6YMGWhvukFgGnmYfpQ5wIfvIHoeTTMF14Z+bD3EIczdhQXq6/VRRKkrlqqDyVGHD+ZZOubgpRVy2l1pS7YX4gmklUgTDgUVv3wfI7jDPEWLG4QIharaeoMRTcMS1WVJQuk5KcaUhZ+qw8NKNIJp/pff1EXDHz1iXTK2bpgQhgNfPOZPggkNeGnsnJZ5EOSli4kP0A+RYQQp1OXaqvbNoGxBCdKjSTP/0ofShAh0nGnBP73WlSQ0cBHb1lvvCMq2IeEGSfqQ0EEgj4r5TguPv6d4QYn0xHH6kOA/+3/IMlJtFlTg7xiiT46oAjFw03TZ+mC6sZ1ckqNWPJXn9KYAVji1OlC6QhdMA7aEN1iFAjoGrR6lTBSP1aMudrVTet0wS4p61bq+l6TYj7tvNi2tMDH76rbNumCfUcQO/mnX0+O47rEvzbc4CQdd3LstKK0Ym/gy490wfh8Lz8Ff+xomQHG8ovr9CHA//zjyY49Yq0tvpef1kcBy6W/1IfiIs6o6cWZ3+d/Td/G1ntMkw/Uh4DAR+/oQ/Epsv+Zx/TBZAjFpdLxMcPOFMX7p98lu184juuHeILFDU4kLd184un6KOB7+u+JtxDIC7+Vv5qnjw5A4gEzTIcfowvS6krPvbcmPkabedyeu29iTQ26uGnaTFOSs2qJMc1d/jde8tx+nfzNPLpvN/N6wJJraEyKOGWaPgTIC75WViY8oEpVvY/8Xt25VR9PkuXqm2NnHKWV+9y3XklrUh+MxVqaAvPe10c5jutbfAwWN2hZLv1l4OtP9e1Pfr/nvtvs9/1VPGBGVDyG/M0876MP9eqZvi/Zbr3btW6lbtpxdcNaz5032X77gFBSFhmPRffs8P7tQXV7TI+Y2Wz91e/0wa5IJ56mHyEHKOtWKutW6oJRCCE2O3E4SXqGMHKMOG6SacYsYUTSF7WZDj5UyCuguoHtjHn/dI/9oX90+cFgTY3efzysLFukL0iekFdgvfF272MP6+J07y73zb+w/OJ686lnQzK4caEh1tKkrFkhf/+lsnwxsdrMp52rr9ElqkJV9DNdMcaaquH3wJ5OMg1uDMBxnCHCoifI4bjBxP/2f/0v/UsfBUAE85kXmM84Xxg+Ul8UCCjrVvrfeEndsDYUI1Yb8+nv3+d48hVx4lRdsDPywm+9D9+pC9ru/5t05PG6YO9Rli/y3Pdrg5RRMpvPuVg69mRx9Dh9EaBu3yJ/Oy/w8bswuume7Y4HpLln6qNdUhT3nTeoP6/Wx5MnTpxqPvdS6ejORmcb6/SDYZLMp51rvuByIX+Yvgige3bK338VeP+NyA8DsTti78zofOVjobhUF+yM97GH5S8+0kcBACQ3XzrmJNO0g8Up04nDqStlLU20fC8t36Pu3qGsXUH37AxNeEYczrSPF0ZX7xprqma715HicWTYqGCIqnTrcrhbtUcku5CMmtZRneO4eHiCxQ1qlLrvuF79eZU+3kEYMVooGS7k5IEIrK2FNTYoW9brGr2Iw2l//N/u6y/WpSYDLsECEHj/Td+zj+qjHYRhRULZKJKVTZzprL2NNTfS3Tv0LT0RzOf/wnr9r/XRxLD2Vu8f7lZW98wUGKbZc2y/uT924oPOMLfLfd2FtLZaX9BBKB0hjhlP0jNgklhbK2trUXdsZY31umokN9/xyFOuX16giyeVYEFVPQ/dofz4gz6uYzaT9Exis8PvY14P83oMU15NignWrrWsqZqMmEpyS4KRiq2sZhdEE3FmsfYmUJWMmkayC6OX4zjOAO8i5AY1QbA/+Kj7/66glfv0RQAAumen4V1fwkwm271/EUeNFUqG0/I9+tKBxnzuJaCq74UndHO7a2hNFU34xi/mcy9JObsCQGwO8wWX0+qKHpn5SVm2yP2bXzqe+DdJ7HaTxOG0/f6v7l9d09nVi7R8T9e722Kx//4RYcQYkpXDmhv1pYkTRfsDj3ofe1j++lN9UaRAgDXUGey2nsO87QDC/YCqwur3AUQYPwv2DDTXsJ1r0FgJnmBxXAL4IHdukCPpGY7HX0phpA4AmM32+/5qmnU4AHHMeH3pwGQ+/xe2+/+W+KzrBkyS9bZ7Up6uibU2+//zdPv5J3juvrlHsisNrdjr+d3/JT4Nhzhhiu2uh2FOdISTDrHZ7Q/9Q7uzTQ98NkTRdudD1tt+F3vpa58K+CGaYApuE9ZcA1UhWfmwZwAgmQUQROZpi1qE47hO8ASLG/xIdq7jyf9KRhcVxiEUD3c88R/TEcGL78QxE6LLBzBpznGOl/6nJY7JEqdMcz7/lvn08/UFiZG//dx15dn+N/7N2oPDekKI1SbkFQhlo4QRo/X/ykYJhcUkNz/+iG912+bAZ0lcPScdc5LjiZdTmONUGDnG8eQroWsne+qzYT79POe/35fmHKcvSJI4ZoLl2tv00URQBSYp/LCxCgByO/o6CYHJDCXV+zZy3BDDuwi5IYHY7LY7HzKffJb/ledir1/TIdm55nMusZx7SeTpXOh+K0V/IhQU2v/8pPrzav87rygrlnTd8CMIpoNmm8+9NNkZGSL5//OM/42XdEFx9Hjp9PNM02cKRaWJzKXO2lrVndvUtSsCX3zImvQdc/7XXjSfdm7sBJ6dEcdNcv73o8AXHwXeey2R7lGheLj53EvMp50XOfdmD342hGFFtgf+btm7K/DhW/Ki71hri75GZwgRR48XDzpEOuak1BM+kzncZxrwsvYmSBaSnhuu0PX+4TguiA9y54YcWrlPWbpQWb+G7tvNGuuZzwuTiTjThKJSccwE08zDTAfNhmkI/fZgTY3KiiXK+tV07y5aU83c7ZAVYrHAmSYUFovDR4pTpptmHprg8KbOBOa973viT1EhIlhv+I35nIsTyatiMbfLc88t6qafdXHHU6+KE6bogl2jVN26UV2/WtmwllZXwtXO2ttYwE+sNpKZJZSOEMdNMh08W5x0YGprmwpVVTeuUzaupdu30OoK2lAPj5sFAsRshs1O7HaSmS2UlAmlZWLZKHHK9JTv3h3Ctq9krfVk3EySnsv2rGcNFaRwNCkOXVvK6OqvIYjCtD69MoPjBiieYHHcUMfaGtm+jWTYqNC1Yz2ONdS5rjhLN6mp9ebfms++ODKSLFqx13XVOboB+5arb7Zcck1khEsQa6pmu9aCCJAsCHghiMLUo8LTYnna6abFcGQIE5O4sTfHDVmJNqRzHMelLPDR27rsShw93nzWRZGRFAglZeJoffcc63xeCS4+kl1IcorBqJZdkRFTIycdZa11AIgzK7wAx3GdG0L9IBzH7S/ywm91Eenks3qkr00YPkJ3x2XW0hz5kEsKGXkAKRjBZD9xZIQuJwwymUnh6N5r5uS4QYa3YHEc17tYSxOtqtAFxanTdZEUWW26AFM7nX5zaFJ9voUzZjUvXaYv6Iw9nWTk6bMrgOSVkuJxsHRjgg+OG0p4CxbHxVACdMsyYeSBrKmKtTcSZxYpncgaKln9PkgWoWQCbE5QlW5ZBskijD1YtzTdvhKyX5gwG4KoRVhLHWuqgs8NADYnyS0haTFzjlOVNVSwtgYEfACDyUxsaaRgJMzWYAVvO2uuYe5WyH6AwWwjmQW65gTWWMWqdwgTD0PAx2p3B6csstiFkvGR50XWWMmaqhDwQbKQrGGw6u83DADuVla/j3nbQSksNpJZQHKKU2tzog11+hAg5ObpQykxmF3dZvR2Bju5pVUwS6LdKPthDACRIuZf4Diu9/EWLI4zRmt2AYQ4MllbI6vYylpqSXYhZB+t3AYAgkgy8+H3QDfvotcFv4ek54azq5pdrGILVJlkDSNZwyAH2N6NrCG6RUeR6c41rG4vBJHkFJGcEmJxMFdL5KRErL6ctdQRi53kFJHsIlDKanaxur0Rz9JRs72R7l4HQSA5xSQzH0ogaiRN7W5WvRMgJLeUOLNYYxWr3RNeWKvTUkd3r2OyL5jDCSKr2cXKN+uqJYi5XfoQEDXfUsoYo3t36WLCsCJdZCjYfM+9jQuM740j2mxHrv4p8+CD9AUcx/Um3oLFcZ0ghJROAKNs81LWWi+MmwWzFarKmqtBKQSBZBeypmrWXEPs6aGFWEstAGR1zF3paWMNFXBkCGVTtZmTSMEIumc9q91NnFmhpiNWsxN+DykYSfLCN7AjjEW2GJGisUQQQ9Mvkfwyuu0n1lxD8stCdTSsajspm0IcmdrDqEYn2ccaKmCxC6NnBNcnv4zuiL7psiqzqu3EkUlGTNVWgACsYgtrqUNbI0mPaXvrCjEbzE7OGutj716cLGXtytjJq4RRY3WRQY9R2vjDomGnn6Yv4Dhu/+EtWBxnjNjSAIAIMFshWYJddVquoMoAYHXClsZa60HV4DKMsdZ6SJZQcsOaawCQ/LLwvJSCSPLLwJhWBABUZa31sNgisysA+v44kxQ5uSUEkVgdkKPuS60h6bmhFdBhbY1gjGQXhp/KZA7fe06ro70jXYdgRj4AtDeFIwkznCpdWblUH0qWHPC/+E99UBBMM2bpgx3cO3auvera+eMmfVNctnDGrD3PPh8q2vvCS4tmHvZ1UdmiQw6veO2NUHzJnGMq335n/c23fjdy3Pzxk3++8RalLdxmue+llxcfOueb4hHfj5+y8rwL3dt3hIoMn7D203lrr/rl+ltu+7ZszN4X/73zH098O2LsumtviF8EwLNr98833vLDgQd9Uzxi4UGzdz3xZOiFfjrtrO9GjQ/U16+54uqv8oq+yiva/ue/hkrnj534VX7xV3lF9V9/EwpqDNcQXb1ljuMSxFuwOK4TYse3gwgQO/qztCnCOyZeItmFrHIba6kj2YUAmKsZyv+3d9/xUZT5H8C/z+xutmQ3dVNJI4EEEkpCBwVBEPQAz8Khoqg/z1OxHMLh2c+znlKs59lFsSOCBQUEpEqRHkoSIAnpm57dzWb7zO+PCZvdIQkJWSDGz/t1f8w+32dmd+b3+pkPzzzzjINFJDR3JhJsjeTJaqcxtVYgEqzm5vxiayRBaCsSteB5od5AjXWC3UpuJ/E8CTwRke9AFxGR79f5sDcREVP5Dh1J5mBZzUQkFB9tZYm8c3pNCtNHsvAIyWQpx8rPFVf+mWnOdb6U02Fd9G/38WOSZvnoy5iu9fU27YbK36b+WTcgPXPp+6qYGHNOboC+eTSu+IOlJ19a3P/F54OzMo379uc88jjvdCbccbtYzXn48aQ5d49cu9pWXn74nvvzX34t7d9PElHdjp15Tz2T+eF72n6p9qqauu3blTHRZz1g9c8bMl5epE1NPfHcf2Jnzhj29Re/Tb/WfORoOyXdgAyZNlAVEz3onf8po6Lqd+8++uCCoIEZ+omXE9HQ5Z/zNvsvaRmD3n0rcvIkImJebyC4/ESOu6lpQ2IfT4uonV9IbZ8yAHQcAhZAG7xTSxtzu1lwpGAoEOoNYsCihioiYp77g0TkdhNjnvlYzcS4dvphN8HtJiLi2v1/RreLLzhI9iamC2fhvUihJJlMMBSKYUjKEwfPJA62SX6P5KPbRURMH9fKcZTSR/Y6SHHJBMf3y71beEO59dmH1U++dA4Zy30y17boaXd+nrTAmPLG/5M2nlby8SfEWNaypbLAQCLSJPf2lPKXvNr7gXtj/3I9EQX2SWkqKi5Y8qonbQQNHtTnkYeISJuWGnP9tQ2/Nb9qyW2xEGPKqEh1YqI6MTFkeMskp3YOyKlUsTf8xVZWfvzZ5+Nvm60bkKGKjbUWl7RT0g3IUEZGpv7rCfHgmt5JRe+8b8o+LAYsmUbDZDIikimV4qlJiFWJdn4htX3KANBxuEUI0AUcx0KiyGomm4V4t2CuIU0QBXilEJmMBMGTpZqJdxhPj5AxMd+0Ozgk1JaRvYnp41hiBguPZUHhLDBEOnDVEZyMiATxB3iII2EenJyIWJCeRcRL/+f9WrrOCLj2Rjrjz7xrzw7LPTc5N/7U8v67dgnGBueW9U0P3WO5Z1Yr6YooYOp1sv5tviTHdPhwcFbmmRHEUVvrqK4Ozsz0tAQPybRXVdkNzQuWBme1lOQhIS5zc6jVT7w87uabdl01ffefppd++jlvb75d2/4BFSEhRMSpVUSkCA8nIk4Z4Lbb2y+5LZb8xS/vvOKqTf0G/pKa3piT67b6LNzaKe3/Qmr7lAGg49r9RzMAnA0LixFqy4R6A2l0xPM+w1dETB0kWBsFayPThngaBauZvO/TqQKJSGgySWa1+xBv7XnnG0EQGztHXKzBZiHv9bjt1pZtIlJrqaFSsDR4T97vIi4+KeD6WxzLP5a08+Wl1v88YXvtP7IhI2S9+3K9EphORyo1CQLZ7YLdRpZG3lDGV5TxRQXughOSt+J4k/UfqLr3IWmrN4F8JrGdxotJxfvIgkBEMnVzUD4zk4kYx/V/6YXef7+/7Muv8hcuLnz9vyN//C4gIqL9AzKv38BkPr+nndLh++c25h3PeGVx0OBBMpVq5+WTvaud1f4vpLZPGQA6DgELoGuUGgoMFkw1zOUkxrEgn+WdWFi0UFcuVBcxTVDzX3eeF6qKiYiFNs/XIZmcBekFU41QU+I9f6v5758YuRRKIhKcdk/+EmpKpANjHcB04UJFvlBXwUKjm4fQ3K7mJx89fUIihcpTQk0ZC45sWYWLiFwOksmbZ6F1nuqO+/j8PNe+XdICkdBkcW3f5Nq+SVroMNmgoZrnXqUA6dqY3rT908q/WO622WQqr5MiUvWKDdDrGw4cCJ9wmdhi3H9Q1StWHtyhfKnqFZvyj3lJc+7ePnps+fIVSffN6eIBW1Wz4ZfUp54IHTmCiHiHo6mo2LvKOI4Y6/gKq+fjFwKABAIWQFexsBihJFcw17Kg8Jap8SKVlkX1FioL+fx9TBtGREJjHdmtLDKR1C0zzVlsH8HWKFSeEsx1TBNEjCOHTWis43oPFse3WEikUFsmVJwku5U4jiwNgsVIgcFkMXoO0iEBKqaPE2pK+fwDLCicBEEw1bAAteDwut8kU7D4fkJxDn9yHwuOJEUAuZxkbxKajFzf4T6Rq1Pkcs0zr1gX/su5Zb201BVyhfKGW5W33nPmLUiJhNtvK1m67NAddyXP+3uAXm8tKnZZLFFTryLGkufPPfmfher4+OCsTOP+A0Vvv9vv+Wek+5+hcvWPLpM5aNBAuU5rPJTtrG/QJCcT0TkfsB3qpMSaTVuipk11NTaefHGR4PS5qcoUCk3vpPLlK7Tp6YwxWaBGGdUykso7nUQkuE4/60rn5RcCgAQCFkBXsaAIQZ5PLmfL8lfe1Yh4UmqEmhKhvoKIkSqQJfSWTmaSB3ApQ4SaEsFUK9SWEyOSK1mQnjyPg6m0LCFDqCoSaoqJcUwTxCVnCtZGobMBi4hFJ5M8QKirEGrLSKFkYbEsLEbI2eHTRxfOUrKEmhLBXEtuJ8kUFKBikUlnvj6lc5RK9ZMvycdNsr/32pnrV3WaTKaYMEV5y9+4uERpqTWquF4jVq868dyL+264mbfblNExve+fI5YS//ZXTi7PX7jEWlamjuvV94lHe8260XfvVnCKgKJ337cWFfNOpzohvu8Tj0ZeNUUsndsB2zHg9VeOLXh469CRARH6pPvmKKN8VtYgooFvvHrs4cd2XDYxICy072OPxN44k4hOvPBS0VvvuG02Ijpw2x1ModCm9h2zeQOdh18IABJMaHtOAwB0EJ+7i4i4tJFtTqICb06H4+fVrk3rXNn7iPedYn9WcoUsfZDikgmKCVNYWLi0CgDQPSBgAXSV0FgvnDrMIuJZVMuT/9ARQn2tK3s/X3jSfeqkUF4qWBqFpibB2kRuN8nlTKFggVoWFML0EVxULJeQJEtJ41L7M+W53qYEALhQELAAukYQ+MJsspq4tJFdvYMG/vPzoCHWsvKpxflyPBAHABcD5mABnCPBUECcTGispyYTi+ry/CTwn8aT+dayLs/xAgDoAgQsgHMivnbQ5SSFkkUnM32ctANcPNWbt0ibAAAuLAQsgHPCGJc2UtoI3UPVJgQsALjIznHNQACA7snd1FTzq8+qEwAAFx4muQO0wnKqyPDTmppfd5pycuzVNbzDIdcGauLiQjIH97r+2ohxY6U7tMZttZauWFm9dVvDwWxHXa3L3ChTqZRRUbq+KaHDh0VdMSl4QIZ3/+otW3dcN5OItH1SJu7+1bvkbePISxpP5hPRmJXLIy4b52k3rFu/e9ZsIhr1xadRkyfxDmfRJ5+VrVrVeCLfaTYp9fqwEcMTZt0YefkEzy7euvjtnt2Hf/R+7PRpgstVsnxF2cpvzXl59poamVqjSYjXj700+c47NIleq9W3obOXruFQdvWmLcYjR4xHjlryC4R2l37oO/f+9NMvThZ18dxFx5e8kvPCS0R0ZU62MjKSiEzHck59tKxm+6/W8grieWVkZFBGetTECQk339TqC5iJiLfbi79cbli7znT0mL2mRqZUqXvF6seNTZx9c1D/ftLeANCN4RYhgI+m4pKD8xacOYnH2WA0NhiNR44Wffp59JWTh33wruSNKxJFn3x27NnnHbV13o0ui8VVUGApKDCsW1/w9nuTjxzgFArvDn5hPn5c17/fb7NvNx4+4mm0lpWXrfqubNV3cTOuy/rva+fje0WNx0/YDIbfZv9f/f4DnkbeYTQeNhoPHyn8YGnW66/EzbjOaw+pc7h0Be++X/Llcq/uF5PNUKmMjMxbuDhv0cveUc9VWGgpLDRmZyfeeotX9xY127YfeODBppJSTwtvdzhNJlNObuF7HyTf/beMp//VVjIDgO4GAQvAhzJCb8zOFrdlanXwwAGBSUkytcpWWVmzfYersZGIDGt/zn7okaw3XvXe0Vv2Px8t/GCp56Ncp9OmJMu1WltlpbWs3N3URETxN808Tymnfu/+kq++Nh3LUQQFhY0aoYqOdpnNtTt22Soriah0xUrB7R72/jvS3fyk/sChijXrGg4cJMZCBg3UpaVxAYrGk/m1u38jQeDt9gP3z9X2SQnJHCzdk4jO9dLFzbgueOAAcZu32Y49+4K4nf7Uk1yA9CKHZmVKWvzLZqisWLMub+FiIpJpNLq0VLlGY60wWEtKeKcz6opJ0h2IiMiwZu2eO/7GO5xEJNdqw0ePVMXEuK3W+r37LYWFAs/nv/WOrbJy2HtvS/cEgG4JAQvAh0ytTplzt/HwkYRZN0WMG8spWxZfcJpM++c8YFi7johKvlze79GH1bExLXueVvjBR56IEDokq/+Tj+kvGeMZeBB4vu63PYaf1ia1MYzRdeU/rCaipNtvzXjmKc8qUILbnbdwSd7il4mobNV3va65OmbaVO+9/MWwZi0R6VL7Dn33LU/oIaKGAwd33XiLvaaGdzrzFi0Z+dmyln1OO+dLFzlhfOSE8eK202j0BKzef739wq+DVfz5l+Wrf1TFxAx45qmY6VM9WdBlNlesWRfUL823OxFRU3HJvjkPiOkq6f9uy3jqCblO56mWLF9x8MF/8HZ72cpv9ZeMSbr91pY9AaC7QsACkEqd/6C0iYiIFEFBw9576+fBQx119QLP12zfHj/zL5I+LrM557nmv+5RkyeN+HipZASFcVz4qJHho87vE4j6Sy8ZvGShdwuTyfo9+k9LUVHp198Q0fFX3zhPAYuIFCHBY75dofJ63zARhWRlDnj+mX1330tEVZs28w6n5Mp0k0vXdeU/rFbFxFy2ca3kCsh1uviZM7xbPHKee8FlNhNR7J+nD178kqQaP3OGo67uyOP/IqK8RS8nzLrpzGE5AOhu8BQhQCfINJqoSRPF7VaXsiz+4iunyUREcq12yJtvXKw/hClz7pY2ERFR2oL54kbDgYON+fm+Rb9JmXO3JFuIYqdPE4dzeLvjzG/vJpfOLwa+8GyrV6BV9qqqsu9+ELfTn3zct9gs6bbZMo2GiGwGQ/WWrdIyAHQ/CFgAnaPu1UvcEOdjSXj++MVdf21AWKhv8UJhTH/pGGkjERFp+6QE9k4St+v37fep+U/s1dOlTURExCkDVNHNscNZ3+BT6yaXzh8UIcEx0/4kbW1b9dbtgstFREHp/T3/15EQpwOK27U7d/oWAaA7QsAC6BzmmV7d2hIn9fsPihvhl7QecS4AVVSUXKuVtp6mS2ueA2TOO+5b8Q9OqdT2SZG2nsYpleIG73T4VrrFpfOLkMGDGdeJ/7R6HrcMSu/vW/GhiooUN6ylZb4VAOiOMAcLoDWCUL//QPWWraZjOU0lpc76BqfZzNvtbpuNd0iTgTdHXfPiAoEdWO3pPFGEBEubvCj14eKGs8HoW/EPpT68U/HCoztcOr/wXOEOsldViRulK1aWrljpW2yF44zBPwDohhCwAKQqVv949OnnLQUF0sLZuJuaxHs9RNTOGNL51v5SSdzp5btcFotvxT9karW0qQO6yaXzi5Yxzo5xmszSpnZ5LhQAdGcIWAA+Trz6uuch/4Cw0MiJlwcPyNDExytCguWBgTK1Ov+d94o/+8J3p2acSkWMibcO3VartOwnZz2y22qTNnnx7H5u6xec9dvPzYW5dF10nn6YXKMRN0IyB4cOHeJbbIUuta+0CQC6HwQsgBamo8dynn9R3E6+6870p544c7l2RXCbN+AYxwWEBIt3cJpKS0POz4KWZ71D5KirlTZ5sVdXixuKkBCfQsec9dvPzYW5dF10ns5dGaEXN0KHZg1a+B/fIgD8Xp3LVAmAnqp05Srx3SbBgwYOfOHZM9MVETkbGqRNXoIHDRI3anfu9q2cHadoXtS0nWle1tIycTXzdjgbjPaaGmnraeacXHFD8m47f337OevKpeuii3vuIUOyxA3j4aO+FQD4HUPAAmjRVFQsboSPGkmM+Rab1e76TdrkxfMe6NKvV3R2kpNncrrNYODtrf+lr1y/QdrUmqpfNkubiIjInJvnedVd6LCh3iU/fvu56cql88YFtCy+3+pSGme6uOceOX6cOG2uft9+S+EpaRkAfp8QsABaeIas2hoBKvlqefuT3xNumSUexFFXf2jeAu93/Z6VNiVFfDMP73BW/LRGWiZy22wn33xL2tqa/LfeEdxuaStR3pJXxI2w4cMCkxK9S3789nPTlUvnTaZWi2tyEpHp6DHfYusu7rmrYmJ6XXcNEQlu96H5D/FOp7QHAPwOIWABtPBM/TGs/dmcm+ddEni+aNmnB+ct8G48k1IfnvqPB8Xt0m9W7bz+hjPX87RXVZV+s8ozld6DUwZEThgvbh9+9Alj9mHvalNxya6Zszo4wmHMPrz3b/d4zxkS3O6cF14qW/mt+LHvvLmeksiP335uunLpJMJHjhA3jj37gr2mvRlpoot+7ulPPi4u7lC9dduv06+t2y0dJXVbrdVbth5+7MkDDzwoKQFA94RJ7gAt4mZcl/viQkddvbupafPlV8RePV3Xtw+TyZtKSqp+2dRUXCLXalPnP5j7n4XSPb2kzptryskVo0z11m3Vk7cp9frA3kkyjcZlsTQVl4jrHgUPyEh/8jHJvmkL5ldt3MQ7nfbq6i0Tp4SNGqHt00dwOhsLCuv37RdcrpDMwaroKMPanyU7egsfPbKppLT8ux8qf94QPma0ules22Kp2bHLVlEhdoi/YWb0lCt8dyLy07d3RVcunbfku+6s2rSZiIzZhzeOGBM+epQqOspttTmNDdbyiuQ770i4+SbJLhf33NW9Yod/9OHuWbOdJlPdnr3b/nR1QHiYNjlZptG4rVZbZaW1pFQc0ouaPEm6MwB0SwhYAC0UwcEjln20+5ZbnQ1G3u4Q34vsoY6NGfbBu0Hp/fNeWtzeDSzGhr37VnBGxvGXXxXnEtlralq559jaHK+QrMysN18/8MCDvN0u8Hztjl21O3Z5qqFDskZ8srTo08/b/zMvDwwc883y3bfc1njiZNXGXyTV+BtmZr3+sqRR5Jdv75IuXDpvUZMnpT30j7xFS4jIaTQa1q7zrjrNraw7ddHPPXz0yHHr1+y/7+/1e/cRkaO2rq62eeVVb+qYGGkTAHRLCFgAPsJHj7x8x9aCd96r3PCLpfCU4HIqQkK1Kb2jJk/ufcdt4hqYuv79zjK5h7G+Dz6QeNvskq+W12zdZjx6zFFXz9vtMrVaFROtS0vTXzqm1zVXS/ciIqK4668NGza08IOl1Vu3NRUVu63WgPBwXb+0uOuvjZ85g8nlutRU6T6+HHX12j4pE7ZsPPXxJ2Xfft948qSrsVGp14eNGJ44++aIy8ZJd/DS9W/vqi5cOm/9HnkocsJlpz5aVvfbHmuFgQReERSkio4OSk8PGz5M2puIusG5a/ukjFv3Y/WWrRWrf6rductmMDhNZk6pVEVGaPukhI0aGT1lcvuv0wGA7oMJrb1PDQB+dwzr1u+eNZuIggcOGL/5fD3yBgAAHYFJ7gA9Dv7VBABwsSFgAQBcQC6n+/OFQkWhtB0AehYELAAAf7NbydX6gqXNOMx/BejhELAAAPyM//UHofSktFUkV8hm/ZNFxUvbAaBnQcACAPArQWgzXQHAHwaGqQGgpzPW8vs2CuWFZLOQRsf1H86yxhORUHBEOHmIFAFCwVFu5GRy2PmDW1hCP27SjeJ+wuEd/JEd1GgkXQg3eBzrP7z5gA6be+kzspsf5vduEAqPkEBs4Bhu+BVExH/3rlBbTk4Hv+5TsS8bMkEsEZH7o2fJbiMSuCtvZYk+L9sGgB4GAQsAejpFAAUGcRNvYBqdYCjit6zk9LEsPpWIhOI8bty1LDSS3/0zS83ipt7Bf/euUFvBwmOEo7v4vRu4S69mEXFCVQm//XuOd7OMUZ6j8hs+Z30yucxxgrWROJnYyE29nVwu98fPcRNvbI5QsuYSEcluf5JcDvcH//a0AEBPhYAF0ENET7niz7UGaSsQkUbHjbxS3GTB4ezwr1RdRvGpREQyOUvNokYj7V7H0kew8BjSBpO5nsJj+H2/cJnjWN9MImIhemaq4/dvknkFLIpNYQNGExELiWhplAcQ44iI5HJSBLS0e4hVAOjpELAAoKdzOoTs7UJRjmBuIIEnh50S+zW/bUepJiKSy4mIqQKJiGQycrnIZiFrI0XEeY7BIuOEfRvJYqLAoOaWqARPFQBAAgELAHo4ftPXQn0Vd9m1nL4XyRX8N/9tqXm/1tB72+UkIqIzlmz1HpSS47+fANAmDFYDQA8nlBznMkax6CSSK8jtEkytvERZShtMai1VlXoahKoS0gZTgMqrUxsYI2LUzuvAAeAPAP8CA4AejunChNITrHcGOR383vXEu6U9WsG4IeP5Pes5Xag4yV3I/pUbM03aq1WcjILDhBMHWHg0ESNFAGl0LVXx2wXEL4AeDgELAC6CHVOmNuzb7/kYPm7syJXLveqtq/5l84G/3qUfP27I0veltbaxCdcLW791f7GY1IHc4LE+cadtbMAYjpPxezc0L9MwcgrrN1TaqQ3c+BnC9u/dX79OKg03YjJLHUJE/J71QvZ28eYjv+5T4mQsNJKb8YB0ZwDoEZiA98ICdGe8Wyg4KA57sPj+pO5QOOj+ij78yHzkqKOuznT4aFNRUQcDVs6/ni7839tMobiqolhaAwDoTjCCBdC9cTLWZyg57ULhIWnp9yzxjtvFjRMLF59YuMSn1jb9+MtKPvkseupV0gIAQDeDgAXwe+D9gNsfWMTl4ycXHpe2AgB0P3iKEAAAAMDPMIIFcEGY6wRzLXEyaqxj+nji3UJdBQUGs5g+REQOm1BXRk1mcjtJHsCCIygsVnoEAAD4/UDAArhQLA0sqjcFqIWaEtLpWa80oSSHwppIqSFORvIAFpNCcgVZGwVDIVMGUmCw9AhtEJ/Im5R3VBEaUvzhR6VffGXJLxAEQR0fF3P1tL7/XCDpbz6WU/i/t2u3/2qvqpKp1br09LgbZ/a66QbGtTKkXfrFVyWffW4+muMymyWlsDGjR32/kojcFsu6xD5ENHbbJl1/n3cYm3Nyt42dQERTik7KAgO9Sx23///uNPzwo+ejtl/auO2bW8pn6PgJdvbSAQB0EAIWwIXCOArSk8tBNSUsJJKUGlIEkNNOSg3JFUwf39xNoaJ6A9ktHQ9YImtp6eG58yvXriMimUrlttkac/OaBg6QdCte9unRhx4R3G4ml6uioxy1dXU7d9Xt3FX+7XfDPlvGBfi8Pi977vzSz77gAgLCx41VBAc37D/QVFhIREEDMsIuGRM6Yrh35/MnetqfAsLDHXV1jXnHG/POMgerUyco6uClAwDoOAQsgAtFJiei5nf9Nm+z5gUneTfVGwRLAzntRERutxDId3Za+5F5C6xl5YP/90bUVVPkOp3bYqndsTMgPNy7T+227UcXPMzk8oxFL8bfdANTKIioZvOWQ/fNrdm0Jfffz6a/8GxL563bSj/7glMqL1m/Rpfen4gEp/PA3fcavl+tjI5Of/4ZT8/zLfb662Kvv46ISj757PC89kaVOnWCHh25dAAAnSIdMAeAC8InPgmGAsFcyyISWHImSxnS/AbiTjLl5I5c9XWvmTPkOh0RyQIDI6+YFDIky7tP7jPPCzyf9sSjCbfeIoYPItKPv6z/s08RUfFHH7tMJk9nw09riSh62lQxXRERUyj6zJtLRDWbNgsul6dn99GpE/ToyKUDAOgUBCyAbsBiZCFRpNYR40gQmsexOilqyhWeJNQqW1m58cBBIoq59hpJKWz0aCLiHc6GfQc8jfaKCiLSJJ6+d0lEROqEBCIS3G57VbV3e3fQ2RP0OOulAwDoLNwiBOgGFErBYmTaUOJ5obaUzny/gthyZruXoEGDpE2+TEePihu/DGxzbMZeU+PZFu+R2atbWojIXllJRMSYPKjbrSnf2RP0OOulAwDoLAQsgIuPRScLlaeEwkMkU7CwGEHeMhFbqCoiY7U4VUsozSXGSKVl8a0Mt8g0GmmTL5fJTESM4zTJvaW107wPEjF5UvGyTyu++6HvgvmqXs3LRpx6+10iCh8zWq7Venq2p91Q6F+dPcH2GwEAugIBC+CC0IUxXRgRkUzOUkeIbSzp9MCJKpAlZjRv+87PYpGJFJno1XDuZNpAIiLGxu3YeuaCBWeKmjI56qorK9es3Xrp+KgrJ8uDghr27TcePKQICU5/8Xlp7za4LBZp03nT2RMEADh/8N8ggD8KXf/+RCS43aYjzbfSzoKxIR++GzZ6lMtsrvh+dfGyTx21tfGzb7500wbJYldM3vxPNfcZccpyMl/Scv50+gQBAM4bBCyAPwpNYkLw4EFEVPD6f6W1NuQ89Uzdzl2D3/rvlWWnrqoonnBgz8BXFqvj4yTdOKVSfP7OmH1YUipfsVLScv6cwwkCAJwnCFgAfyD9n3uayeUV335/8J77GnPzxEZHXb3xwMHjLy48sehl3+5U8slnjOM0CQmC0ykpSejHXUpEJxe/0rB3n9jibDDmPPGvmq3bfPqdZ509QQCA8wRzsAD+QMJGj8p8+83sv88rX7GyfMVKplAwRryjOTzFzrjOtzvFXHN16Rdf7Zx6tadFplar4+MiJk5ImftAgF7vaU997JGaLdvsVVU7rpwWEBYqCwy0lVeQIAx+8/XDD873fIWobPkK48FDTqPRZTKbjx0jIlN29t6bZsuDguRBOkVQUOqj//Tcdqxcu652268uk8llMjWezCcia3HJnhtvUZzunDz3AUVwkNi5sycIAHCeIGAB/LHEXHN16PBhp977oHrT5qZTRYLLpU6I1yQkRE6eFH31dO+ejcdPCG43k8lIEGTiM4OC4LZaG4+faDx+ouL71WO3/KIIaX6fjzYt9ZINa08ueaV226/2mhpBEPQTxqc8+EDYqJH5r70heb9NxarvqtZv8G5xNhi9W/r+8x+egFW9fmPxx594SkTkbmqq3rDR8zHh9ls9AYs6c4IAAOcPEy7gQ9QA8HthzsndMWUqp5BnvvM//WXjPKuikyCYc3L3zpptLS1Lf+HZpLvu9NkNAACICHOwAKBVp955z93U1PveORGTJrakKyJiTJfeP3LKZCKylpa2tAMAgBcELABoha28nIgUoSHSAhERWQoKiEgZFSUtAAAAESFgAUCrdOnpRFT03gdilvKwVRiOPvJ4zaYtnFIZM32adwkAADwwBwsAWuGordtx5bSmwkIiCkxODtCHCzxvNxispWVEJFOrB/33tZg/Y844AEDrELAAoHUus7no/Q8r1623nDjharQwmUwRGqrtkxI+bmz8LTfh/iAAQDsQsAAAAAD8DHOwAAAAAPwMAQughzPnF+y6694fMrK+jo5fnTk855XXPKW1o8cdeXGR5+ORFxetHT3O89F84uSvt/11VXLa11FxqwcNzXvzbbG9nb3Wjh5X+PmXu++5/5v4lFUp/Xbdda/TZPL0LP5m1drR476Ojv9p2Ojc198U3G5PCQCgh8FK7gA9nEKnVcfGjHr/LXVUVPWu3Xv+Pj9k4ICYSROl/XxZDYaNV00PGZBxybKl6phoY06uSh8u7dSa/Q89mnbfPVdsWNNUWrbr7nuPLX5l8DNPEZFh46Y9Dy4Y9sqisKxM88n8PX+fx7tc6fPnSvcHAOgRELAAejhVZOTgfz8pbmuTex9/+736Q4fPGrDyly4jxi797GN5YCAR6VKSpT3aEJo5eMBjDxNRUFpq4ozra3bvEduPLlzS929/TZxxHRHpUpJTbr81/8OPELAAoKdCwALo4VwWS96bb5ev/dlSUiK43U6TOXbyJGmnM9RnHw7LyhLTVaeEDcn0bCtCgj23CBuO5dT8tsf7BiUR8U4n571MPABAT4GABdDD7Z7zgCn3+PDXl4RmDpapVD9f1ma6clksLR8EgXGs5WPbfPYiajWTCTzvbmoa+PgjSbNu8G5HugKAngoBC6CHq1i/cfDTT+pHjSQi3u5oPFXkKcl1OqfR6PloPJbj2Q7u37/w8y/dNptMpfI0itrZqy2M40IGZBhzcjWxsdIaAEBPhKcIAXo4bVKi4ZfNVoPBfOLkrjn3806npxQxakTR198YNm0xnTiR8+obnvlSRNTnr7e7bbYdt91Z89uexoJCw6Ytpat/Oute7ch45KGS7344uuhlY26e8VhO8TerTn31tbQTAEBPgYAF0MONePN1q6Fydebwzdf+RT9yeMptt3hK6Q/Nj554+c47714/YYrx6LGhi1/0lDRxvSau+Z4YbZ1x05rRY/fOW2CrqjrrXu3oddWUSz//uOLnDevHX7FhyrS8N9+Wq9XSTgAAPQVWcgcAAADwM4xgAQAAAPgZAhYAAACAnyFgAQAAAPgZAhYAAACAnyFgAQAAAPgZAhYAAACAnyFgAQAAAPgZAhYAAACAnyFgAQAAAPgZAhYAAACAnyFgAQAAAPgZAhYAAACAnyFgAQAAAPgZAhYAAACAnyFgAQAAAPgZAhYAAACAnyFgAQAAAPgZAhYAAACAnyFgAQAAAPgZAhYAAACAnyFgAQAAAPgZAhYAAACAnyFgAQAAAPgZAhYAAACAnyFgAQAAAPgZAhYAAACAnyFgAQAAAPgZAhYAAACAnyFgAQAAAPgZAhYAAACAnyFgAQAAAPgZAhYAAACAnyFgAQAAAPgZAhYAAACAnyFgAQAAAPgZAhYAAACAnyFgAQAAAPgZAhYAAACAnyFgAQAAAPgZAhYAAACAnyFgAQAAAPgZAhYAAACAnyFgAQAAAPjZ/wOnm/kfkpB8mwAAAABJRU5ErkJggg==",
         "type": "image",
         "xaxis": "x",
         "yaxis": "y"
        }
       ],
       "layout": {
        "margin": {
         "b": 0,
         "l": 0,
         "r": 0,
         "t": 50
        },
        "template": {
         "data": {
          "bar": [
           {
            "error_x": {
             "color": "#2a3f5f"
            },
            "error_y": {
             "color": "#2a3f5f"
            },
            "marker": {
             "line": {
              "color": "#E5ECF6",
              "width": 0.5
             },
             "pattern": {
              "fillmode": "overlay",
              "size": 10,
              "solidity": 0.2
             }
            },
            "type": "bar"
           }
          ],
          "barpolar": [
           {
            "marker": {
             "line": {
              "color": "#E5ECF6",
              "width": 0.5
             },
             "pattern": {
              "fillmode": "overlay",
              "size": 10,
              "solidity": 0.2
             }
            },
            "type": "barpolar"
           }
          ],
          "carpet": [
           {
            "aaxis": {
             "endlinecolor": "#2a3f5f",
             "gridcolor": "white",
             "linecolor": "white",
             "minorgridcolor": "white",
             "startlinecolor": "#2a3f5f"
            },
            "baxis": {
             "endlinecolor": "#2a3f5f",
             "gridcolor": "white",
             "linecolor": "white",
             "minorgridcolor": "white",
             "startlinecolor": "#2a3f5f"
            },
            "type": "carpet"
           }
          ],
          "choropleth": [
           {
            "colorbar": {
             "outlinewidth": 0,
             "ticks": ""
            },
            "type": "choropleth"
           }
          ],
          "contour": [
           {
            "colorbar": {
             "outlinewidth": 0,
             "ticks": ""
            },
            "colorscale": [
             [
              0,
              "#0d0887"
             ],
             [
              0.1111111111111111,
              "#46039f"
             ],
             [
              0.2222222222222222,
              "#7201a8"
             ],
             [
              0.3333333333333333,
              "#9c179e"
             ],
             [
              0.4444444444444444,
              "#bd3786"
             ],
             [
              0.5555555555555556,
              "#d8576b"
             ],
             [
              0.6666666666666666,
              "#ed7953"
             ],
             [
              0.7777777777777778,
              "#fb9f3a"
             ],
             [
              0.8888888888888888,
              "#fdca26"
             ],
             [
              1,
              "#f0f921"
             ]
            ],
            "type": "contour"
           }
          ],
          "contourcarpet": [
           {
            "colorbar": {
             "outlinewidth": 0,
             "ticks": ""
            },
            "type": "contourcarpet"
           }
          ],
          "heatmap": [
           {
            "colorbar": {
             "outlinewidth": 0,
             "ticks": ""
            },
            "colorscale": [
             [
              0,
              "#0d0887"
             ],
             [
              0.1111111111111111,
              "#46039f"
             ],
             [
              0.2222222222222222,
              "#7201a8"
             ],
             [
              0.3333333333333333,
              "#9c179e"
             ],
             [
              0.4444444444444444,
              "#bd3786"
             ],
             [
              0.5555555555555556,
              "#d8576b"
             ],
             [
              0.6666666666666666,
              "#ed7953"
             ],
             [
              0.7777777777777778,
              "#fb9f3a"
             ],
             [
              0.8888888888888888,
              "#fdca26"
             ],
             [
              1,
              "#f0f921"
             ]
            ],
            "type": "heatmap"
           }
          ],
          "heatmapgl": [
           {
            "colorbar": {
             "outlinewidth": 0,
             "ticks": ""
            },
            "colorscale": [
             [
              0,
              "#0d0887"
             ],
             [
              0.1111111111111111,
              "#46039f"
             ],
             [
              0.2222222222222222,
              "#7201a8"
             ],
             [
              0.3333333333333333,
              "#9c179e"
             ],
             [
              0.4444444444444444,
              "#bd3786"
             ],
             [
              0.5555555555555556,
              "#d8576b"
             ],
             [
              0.6666666666666666,
              "#ed7953"
             ],
             [
              0.7777777777777778,
              "#fb9f3a"
             ],
             [
              0.8888888888888888,
              "#fdca26"
             ],
             [
              1,
              "#f0f921"
             ]
            ],
            "type": "heatmapgl"
           }
          ],
          "histogram": [
           {
            "marker": {
             "pattern": {
              "fillmode": "overlay",
              "size": 10,
              "solidity": 0.2
             }
            },
            "type": "histogram"
           }
          ],
          "histogram2d": [
           {
            "colorbar": {
             "outlinewidth": 0,
             "ticks": ""
            },
            "colorscale": [
             [
              0,
              "#0d0887"
             ],
             [
              0.1111111111111111,
              "#46039f"
             ],
             [
              0.2222222222222222,
              "#7201a8"
             ],
             [
              0.3333333333333333,
              "#9c179e"
             ],
             [
              0.4444444444444444,
              "#bd3786"
             ],
             [
              0.5555555555555556,
              "#d8576b"
             ],
             [
              0.6666666666666666,
              "#ed7953"
             ],
             [
              0.7777777777777778,
              "#fb9f3a"
             ],
             [
              0.8888888888888888,
              "#fdca26"
             ],
             [
              1,
              "#f0f921"
             ]
            ],
            "type": "histogram2d"
           }
          ],
          "histogram2dcontour": [
           {
            "colorbar": {
             "outlinewidth": 0,
             "ticks": ""
            },
            "colorscale": [
             [
              0,
              "#0d0887"
             ],
             [
              0.1111111111111111,
              "#46039f"
             ],
             [
              0.2222222222222222,
              "#7201a8"
             ],
             [
              0.3333333333333333,
              "#9c179e"
             ],
             [
              0.4444444444444444,
              "#bd3786"
             ],
             [
              0.5555555555555556,
              "#d8576b"
             ],
             [
              0.6666666666666666,
              "#ed7953"
             ],
             [
              0.7777777777777778,
              "#fb9f3a"
             ],
             [
              0.8888888888888888,
              "#fdca26"
             ],
             [
              1,
              "#f0f921"
             ]
            ],
            "type": "histogram2dcontour"
           }
          ],
          "mesh3d": [
           {
            "colorbar": {
             "outlinewidth": 0,
             "ticks": ""
            },
            "type": "mesh3d"
           }
          ],
          "parcoords": [
           {
            "line": {
             "colorbar": {
              "outlinewidth": 0,
              "ticks": ""
             }
            },
            "type": "parcoords"
           }
          ],
          "pie": [
           {
            "automargin": true,
            "type": "pie"
           }
          ],
          "scatter": [
           {
            "fillpattern": {
             "fillmode": "overlay",
             "size": 10,
             "solidity": 0.2
            },
            "type": "scatter"
           }
          ],
          "scatter3d": [
           {
            "line": {
             "colorbar": {
              "outlinewidth": 0,
              "ticks": ""
             }
            },
            "marker": {
             "colorbar": {
              "outlinewidth": 0,
              "ticks": ""
             }
            },
            "type": "scatter3d"
           }
          ],
          "scattercarpet": [
           {
            "marker": {
             "colorbar": {
              "outlinewidth": 0,
              "ticks": ""
             }
            },
            "type": "scattercarpet"
           }
          ],
          "scattergeo": [
           {
            "marker": {
             "colorbar": {
              "outlinewidth": 0,
              "ticks": ""
             }
            },
            "type": "scattergeo"
           }
          ],
          "scattergl": [
           {
            "marker": {
             "colorbar": {
              "outlinewidth": 0,
              "ticks": ""
             }
            },
            "type": "scattergl"
           }
          ],
          "scattermapbox": [
           {
            "marker": {
             "colorbar": {
              "outlinewidth": 0,
              "ticks": ""
             }
            },
            "type": "scattermapbox"
           }
          ],
          "scatterpolar": [
           {
            "marker": {
             "colorbar": {
              "outlinewidth": 0,
              "ticks": ""
             }
            },
            "type": "scatterpolar"
           }
          ],
          "scatterpolargl": [
           {
            "marker": {
             "colorbar": {
              "outlinewidth": 0,
              "ticks": ""
             }
            },
            "type": "scatterpolargl"
           }
          ],
          "scatterternary": [
           {
            "marker": {
             "colorbar": {
              "outlinewidth": 0,
              "ticks": ""
             }
            },
            "type": "scatterternary"
           }
          ],
          "surface": [
           {
            "colorbar": {
             "outlinewidth": 0,
             "ticks": ""
            },
            "colorscale": [
             [
              0,
              "#0d0887"
             ],
             [
              0.1111111111111111,
              "#46039f"
             ],
             [
              0.2222222222222222,
              "#7201a8"
             ],
             [
              0.3333333333333333,
              "#9c179e"
             ],
             [
              0.4444444444444444,
              "#bd3786"
             ],
             [
              0.5555555555555556,
              "#d8576b"
             ],
             [
              0.6666666666666666,
              "#ed7953"
             ],
             [
              0.7777777777777778,
              "#fb9f3a"
             ],
             [
              0.8888888888888888,
              "#fdca26"
             ],
             [
              1,
              "#f0f921"
             ]
            ],
            "type": "surface"
           }
          ],
          "table": [
           {
            "cells": {
             "fill": {
              "color": "#EBF0F8"
             },
             "line": {
              "color": "white"
             }
            },
            "header": {
             "fill": {
              "color": "#C8D4E3"
             },
             "line": {
              "color": "white"
             }
            },
            "type": "table"
           }
          ]
         },
         "layout": {
          "annotationdefaults": {
           "arrowcolor": "#2a3f5f",
           "arrowhead": 0,
           "arrowwidth": 1
          },
          "autotypenumbers": "strict",
          "coloraxis": {
           "colorbar": {
            "outlinewidth": 0,
            "ticks": ""
           }
          },
          "colorscale": {
           "diverging": [
            [
             0,
             "#8e0152"
            ],
            [
             0.1,
             "#c51b7d"
            ],
            [
             0.2,
             "#de77ae"
            ],
            [
             0.3,
             "#f1b6da"
            ],
            [
             0.4,
             "#fde0ef"
            ],
            [
             0.5,
             "#f7f7f7"
            ],
            [
             0.6,
             "#e6f5d0"
            ],
            [
             0.7,
             "#b8e186"
            ],
            [
             0.8,
             "#7fbc41"
            ],
            [
             0.9,
             "#4d9221"
            ],
            [
             1,
             "#276419"
            ]
           ],
           "sequential": [
            [
             0,
             "#0d0887"
            ],
            [
             0.1111111111111111,
             "#46039f"
            ],
            [
             0.2222222222222222,
             "#7201a8"
            ],
            [
             0.3333333333333333,
             "#9c179e"
            ],
            [
             0.4444444444444444,
             "#bd3786"
            ],
            [
             0.5555555555555556,
             "#d8576b"
            ],
            [
             0.6666666666666666,
             "#ed7953"
            ],
            [
             0.7777777777777778,
             "#fb9f3a"
            ],
            [
             0.8888888888888888,
             "#fdca26"
            ],
            [
             1,
             "#f0f921"
            ]
           ],
           "sequentialminus": [
            [
             0,
             "#0d0887"
            ],
            [
             0.1111111111111111,
             "#46039f"
            ],
            [
             0.2222222222222222,
             "#7201a8"
            ],
            [
             0.3333333333333333,
             "#9c179e"
            ],
            [
             0.4444444444444444,
             "#bd3786"
            ],
            [
             0.5555555555555556,
             "#d8576b"
            ],
            [
             0.6666666666666666,
             "#ed7953"
            ],
            [
             0.7777777777777778,
             "#fb9f3a"
            ],
            [
             0.8888888888888888,
             "#fdca26"
            ],
            [
             1,
             "#f0f921"
            ]
           ]
          },
          "colorway": [
           "#636efa",
           "#EF553B",
           "#00cc96",
           "#ab63fa",
           "#FFA15A",
           "#19d3f3",
           "#FF6692",
           "#B6E880",
           "#FF97FF",
           "#FECB52"
          ],
          "font": {
           "color": "#2a3f5f"
          },
          "geo": {
           "bgcolor": "white",
           "lakecolor": "white",
           "landcolor": "#E5ECF6",
           "showlakes": true,
           "showland": true,
           "subunitcolor": "white"
          },
          "hoverlabel": {
           "align": "left"
          },
          "hovermode": "closest",
          "mapbox": {
           "style": "light"
          },
          "paper_bgcolor": "white",
          "plot_bgcolor": "#E5ECF6",
          "polar": {
           "angularaxis": {
            "gridcolor": "white",
            "linecolor": "white",
            "ticks": ""
           },
           "bgcolor": "#E5ECF6",
           "radialaxis": {
            "gridcolor": "white",
            "linecolor": "white",
            "ticks": ""
           }
          },
          "scene": {
           "xaxis": {
            "backgroundcolor": "#E5ECF6",
            "gridcolor": "white",
            "gridwidth": 2,
            "linecolor": "white",
            "showbackground": true,
            "ticks": "",
            "zerolinecolor": "white"
           },
           "yaxis": {
            "backgroundcolor": "#E5ECF6",
            "gridcolor": "white",
            "gridwidth": 2,
            "linecolor": "white",
            "showbackground": true,
            "ticks": "",
            "zerolinecolor": "white"
           },
           "zaxis": {
            "backgroundcolor": "#E5ECF6",
            "gridcolor": "white",
            "gridwidth": 2,
            "linecolor": "white",
            "showbackground": true,
            "ticks": "",
            "zerolinecolor": "white"
           }
          },
          "shapedefaults": {
           "line": {
            "color": "#2a3f5f"
           }
          },
          "ternary": {
           "aaxis": {
            "gridcolor": "white",
            "linecolor": "white",
            "ticks": ""
           },
           "baxis": {
            "gridcolor": "white",
            "linecolor": "white",
            "ticks": ""
           },
           "bgcolor": "#E5ECF6",
           "caxis": {
            "gridcolor": "white",
            "linecolor": "white",
            "ticks": ""
           }
          },
          "title": {
           "x": 0.05
          },
          "xaxis": {
           "automargin": true,
           "gridcolor": "white",
           "linecolor": "white",
           "ticks": "",
           "title": {
            "standoff": 15
           },
           "zerolinecolor": "white",
           "zerolinewidth": 2
          },
          "yaxis": {
           "automargin": true,
           "gridcolor": "white",
           "linecolor": "white",
           "ticks": "",
           "title": {
            "standoff": 15
           },
           "zerolinecolor": "white",
           "zerolinewidth": 2
          }
         }
        },
        "xaxis": {
         "anchor": "y",
         "domain": [
          0,
          1
         ],
         "visible": false
        },
        "yaxis": {
         "anchor": "x",
         "domain": [
          0,
          1
         ],
         "visible": false
        }
       }
      }
     },
     "metadata": {},
     "output_type": "display_data"
    }
   ],
   "source": [
    "# Tester avec une autre palette, par exemple 'Blues', sans masque\n",
    "fig = generate_wordcloud(\n",
    "    column_data = df[df['ÉLIGIBILITÉ_AU_DON.'] == 'Définitivement non-eligible']['Si autres raison préciser'].dropna(),\n",
    "    colormap='Reds',\n",
    "    mask_path='heart.png'\n",
    ")\n",
    "\n",
    "# Afficher le graphique\n",
    "fig.show()"
   ]
  },
  {
   "cell_type": "code",
   "execution_count": null,
   "metadata": {},
   "outputs": [],
   "source": []
  }
 ],
 "metadata": {
  "kernelspec": {
   "display_name": ".venv",
   "language": "python",
   "name": "python3"
  },
  "language_info": {
   "codemirror_mode": {
    "name": "ipython",
    "version": 3
   },
   "file_extension": ".py",
   "mimetype": "text/x-python",
   "name": "python",
   "nbconvert_exporter": "python",
   "pygments_lexer": "ipython3",
   "version": "3.10.11"
  }
 },
 "nbformat": 4,
 "nbformat_minor": 2
}
